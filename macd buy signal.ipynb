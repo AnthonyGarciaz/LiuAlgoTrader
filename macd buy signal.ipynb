{
 "cells": [
  {
   "cell_type": "code",
   "execution_count": 102,
   "metadata": {},
   "outputs": [],
   "source": [
    "import time\n",
    "from datetime import datetime, timedelta, date\n",
    "%matplotlib inline\n",
    "import matplotlib.pyplot as plt\n",
    "import pandas as pd\n",
    "import alpaca_trade_api as tradeapi\n",
    "import numpy as np\n",
    "import requests\n",
    "from talib import MACD"
   ]
  },
  {
   "cell_type": "code",
   "execution_count": 103,
   "metadata": {},
   "outputs": [],
   "source": [
    "base_url = \"https://api.alpaca.markets\"\n",
    "api_key_id = \"AKVKN4TLUUS5MZO5KYLM\"\n",
    "api_secret = \"nkK2UmvE1kTFFw1ZlaqDmwCyiuCu7OOeB5y2La/X\""
   ]
  },
  {
   "cell_type": "code",
   "execution_count": 104,
   "metadata": {},
   "outputs": [],
   "source": [
    "api = tradeapi.REST(\n",
    "    base_url=base_url, key_id=api_key_id, secret_key=api_secret\n",
    ")"
   ]
  },
  {
   "cell_type": "code",
   "execution_count": 105,
   "metadata": {},
   "outputs": [],
   "source": [
    "session = requests.session()"
   ]
  },
  {
   "cell_type": "code",
   "execution_count": 106,
   "metadata": {},
   "outputs": [],
   "source": [
    "minute_history = api.polygon.historic_agg_v2(\n",
    "    'RAD', 1, 'minute', _from = date.today() - timedelta(days=10), to=date.today() + timedelta(days=1), limit=1000).df"
   ]
  },
  {
   "cell_type": "code",
   "execution_count": 109,
   "metadata": {
    "scrolled": true
   },
   "outputs": [
    {
     "data": {
      "text/html": [
       "<div>\n",
       "<style scoped>\n",
       "    .dataframe tbody tr th:only-of-type {\n",
       "        vertical-align: middle;\n",
       "    }\n",
       "\n",
       "    .dataframe tbody tr th {\n",
       "        vertical-align: top;\n",
       "    }\n",
       "\n",
       "    .dataframe thead th {\n",
       "        text-align: right;\n",
       "    }\n",
       "</style>\n",
       "<table border=\"1\" class=\"dataframe\">\n",
       "  <thead>\n",
       "    <tr style=\"text-align: right;\">\n",
       "      <th></th>\n",
       "      <th>open</th>\n",
       "      <th>high</th>\n",
       "      <th>low</th>\n",
       "      <th>close</th>\n",
       "      <th>volume</th>\n",
       "    </tr>\n",
       "    <tr>\n",
       "      <th>timestamp</th>\n",
       "      <th></th>\n",
       "      <th></th>\n",
       "      <th></th>\n",
       "      <th></th>\n",
       "      <th></th>\n",
       "    </tr>\n",
       "  </thead>\n",
       "  <tbody>\n",
       "    <tr>\n",
       "      <th>2019-12-17 10:18:00-05:00</th>\n",
       "      <td>7.7000</td>\n",
       "      <td>7.7024</td>\n",
       "      <td>7.6900</td>\n",
       "      <td>7.6933</td>\n",
       "      <td>4054.0</td>\n",
       "    </tr>\n",
       "    <tr>\n",
       "      <th>2019-12-17 10:19:00-05:00</th>\n",
       "      <td>7.6950</td>\n",
       "      <td>7.6950</td>\n",
       "      <td>7.6850</td>\n",
       "      <td>7.6850</td>\n",
       "      <td>1713.0</td>\n",
       "    </tr>\n",
       "    <tr>\n",
       "      <th>2019-12-17 10:20:00-05:00</th>\n",
       "      <td>7.6900</td>\n",
       "      <td>7.6900</td>\n",
       "      <td>7.6700</td>\n",
       "      <td>7.6700</td>\n",
       "      <td>4103.0</td>\n",
       "    </tr>\n",
       "    <tr>\n",
       "      <th>2019-12-17 10:21:00-05:00</th>\n",
       "      <td>7.6800</td>\n",
       "      <td>7.6800</td>\n",
       "      <td>7.6690</td>\n",
       "      <td>7.6694</td>\n",
       "      <td>1017.0</td>\n",
       "    </tr>\n",
       "    <tr>\n",
       "      <th>2019-12-17 10:22:00-05:00</th>\n",
       "      <td>7.6700</td>\n",
       "      <td>7.6700</td>\n",
       "      <td>7.6500</td>\n",
       "      <td>7.6700</td>\n",
       "      <td>10666.0</td>\n",
       "    </tr>\n",
       "    <tr>\n",
       "      <th>...</th>\n",
       "      <td>...</td>\n",
       "      <td>...</td>\n",
       "      <td>...</td>\n",
       "      <td>...</td>\n",
       "      <td>...</td>\n",
       "    </tr>\n",
       "    <tr>\n",
       "      <th>2019-12-19 11:00:00-05:00</th>\n",
       "      <td>12.2365</td>\n",
       "      <td>12.3000</td>\n",
       "      <td>12.2310</td>\n",
       "      <td>12.2900</td>\n",
       "      <td>52772.0</td>\n",
       "    </tr>\n",
       "    <tr>\n",
       "      <th>2019-12-19 11:01:00-05:00</th>\n",
       "      <td>12.2801</td>\n",
       "      <td>12.3300</td>\n",
       "      <td>12.2801</td>\n",
       "      <td>12.3279</td>\n",
       "      <td>51498.0</td>\n",
       "    </tr>\n",
       "    <tr>\n",
       "      <th>2019-12-19 11:02:00-05:00</th>\n",
       "      <td>12.3299</td>\n",
       "      <td>12.3299</td>\n",
       "      <td>12.2803</td>\n",
       "      <td>12.3286</td>\n",
       "      <td>26987.0</td>\n",
       "    </tr>\n",
       "    <tr>\n",
       "      <th>2019-12-19 11:03:00-05:00</th>\n",
       "      <td>12.3300</td>\n",
       "      <td>12.4000</td>\n",
       "      <td>12.3000</td>\n",
       "      <td>12.3688</td>\n",
       "      <td>140326.0</td>\n",
       "    </tr>\n",
       "    <tr>\n",
       "      <th>2019-12-19 11:04:00-05:00</th>\n",
       "      <td>12.3777</td>\n",
       "      <td>12.4500</td>\n",
       "      <td>12.3600</td>\n",
       "      <td>12.4500</td>\n",
       "      <td>135985.0</td>\n",
       "    </tr>\n",
       "  </tbody>\n",
       "</table>\n",
       "<p>1000 rows × 5 columns</p>\n",
       "</div>"
      ],
      "text/plain": [
       "                              open     high      low    close    volume\n",
       "timestamp                                                              \n",
       "2019-12-17 10:18:00-05:00   7.7000   7.7024   7.6900   7.6933    4054.0\n",
       "2019-12-17 10:19:00-05:00   7.6950   7.6950   7.6850   7.6850    1713.0\n",
       "2019-12-17 10:20:00-05:00   7.6900   7.6900   7.6700   7.6700    4103.0\n",
       "2019-12-17 10:21:00-05:00   7.6800   7.6800   7.6690   7.6694    1017.0\n",
       "2019-12-17 10:22:00-05:00   7.6700   7.6700   7.6500   7.6700   10666.0\n",
       "...                            ...      ...      ...      ...       ...\n",
       "2019-12-19 11:00:00-05:00  12.2365  12.3000  12.2310  12.2900   52772.0\n",
       "2019-12-19 11:01:00-05:00  12.2801  12.3300  12.2801  12.3279   51498.0\n",
       "2019-12-19 11:02:00-05:00  12.3299  12.3299  12.2803  12.3286   26987.0\n",
       "2019-12-19 11:03:00-05:00  12.3300  12.4000  12.3000  12.3688  140326.0\n",
       "2019-12-19 11:04:00-05:00  12.3777  12.4500  12.3600  12.4500  135985.0\n",
       "\n",
       "[1000 rows x 5 columns]"
      ]
     },
     "execution_count": 109,
     "metadata": {},
     "output_type": "execute_result"
    }
   ],
   "source": [
    "minute_history[:1000]"
   ]
  },
  {
   "cell_type": "code",
   "execution_count": 110,
   "metadata": {
    "scrolled": true
   },
   "outputs": [
    {
     "data": {
      "text/plain": [
       "<matplotlib.axes._subplots.AxesSubplot at 0x114857490>"
      ]
     },
     "execution_count": 110,
     "metadata": {},
     "output_type": "execute_result"
    },
    {
     "data": {
      "image/png": "[encoded data removed]",
      "text/plain": [
       "<Figure size 432x288 with 1 Axes>"
      ]
     },
     "metadata": {
      "needs_background": "light"
     },
     "output_type": "display_data"
    }
   ],
   "source": [
    "minute_history[:1000].plot.line()"
   ]
  },
  {
   "cell_type": "code",
   "execution_count": 111,
   "metadata": {},
   "outputs": [],
   "source": [
    "m = MACD(minute_history[:1000][\"close\"].dropna())"
   ]
  },
  {
   "cell_type": "code",
   "execution_count": 112,
   "metadata": {},
   "outputs": [
    {
     "data": {
      "text/plain": [
       "timestamp\n",
       "2019-12-17 10:18:00-05:00         NaN\n",
       "2019-12-17 10:19:00-05:00         NaN\n",
       "2019-12-17 10:20:00-05:00         NaN\n",
       "2019-12-17 10:21:00-05:00         NaN\n",
       "2019-12-17 10:22:00-05:00         NaN\n",
       "                               ...   \n",
       "2019-12-19 11:00:00-05:00    0.065632\n",
       "2019-12-19 11:01:00-05:00    0.067926\n",
       "2019-12-19 11:02:00-05:00    0.069006\n",
       "2019-12-19 11:03:00-05:00    0.072272\n",
       "2019-12-19 11:04:00-05:00    0.080485\n",
       "Length: 1000, dtype: float64"
      ]
     },
     "execution_count": 112,
     "metadata": {},
     "output_type": "execute_result"
    }
   ],
   "source": [
    "m[0]"
   ]
  },
  {
   "cell_type": "code",
   "execution_count": 113,
   "metadata": {},
   "outputs": [
    {
     "data": {
      "text/plain": [
       "<matplotlib.axes._subplots.AxesSubplot at 0x11493fa60>"
      ]
     },
     "execution_count": 113,
     "metadata": {},
     "output_type": "execute_result"
    },
    {
     "data": {
      "image/png": "[encoded data removed]",
      "text/plain": [
       "<Figure size 432x288 with 1 Axes>"
      ]
     },
     "metadata": {
      "needs_background": "light"
     },
     "output_type": "display_data"
    }
   ],
   "source": [
    "m[0].plot.line()"
   ]
  },
  {
   "cell_type": "code",
   "execution_count": 117,
   "metadata": {},
   "outputs": [],
   "source": [
    "hist = MACD(minute_history[\"close\"].dropna(), 40, 60)[0]"
   ]
  },
  {
   "cell_type": "code",
   "execution_count": 118,
   "metadata": {},
   "outputs": [
    {
     "data": {
      "text/plain": [
       "timestamp\n",
       "2019-12-17 10:18:00-05:00         NaN\n",
       "2019-12-17 10:19:00-05:00         NaN\n",
       "2019-12-17 10:20:00-05:00         NaN\n",
       "2019-12-17 10:21:00-05:00         NaN\n",
       "2019-12-17 10:22:00-05:00         NaN\n",
       "                               ...   \n",
       "2019-12-19 11:00:00-05:00    0.131857\n",
       "2019-12-19 11:01:00-05:00    0.131439\n",
       "2019-12-19 11:02:00-05:00    0.130856\n",
       "2019-12-19 11:03:00-05:00    0.130753\n",
       "2019-12-19 11:04:00-05:00    0.131748\n",
       "Length: 1000, dtype: float64"
      ]
     },
     "execution_count": 118,
     "metadata": {},
     "output_type": "execute_result"
    }
   ],
   "source": [
    "hist"
   ]
  },
  {
   "cell_type": "code",
   "execution_count": 119,
   "metadata": {},
   "outputs": [
    {
     "data": {
      "text/plain": [
       "<matplotlib.axes._subplots.AxesSubplot at 0x114af6ca0>"
      ]
     },
     "execution_count": 119,
     "metadata": {},
     "output_type": "execute_result"
    },
    {
     "data": {
      "image/png": "[encoded data removed]",
      "text/plain": [
       "<Figure size 432x288 with 1 Axes>"
      ]
     },
     "metadata": {
      "needs_background": "light"
     },
     "output_type": "display_data"
    }
   ],
   "source": [
    "hist.plot.line()"
   ]
  },
  {
   "cell_type": "code",
   "execution_count": 120,
   "metadata": {},
   "outputs": [],
   "source": [
    "if hist[-1] < 0 or np.diff(hist)[-1] < 0:\n",
    "    print(\"no\")"
   ]
  },
  {
   "cell_type": "code",
   "execution_count": 121,
   "metadata": {},
   "outputs": [
    {
     "data": {
      "text/plain": [
       "array([-0.00034768, -0.00085921, -0.00068872, -0.00133043, -0.00159884,\n",
       "       -0.0008836 , -0.00041767, -0.00058329, -0.00010299,  0.0009948 ])"
      ]
     },
     "execution_count": 121,
     "metadata": {},
     "output_type": "execute_result"
    }
   ],
   "source": [
    "np.diff(hist)[-10:]"
   ]
  },
  {
   "cell_type": "code",
   "execution_count": null,
   "metadata": {},
   "outputs": [],
   "source": []
  }
 ],
 "metadata": {
  "kernelspec": {
   "display_name": "Python 3",
   "language": "python",
   "name": "python3"
  },
  "language_info": {
   "codemirror_mode": {
    "name": "ipython",
    "version": 3
   },
   "file_extension": ".py",
   "mimetype": "text/x-python",
   "name": "python",
   "nbconvert_exporter": "python",
   "pygments_lexer": "ipython3",
   "version": "3.8.0"
  }
 },
 "nbformat": 4,
 "nbformat_minor": 2
}
