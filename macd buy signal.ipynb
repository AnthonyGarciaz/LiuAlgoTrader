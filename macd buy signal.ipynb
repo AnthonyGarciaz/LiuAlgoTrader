{
 "cells": [
  {
   "cell_type": "code",
   "execution_count": 1,
   "metadata": {},
   "outputs": [],
   "source": [
    "import time\n",
    "from datetime import datetime, timedelta, date\n",
    "%matplotlib inline\n",
    "import matplotlib.pyplot as plt\n",
    "import pandas as pd\n",
    "import alpaca_trade_api as tradeapi\n",
    "import numpy as np\n",
    "import requests\n",
    "from talib import MACD, RSI"
   ]
  },
  {
   "cell_type": "code",
   "execution_count": 2,
   "metadata": {},
   "outputs": [],
   "source": [
    "base_url = \"https://api.alpaca.markets\"\n",
    "api_key_id = \"AKVKN4TLUUS5MZO5KYLM\"\n",
    "api_secret = \"nkK2UmvE1kTFFw1ZlaqDmwCyiuCu7OOeB5y2La/X\""
   ]
  },
  {
   "cell_type": "code",
   "execution_count": 3,
   "metadata": {},
   "outputs": [],
   "source": [
    "api = tradeapi.REST(\n",
    "    base_url=base_url, key_id=api_key_id, secret_key=api_secret\n",
    ")"
   ]
  },
  {
   "cell_type": "code",
   "execution_count": 4,
   "metadata": {},
   "outputs": [],
   "source": [
    "session = requests.session()"
   ]
  },
  {
   "cell_type": "code",
   "execution_count": 5,
   "metadata": {},
   "outputs": [],
   "source": [
    "minute_history = api.polygon.historic_agg_v2(\n",
    "    'CBLI', 1, 'minute', _from = date.today() - timedelta(days=30), to=date.today() + timedelta(days=1), limit=5000).df"
   ]
  },
  {
   "cell_type": "code",
   "execution_count": 13,
   "metadata": {
    "scrolled": true
   },
   "outputs": [],
   "source": [
    "low = minute_history[:4670][\"low\"]"
   ]
  },
  {
   "cell_type": "code",
   "execution_count": 14,
   "metadata": {},
   "outputs": [],
   "source": [
    "series = low[-100:].dropna().resample(\"5min\").min()"
   ]
  },
  {
   "cell_type": "code",
   "execution_count": 15,
   "metadata": {},
   "outputs": [
    {
     "data": {
      "text/plain": [
       "timestamp\n",
       "2020-03-05 16:00:00-05:00    2.9000\n",
       "2020-03-05 16:05:00-05:00       NaN\n",
       "2020-03-05 16:10:00-05:00       NaN\n",
       "2020-03-05 16:15:00-05:00       NaN\n",
       "2020-03-05 16:20:00-05:00    2.9000\n",
       "                              ...  \n",
       "2020-03-06 10:10:00-05:00    3.2200\n",
       "2020-03-06 10:15:00-05:00    3.3000\n",
       "2020-03-06 10:20:00-05:00    3.3506\n",
       "2020-03-06 10:25:00-05:00    3.4483\n",
       "2020-03-06 10:30:00-05:00    3.5500\n",
       "Freq: 5T, Name: low, Length: 223, dtype: float64"
      ]
     },
     "execution_count": 15,
     "metadata": {},
     "output_type": "execute_result"
    }
   ],
   "source": [
    "series"
   ]
  },
  {
   "cell_type": "code",
   "execution_count": 28,
   "metadata": {
    "scrolled": true
   },
   "outputs": [],
   "source": [
    "diff = np.diff(series.values)"
   ]
  },
  {
   "cell_type": "code",
   "execution_count": 29,
   "metadata": {},
   "outputs": [
    {
     "data": {
      "text/plain": [
       "array([    nan,     nan,     nan,     nan,     nan,     nan,  0.05  ,\n",
       "        0.    , -0.0599,  0.0599,  0.    ,  0.    ,     nan,     nan,\n",
       "           nan,     nan,     nan,     nan,     nan,     nan,     nan,\n",
       "           nan,     nan,     nan,     nan,     nan,     nan,     nan,\n",
       "           nan,     nan,     nan,     nan,     nan,     nan,     nan,\n",
       "           nan,     nan,     nan,     nan,     nan,     nan,     nan,\n",
       "           nan, -0.09  ,     nan,     nan,  0.    ,     nan,     nan,\n",
       "           nan,     nan,     nan,     nan,     nan,     nan,     nan,\n",
       "           nan,     nan,     nan,     nan,     nan,     nan,     nan,\n",
       "           nan,     nan,     nan,     nan,     nan,     nan,     nan,\n",
       "           nan,     nan,     nan,     nan,     nan,     nan,     nan,\n",
       "           nan,     nan,     nan,     nan,     nan,     nan,     nan,\n",
       "           nan,     nan,     nan,     nan,     nan,     nan,     nan,\n",
       "           nan,     nan,     nan,     nan,     nan,     nan,     nan,\n",
       "           nan,     nan,     nan,     nan,     nan,     nan,     nan,\n",
       "           nan,     nan,     nan,     nan,     nan,     nan,     nan,\n",
       "           nan,     nan,     nan,     nan,     nan,     nan,     nan,\n",
       "           nan,     nan,     nan,     nan,     nan,     nan,     nan,\n",
       "           nan,     nan,     nan,     nan,     nan,     nan,     nan,\n",
       "           nan,     nan,     nan,     nan,     nan,     nan,     nan,\n",
       "           nan,     nan,     nan,     nan,     nan,     nan,     nan,\n",
       "           nan,     nan,     nan,     nan,     nan,     nan,     nan,\n",
       "           nan,     nan,     nan,     nan,     nan,     nan,     nan,\n",
       "           nan,     nan,     nan,     nan,     nan,     nan,     nan,\n",
       "           nan,     nan,     nan,     nan,     nan,     nan,     nan,\n",
       "           nan,     nan,     nan,     nan,     nan,     nan,     nan,\n",
       "           nan,     nan,     nan,     nan,     nan,     nan,     nan,\n",
       "           nan,     nan, -0.0401,  0.1201,     nan,     nan,     nan,\n",
       "           nan,     nan,     nan,     nan,     nan,     nan,  0.02  ,\n",
       "        0.    ,     nan,     nan,  0.0007,     nan,     nan, -0.1997,\n",
       "        0.01  ,  0.04  ,  0.0448,  0.0552,  0.02  ,  0.08  ,  0.0478,\n",
       "        0.0222,  0.08  ,  0.0506,  0.0977,  0.1017])"
      ]
     },
     "execution_count": 29,
     "metadata": {},
     "output_type": "execute_result"
    }
   ],
   "source": [
    "diff"
   ]
  },
  {
   "cell_type": "code",
   "execution_count": 32,
   "metadata": {},
   "outputs": [
    {
     "name": "stderr",
     "output_type": "stream",
     "text": [
      "<ipython-input-32-ef01cdcd5652>:1: RuntimeWarning: invalid value encountered in less_equal\n",
      "  low_index = np.where((diff[:-1] <= 0) & (diff[1:] > 0))[0] + 1\n",
      "<ipython-input-32-ef01cdcd5652>:1: RuntimeWarning: invalid value encountered in greater\n",
      "  low_index = np.where((diff[:-1] <= 0) & (diff[1:] > 0))[0] + 1\n"
     ]
    }
   ],
   "source": [
    "low_index = np.where((diff[:-1] <= 0) & (diff[1:] > 0))[0] + 1"
   ]
  },
  {
   "cell_type": "code",
   "execution_count": 33,
   "metadata": {},
   "outputs": [
    {
     "data": {
      "text/plain": [
       "array([  9, 192, 210])"
      ]
     },
     "execution_count": 33,
     "metadata": {},
     "output_type": "execute_result"
    }
   ],
   "source": [
    "low_index"
   ]
  },
  {
   "cell_type": "code",
   "execution_count": 35,
   "metadata": {},
   "outputs": [
    {
     "data": {
      "text/plain": [
       "210"
      ]
     },
     "execution_count": 35,
     "metadata": {},
     "output_type": "execute_result"
    }
   ],
   "source": [
    "low_index[-1]"
   ]
  },
  {
   "cell_type": "code",
   "execution_count": 38,
   "metadata": {},
   "outputs": [
    {
     "data": {
      "text/plain": [
       "2.9"
      ]
     },
     "execution_count": 38,
     "metadata": {},
     "output_type": "execute_result"
    }
   ],
   "source": [
    "series[210]"
   ]
  },
  {
   "cell_type": "code",
   "execution_count": 81,
   "metadata": {},
   "outputs": [],
   "source": [
    "c_macd = MACD(data[\"close\"]\n",
    "                .dropna()\n",
    "                .between_time(\"9:30\", \"16:00\"),\n",
    "                13,\n",
    "                21,\n",
    "            )"
   ]
  },
  {
   "cell_type": "code",
   "execution_count": 89,
   "metadata": {},
   "outputs": [
    {
     "data": {
      "text/plain": [
       "0.01591870694289632"
      ]
     },
     "execution_count": 89,
     "metadata": {},
     "output_type": "execute_result"
    }
   ],
   "source": [
    "c_macd[0][-1]"
   ]
  },
  {
   "cell_type": "markdown",
   "metadata": {},
   "source": [
    "c_macd[1]"
   ]
  },
  {
   "cell_type": "code",
   "execution_count": 90,
   "metadata": {},
   "outputs": [
    {
     "data": {
      "text/plain": [
       "0.019454334795311383"
      ]
     },
     "execution_count": 90,
     "metadata": {},
     "output_type": "execute_result"
    }
   ],
   "source": [
    "c_macd[1][-1]"
   ]
  },
  {
   "cell_type": "code",
   "execution_count": 68,
   "metadata": {},
   "outputs": [
    {
     "data": {
      "text/plain": [
       "<matplotlib.axes._subplots.AxesSubplot at 0x11afdedf0>"
      ]
     },
     "execution_count": 68,
     "metadata": {},
     "output_type": "execute_result"
    },
    {
     "data": {
      "image/png": "[encoded data removed]",
      "text/plain": [
       "<Figure size 432x288 with 1 Axes>"
      ]
     },
     "metadata": {
      "needs_background": "light"
     },
     "output_type": "display_data"
    }
   ],
   "source": [
    "c_macd[\"close\"].plot.line()"
   ]
  },
  {
   "cell_type": "code",
   "execution_count": 13,
   "metadata": {
    "scrolled": true
   },
   "outputs": [
    {
     "data": {
      "text/plain": [
       "<matplotlib.axes._subplots.AxesSubplot at 0x118e201f0>"
      ]
     },
     "execution_count": 13,
     "metadata": {},
     "output_type": "execute_result"
    },
    {
     "data": {
      "image/png": "[encoded data removed]",
      "text/plain": [
       "<Figure size 432x288 with 1 Axes>"
      ]
     },
     "metadata": {
      "needs_background": "light"
     },
     "output_type": "display_data"
    }
   ],
   "source": [
    "minute_history[:984].plot.line()"
   ]
  },
  {
   "cell_type": "code",
   "execution_count": 112,
   "metadata": {},
   "outputs": [],
   "source": [
    "rsi = RSI(minute_history[\"close\"][:4650].dropna()\n",
    "                .between_time(\"9:30\", \"16:00\"), 14)"
   ]
  },
  {
   "cell_type": "code",
   "execution_count": 107,
   "metadata": {},
   "outputs": [
    {
     "data": {
      "text/plain": [
       "timestamp\n",
       "2019-12-31 12:01:00-05:00    3.910\n",
       "2019-12-31 12:02:00-05:00    3.910\n",
       "2019-12-31 12:03:00-05:00    3.900\n",
       "2019-12-31 12:04:00-05:00    3.900\n",
       "2019-12-31 12:06:00-05:00    3.900\n",
       "                             ...  \n",
       "2020-01-06 14:30:00-05:00    3.895\n",
       "2020-01-06 14:31:00-05:00    3.895\n",
       "2020-01-06 14:32:00-05:00    3.900\n",
       "2020-01-06 14:33:00-05:00    3.900\n",
       "2020-01-06 14:34:00-05:00    3.890\n",
       "Name: close, Length: 988, dtype: float64"
      ]
     },
     "execution_count": 107,
     "metadata": {},
     "output_type": "execute_result"
    }
   ],
   "source": [
    "minute_history[:988][\"close\"].dropna()"
   ]
  },
  {
   "cell_type": "code",
   "execution_count": 113,
   "metadata": {},
   "outputs": [
    {
     "data": {
      "text/plain": [
       "timestamp\n",
       "2020-01-24 10:04:00-05:00    72.010047\n",
       "2020-01-24 10:05:00-05:00    73.915696\n",
       "2020-01-24 10:06:00-05:00    76.238624\n",
       "2020-01-24 10:07:00-05:00    77.325904\n",
       "2020-01-24 10:08:00-05:00    68.844573\n",
       "2020-01-24 10:09:00-05:00    69.563603\n",
       "2020-01-24 10:10:00-05:00    70.301726\n",
       "2020-01-24 10:11:00-05:00    77.388284\n",
       "2020-01-24 10:12:00-05:00    77.388284\n",
       "2020-01-24 10:13:00-05:00    78.385233\n",
       "dtype: float64"
      ]
     },
     "execution_count": 113,
     "metadata": {},
     "output_type": "execute_result"
    }
   ],
   "source": [
    "rsi[-10:]"
   ]
  },
  {
   "cell_type": "code",
   "execution_count": 36,
   "metadata": {},
   "outputs": [],
   "source": [
    "m = MACD(minute_history[:984][\"close\"].dropna(), 12, 26)"
   ]
  },
  {
   "cell_type": "code",
   "execution_count": 37,
   "metadata": {},
   "outputs": [
    {
     "data": {
      "text/plain": [
       "timestamp\n",
       "2020-01-07 11:00:00-05:00         NaN\n",
       "2020-01-07 11:02:00-05:00         NaN\n",
       "2020-01-07 11:03:00-05:00         NaN\n",
       "2020-01-07 11:05:00-05:00         NaN\n",
       "2020-01-07 11:06:00-05:00         NaN\n",
       "                               ...   \n",
       "2020-01-14 09:50:00-05:00    0.058693\n",
       "2020-01-14 09:51:00-05:00    0.062310\n",
       "2020-01-14 09:52:00-05:00    0.062838\n",
       "2020-01-14 09:53:00-05:00    0.063333\n",
       "2020-01-14 09:54:00-05:00    0.073370\n",
       "Length: 984, dtype: float64"
      ]
     },
     "execution_count": 37,
     "metadata": {},
     "output_type": "execute_result"
    }
   ],
   "source": [
    "m[0]"
   ]
  },
  {
   "cell_type": "code",
   "execution_count": 16,
   "metadata": {},
   "outputs": [
    {
     "name": "stdout",
     "output_type": "stream",
     "text": [
      "0.0018392903708512875\n"
     ]
    }
   ],
   "source": [
    "print(m[0][-1])"
   ]
  },
  {
   "cell_type": "markdown",
   "metadata": {},
   "source": [
    "m[0]"
   ]
  },
  {
   "cell_type": "markdown",
   "metadata": {},
   "source": [
    "m[0][-1]"
   ]
  },
  {
   "cell_type": "code",
   "execution_count": 15,
   "metadata": {},
   "outputs": [
    {
     "data": {
      "text/plain": [
       "<matplotlib.axes._subplots.AxesSubplot at 0x11584db20>"
      ]
     },
     "execution_count": 15,
     "metadata": {},
     "output_type": "execute_result"
    },
    {
     "data": {
      "image/png": "[encoded data removed]",
      "text/plain": [
       "<Figure size 432x288 with 1 Axes>"
      ]
     },
     "metadata": {
      "needs_background": "light"
     },
     "output_type": "display_data"
    }
   ],
   "source": [
    "m[0].plot.line()"
   ]
  },
  {
   "cell_type": "code",
   "execution_count": 17,
   "metadata": {},
   "outputs": [],
   "source": [
    "hist = MACD(minute_history[\"close\"].dropna(), 40, 60)[0]"
   ]
  },
  {
   "cell_type": "code",
   "execution_count": 18,
   "metadata": {},
   "outputs": [
    {
     "data": {
      "text/plain": [
       "timestamp\n",
       "2020-01-03 14:46:00-05:00         NaN\n",
       "2020-01-03 14:47:00-05:00         NaN\n",
       "2020-01-03 14:49:00-05:00         NaN\n",
       "2020-01-03 14:50:00-05:00         NaN\n",
       "2020-01-03 15:01:00-05:00         NaN\n",
       "                               ...   \n",
       "2020-01-09 15:08:00-05:00   -0.000049\n",
       "2020-01-09 15:09:00-05:00   -0.000229\n",
       "2020-01-09 15:14:00-05:00   -0.000235\n",
       "2020-01-09 15:15:00-05:00   -0.000319\n",
       "2020-01-09 15:16:00-05:00   -0.000397\n",
       "Length: 1000, dtype: float64"
      ]
     },
     "execution_count": 18,
     "metadata": {},
     "output_type": "execute_result"
    }
   ],
   "source": [
    "hist"
   ]
  },
  {
   "cell_type": "code",
   "execution_count": 19,
   "metadata": {},
   "outputs": [
    {
     "data": {
      "text/plain": [
       "<matplotlib.axes._subplots.AxesSubplot at 0x103405a30>"
      ]
     },
     "execution_count": 19,
     "metadata": {},
     "output_type": "execute_result"
    },
    {
     "data": {
      "image/png": "[encoded data removed]",
      "text/plain": [
       "<Figure size 432x288 with 1 Axes>"
      ]
     },
     "metadata": {
      "needs_background": "light"
     },
     "output_type": "display_data"
    }
   ],
   "source": [
    "hist.plot.line()"
   ]
  },
  {
   "cell_type": "code",
   "execution_count": 20,
   "metadata": {},
   "outputs": [
    {
     "name": "stdout",
     "output_type": "stream",
     "text": [
      "no\n"
     ]
    }
   ],
   "source": [
    "if hist[-1] < 0 or np.diff(hist)[-1] < 0:\n",
    "    print(\"no\")"
   ]
  },
  {
   "cell_type": "code",
   "execution_count": 21,
   "metadata": {},
   "outputs": [
    {
     "data": {
      "text/plain": [
       "array([ 1.09757740e-04,  1.45968048e-04, -2.56688786e-05, -2.81157863e-06,\n",
       "       -2.33610015e-05, -1.50406408e-05, -1.80092495e-04, -5.38795561e-06,\n",
       "       -8.45496121e-05, -7.72776301e-05])"
      ]
     },
     "execution_count": 21,
     "metadata": {},
     "output_type": "execute_result"
    }
   ],
   "source": [
    "np.diff(hist)[-10:]"
   ]
  },
  {
   "cell_type": "code",
   "execution_count": 22,
   "metadata": {},
   "outputs": [
    {
     "data": {
      "text/plain": [
       "-7.727763008613664e-05"
      ]
     },
     "execution_count": 22,
     "metadata": {},
     "output_type": "execute_result"
    }
   ],
   "source": [
    "np.diff(hist)[-1]"
   ]
  },
  {
   "cell_type": "code",
   "execution_count": null,
   "metadata": {},
   "outputs": [],
   "source": []
  }
 ],
 "metadata": {
  "kernelspec": {
   "display_name": "Python 3",
   "language": "python",
   "name": "python3"
  },
  "language_info": {
   "codemirror_mode": {
    "name": "ipython",
    "version": 3
   },
   "file_extension": ".py",
   "mimetype": "text/x-python",
   "name": "python",
   "nbconvert_exporter": "python",
   "pygments_lexer": "ipython3",
   "version": "3.8.0"
  }
 },
 "nbformat": 4,
 "nbformat_minor": 2
}
