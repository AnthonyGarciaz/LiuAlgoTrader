{
 "cells": [
  {
   "cell_type": "code",
   "execution_count": 1,
   "metadata": {},
   "outputs": [],
   "source": [
    "import time\n",
    "from datetime import datetime, timedelta, date\n",
    "%matplotlib inline\n",
    "import matplotlib.pyplot as plt\n",
    "import pandas as pd\n",
    "import alpaca_trade_api as tradeapi\n",
    "import numpy as np\n",
    "import requests\n",
    "from talib import MACD, RSI"
   ]
  },
  {
   "cell_type": "code",
   "execution_count": 2,
   "metadata": {},
   "outputs": [],
   "source": [
    "base_url = \"https://api.alpaca.markets\"\n",
    "api_key_id = \"AKVKN4TLUUS5MZO5KYLM\"\n",
    "api_secret = \"nkK2UmvE1kTFFw1ZlaqDmwCyiuCu7OOeB5y2La/X\""
   ]
  },
  {
   "cell_type": "code",
   "execution_count": 3,
   "metadata": {},
   "outputs": [],
   "source": [
    "api = tradeapi.REST(\n",
    "    base_url=base_url, key_id=api_key_id, secret_key=api_secret\n",
    ")"
   ]
  },
  {
   "cell_type": "code",
   "execution_count": 4,
   "metadata": {},
   "outputs": [],
   "source": [
    "session = requests.session()"
   ]
  },
  {
   "cell_type": "code",
   "execution_count": 5,
   "metadata": {},
   "outputs": [],
   "source": [
    "minute_history = api.polygon.historic_agg_v2(\n",
    "    'NLNK', 1, 'minute', _from = date.today() - timedelta(days=10), to=date.today() + timedelta(days=1), limit=1000).df"
   ]
  },
  {
   "cell_type": "code",
   "execution_count": 23,
   "metadata": {
    "scrolled": true
   },
   "outputs": [
    {
     "data": {
      "text/html": [
       "<div>\n",
       "<style scoped>\n",
       "    .dataframe tbody tr th:only-of-type {\n",
       "        vertical-align: middle;\n",
       "    }\n",
       "\n",
       "    .dataframe tbody tr th {\n",
       "        vertical-align: top;\n",
       "    }\n",
       "\n",
       "    .dataframe thead th {\n",
       "        text-align: right;\n",
       "    }\n",
       "</style>\n",
       "<table border=\"1\" class=\"dataframe\">\n",
       "  <thead>\n",
       "    <tr style=\"text-align: right;\">\n",
       "      <th></th>\n",
       "      <th>open</th>\n",
       "      <th>high</th>\n",
       "      <th>low</th>\n",
       "      <th>close</th>\n",
       "      <th>volume</th>\n",
       "    </tr>\n",
       "    <tr>\n",
       "      <th>timestamp</th>\n",
       "      <th></th>\n",
       "      <th></th>\n",
       "      <th></th>\n",
       "      <th></th>\n",
       "      <th></th>\n",
       "    </tr>\n",
       "  </thead>\n",
       "  <tbody>\n",
       "    <tr>\n",
       "      <th>2020-01-03 14:46:00-05:00</th>\n",
       "      <td>2.2000</td>\n",
       "      <td>2.2025</td>\n",
       "      <td>2.2000</td>\n",
       "      <td>2.2025</td>\n",
       "      <td>600</td>\n",
       "    </tr>\n",
       "    <tr>\n",
       "      <th>2020-01-03 14:47:00-05:00</th>\n",
       "      <td>2.2000</td>\n",
       "      <td>2.2000</td>\n",
       "      <td>2.2000</td>\n",
       "      <td>2.2000</td>\n",
       "      <td>840</td>\n",
       "    </tr>\n",
       "    <tr>\n",
       "      <th>2020-01-03 14:49:00-05:00</th>\n",
       "      <td>2.1909</td>\n",
       "      <td>2.1909</td>\n",
       "      <td>2.1800</td>\n",
       "      <td>2.1800</td>\n",
       "      <td>2000</td>\n",
       "    </tr>\n",
       "    <tr>\n",
       "      <th>2020-01-03 14:50:00-05:00</th>\n",
       "      <td>2.1974</td>\n",
       "      <td>2.2100</td>\n",
       "      <td>2.1950</td>\n",
       "      <td>2.2100</td>\n",
       "      <td>1700</td>\n",
       "    </tr>\n",
       "    <tr>\n",
       "      <th>2020-01-03 15:01:00-05:00</th>\n",
       "      <td>2.2081</td>\n",
       "      <td>2.2081</td>\n",
       "      <td>2.2081</td>\n",
       "      <td>2.2081</td>\n",
       "      <td>1000</td>\n",
       "    </tr>\n",
       "    <tr>\n",
       "      <th>...</th>\n",
       "      <td>...</td>\n",
       "      <td>...</td>\n",
       "      <td>...</td>\n",
       "      <td>...</td>\n",
       "      <td>...</td>\n",
       "    </tr>\n",
       "    <tr>\n",
       "      <th>2020-01-09 14:53:00-05:00</th>\n",
       "      <td>2.2155</td>\n",
       "      <td>2.2155</td>\n",
       "      <td>2.2155</td>\n",
       "      <td>2.2155</td>\n",
       "      <td>1000</td>\n",
       "    </tr>\n",
       "    <tr>\n",
       "      <th>2020-01-09 14:54:00-05:00</th>\n",
       "      <td>2.2200</td>\n",
       "      <td>2.2200</td>\n",
       "      <td>2.2200</td>\n",
       "      <td>2.2200</td>\n",
       "      <td>102</td>\n",
       "    </tr>\n",
       "    <tr>\n",
       "      <th>2020-01-09 14:55:00-05:00</th>\n",
       "      <td>2.2101</td>\n",
       "      <td>2.2101</td>\n",
       "      <td>2.2101</td>\n",
       "      <td>2.2101</td>\n",
       "      <td>100</td>\n",
       "    </tr>\n",
       "    <tr>\n",
       "      <th>2020-01-09 14:56:00-05:00</th>\n",
       "      <td>2.2172</td>\n",
       "      <td>2.2172</td>\n",
       "      <td>2.2172</td>\n",
       "      <td>2.2172</td>\n",
       "      <td>200</td>\n",
       "    </tr>\n",
       "    <tr>\n",
       "      <th>2020-01-09 15:00:00-05:00</th>\n",
       "      <td>2.2200</td>\n",
       "      <td>2.2200</td>\n",
       "      <td>2.2200</td>\n",
       "      <td>2.2200</td>\n",
       "      <td>100</td>\n",
       "    </tr>\n",
       "  </tbody>\n",
       "</table>\n",
       "<p>992 rows × 5 columns</p>\n",
       "</div>"
      ],
      "text/plain": [
       "                             open    high     low   close  volume\n",
       "timestamp                                                        \n",
       "2020-01-03 14:46:00-05:00  2.2000  2.2025  2.2000  2.2025     600\n",
       "2020-01-03 14:47:00-05:00  2.2000  2.2000  2.2000  2.2000     840\n",
       "2020-01-03 14:49:00-05:00  2.1909  2.1909  2.1800  2.1800    2000\n",
       "2020-01-03 14:50:00-05:00  2.1974  2.2100  2.1950  2.2100    1700\n",
       "2020-01-03 15:01:00-05:00  2.2081  2.2081  2.2081  2.2081    1000\n",
       "...                           ...     ...     ...     ...     ...\n",
       "2020-01-09 14:53:00-05:00  2.2155  2.2155  2.2155  2.2155    1000\n",
       "2020-01-09 14:54:00-05:00  2.2200  2.2200  2.2200  2.2200     102\n",
       "2020-01-09 14:55:00-05:00  2.2101  2.2101  2.2101  2.2101     100\n",
       "2020-01-09 14:56:00-05:00  2.2172  2.2172  2.2172  2.2172     200\n",
       "2020-01-09 15:00:00-05:00  2.2200  2.2200  2.2200  2.2200     100\n",
       "\n",
       "[992 rows x 5 columns]"
      ]
     },
     "execution_count": 23,
     "metadata": {},
     "output_type": "execute_result"
    }
   ],
   "source": [
    "minute_history[:992]"
   ]
  },
  {
   "cell_type": "code",
   "execution_count": 24,
   "metadata": {
    "scrolled": true
   },
   "outputs": [
    {
     "data": {
      "text/plain": [
       "<matplotlib.axes._subplots.AxesSubplot at 0x1158f16d0>"
      ]
     },
     "execution_count": 24,
     "metadata": {},
     "output_type": "execute_result"
    },
    {
     "data": {
      "image/png": "[encoded data removed]",
      "text/plain": [
       "<Figure size 432x288 with 1 Axes>"
      ]
     },
     "metadata": {
      "needs_background": "light"
     },
     "output_type": "display_data"
    }
   ],
   "source": [
    "minute_history[:992].plot.line()"
   ]
  },
  {
   "cell_type": "code",
   "execution_count": 25,
   "metadata": {},
   "outputs": [],
   "source": [
    "rsi = RSI(minute_history[:992][\"close\"].dropna(), 14)"
   ]
  },
  {
   "cell_type": "code",
   "execution_count": 26,
   "metadata": {},
   "outputs": [
    {
     "data": {
      "text/plain": [
       "timestamp\n",
       "2020-01-09 14:33:00-05:00    53.157792\n",
       "2020-01-09 14:35:00-05:00    61.238862\n",
       "2020-01-09 14:36:00-05:00    54.489845\n",
       "2020-01-09 14:37:00-05:00    46.916878\n",
       "2020-01-09 14:52:00-05:00    48.993803\n",
       "2020-01-09 14:53:00-05:00    51.948726\n",
       "2020-01-09 14:54:00-05:00    54.323485\n",
       "2020-01-09 14:55:00-05:00    48.629435\n",
       "2020-01-09 14:56:00-05:00    52.476667\n",
       "2020-01-09 15:00:00-05:00    53.941631\n",
       "dtype: float64"
      ]
     },
     "execution_count": 26,
     "metadata": {},
     "output_type": "execute_result"
    }
   ],
   "source": [
    "rsi[-10:]"
   ]
  },
  {
   "cell_type": "code",
   "execution_count": 27,
   "metadata": {},
   "outputs": [],
   "source": [
    "m = MACD(minute_history[:992][\"close\"].dropna())"
   ]
  },
  {
   "cell_type": "code",
   "execution_count": 28,
   "metadata": {},
   "outputs": [
    {
     "data": {
      "text/plain": [
       "timestamp\n",
       "2020-01-03 14:46:00-05:00         NaN\n",
       "2020-01-03 14:47:00-05:00         NaN\n",
       "2020-01-03 14:49:00-05:00         NaN\n",
       "2020-01-03 14:50:00-05:00         NaN\n",
       "2020-01-03 15:01:00-05:00         NaN\n",
       "                               ...   \n",
       "2020-01-09 14:53:00-05:00    0.002810\n",
       "2020-01-09 14:54:00-05:00    0.002988\n",
       "2020-01-09 14:55:00-05:00    0.002304\n",
       "2020-01-09 14:56:00-05:00    0.002308\n",
       "2020-01-09 15:00:00-05:00    0.002509\n",
       "Length: 992, dtype: float64"
      ]
     },
     "execution_count": 28,
     "metadata": {},
     "output_type": "execute_result"
    }
   ],
   "source": [
    "m[0]"
   ]
  },
  {
   "cell_type": "code",
   "execution_count": 16,
   "metadata": {},
   "outputs": [
    {
     "name": "stdout",
     "output_type": "stream",
     "text": [
      "0.0018392903708512875\n"
     ]
    }
   ],
   "source": [
    "print(m[0][-1])"
   ]
  },
  {
   "cell_type": "markdown",
   "metadata": {},
   "source": [
    "m[0]"
   ]
  },
  {
   "cell_type": "markdown",
   "metadata": {},
   "source": [
    "m[0][-1]"
   ]
  },
  {
   "cell_type": "code",
   "execution_count": 15,
   "metadata": {},
   "outputs": [
    {
     "data": {
      "text/plain": [
       "<matplotlib.axes._subplots.AxesSubplot at 0x11584db20>"
      ]
     },
     "execution_count": 15,
     "metadata": {},
     "output_type": "execute_result"
    },
    {
     "data": {
      "image/png": "[encoded data removed]",
      "text/plain": [
       "<Figure size 432x288 with 1 Axes>"
      ]
     },
     "metadata": {
      "needs_background": "light"
     },
     "output_type": "display_data"
    }
   ],
   "source": [
    "m[0].plot.line()"
   ]
  },
  {
   "cell_type": "code",
   "execution_count": 17,
   "metadata": {},
   "outputs": [],
   "source": [
    "hist = MACD(minute_history[\"close\"].dropna(), 40, 60)[0]"
   ]
  },
  {
   "cell_type": "code",
   "execution_count": 18,
   "metadata": {},
   "outputs": [
    {
     "data": {
      "text/plain": [
       "timestamp\n",
       "2020-01-03 14:46:00-05:00         NaN\n",
       "2020-01-03 14:47:00-05:00         NaN\n",
       "2020-01-03 14:49:00-05:00         NaN\n",
       "2020-01-03 14:50:00-05:00         NaN\n",
       "2020-01-03 15:01:00-05:00         NaN\n",
       "                               ...   \n",
       "2020-01-09 15:08:00-05:00   -0.000049\n",
       "2020-01-09 15:09:00-05:00   -0.000229\n",
       "2020-01-09 15:14:00-05:00   -0.000235\n",
       "2020-01-09 15:15:00-05:00   -0.000319\n",
       "2020-01-09 15:16:00-05:00   -0.000397\n",
       "Length: 1000, dtype: float64"
      ]
     },
     "execution_count": 18,
     "metadata": {},
     "output_type": "execute_result"
    }
   ],
   "source": [
    "hist"
   ]
  },
  {
   "cell_type": "code",
   "execution_count": 19,
   "metadata": {},
   "outputs": [
    {
     "data": {
      "text/plain": [
       "<matplotlib.axes._subplots.AxesSubplot at 0x103405a30>"
      ]
     },
     "execution_count": 19,
     "metadata": {},
     "output_type": "execute_result"
    },
    {
     "data": {
      "image/png": "[encoded data removed]",
      "text/plain": [
       "<Figure size 432x288 with 1 Axes>"
      ]
     },
     "metadata": {
      "needs_background": "light"
     },
     "output_type": "display_data"
    }
   ],
   "source": [
    "hist.plot.line()"
   ]
  },
  {
   "cell_type": "code",
   "execution_count": 20,
   "metadata": {},
   "outputs": [
    {
     "name": "stdout",
     "output_type": "stream",
     "text": [
      "no\n"
     ]
    }
   ],
   "source": [
    "if hist[-1] < 0 or np.diff(hist)[-1] < 0:\n",
    "    print(\"no\")"
   ]
  },
  {
   "cell_type": "code",
   "execution_count": 21,
   "metadata": {},
   "outputs": [
    {
     "data": {
      "text/plain": [
       "array([ 1.09757740e-04,  1.45968048e-04, -2.56688786e-05, -2.81157863e-06,\n",
       "       -2.33610015e-05, -1.50406408e-05, -1.80092495e-04, -5.38795561e-06,\n",
       "       -8.45496121e-05, -7.72776301e-05])"
      ]
     },
     "execution_count": 21,
     "metadata": {},
     "output_type": "execute_result"
    }
   ],
   "source": [
    "np.diff(hist)[-10:]"
   ]
  },
  {
   "cell_type": "code",
   "execution_count": 22,
   "metadata": {},
   "outputs": [
    {
     "data": {
      "text/plain": [
       "-7.727763008613664e-05"
      ]
     },
     "execution_count": 22,
     "metadata": {},
     "output_type": "execute_result"
    }
   ],
   "source": [
    "np.diff(hist)[-1]"
   ]
  },
  {
   "cell_type": "code",
   "execution_count": null,
   "metadata": {},
   "outputs": [],
   "source": []
  }
 ],
 "metadata": {
  "kernelspec": {
   "display_name": "Python 3",
   "language": "python",
   "name": "python3"
  },
  "language_info": {
   "codemirror_mode": {
    "name": "ipython",
    "version": 3
   },
   "file_extension": ".py",
   "mimetype": "text/x-python",
   "name": "python",
   "nbconvert_exporter": "python",
   "pygments_lexer": "ipython3",
   "version": "3.8.0"
  }
 },
 "nbformat": 4,
 "nbformat_minor": 2
}
