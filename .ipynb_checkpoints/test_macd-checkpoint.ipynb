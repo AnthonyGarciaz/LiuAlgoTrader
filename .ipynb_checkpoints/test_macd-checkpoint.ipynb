{
 "cells": [
  {
   "cell_type": "code",
   "execution_count": 1,
   "metadata": {},
   "outputs": [],
   "source": [
    "import time\n",
    "from datetime import datetime, timedelta\n",
    "%matplotlib inline\n",
    "import matplotlib.pyplot as plt\n",
    "import pandas as pd\n",
    "import alpaca_trade_api as tradeapi\n",
    "import numpy as np\n",
    "import requests\n",
    "from ta.trend import macd"
   ]
  },
  {
   "cell_type": "code",
   "execution_count": 2,
   "metadata": {},
   "outputs": [],
   "source": [
    "base_url = \"https://paper-api.alpaca.markets\"\n",
    "api_key_id = \"PKAWDZ1B1UO4JS9EP373\"\n",
    "api_secret = \"8NTlw1SuEPjpBQ0cPbwyNXEdJRklTe/HF7Rf90zE\""
   ]
  },
  {
   "cell_type": "code",
   "execution_count": 3,
   "metadata": {},
   "outputs": [],
   "source": [
    "api = tradeapi.REST(\n",
    "    base_url=base_url, key_id=api_key_id, secret_key=api_secret\n",
    ")"
   ]
  },
  {
   "cell_type": "code",
   "execution_count": 4,
   "metadata": {},
   "outputs": [],
   "source": [
    "session = requests.session()"
   ]
  },
  {
   "cell_type": "code",
   "execution_count": 5,
   "metadata": {},
   "outputs": [],
   "source": [
    "minute_history = api.polygon.historic_agg(size=\"minute\", symbol=\"GASL\", limit=1000).df"
   ]
  },
  {
   "cell_type": "code",
   "execution_count": 6,
   "metadata": {
    "scrolled": true
   },
   "outputs": [
    {
     "data": {
      "text/html": [
       "<div>\n",
       "<style scoped>\n",
       "    .dataframe tbody tr th:only-of-type {\n",
       "        vertical-align: middle;\n",
       "    }\n",
       "\n",
       "    .dataframe tbody tr th {\n",
       "        vertical-align: top;\n",
       "    }\n",
       "\n",
       "    .dataframe thead th {\n",
       "        text-align: right;\n",
       "    }\n",
       "</style>\n",
       "<table border=\"1\" class=\"dataframe\">\n",
       "  <thead>\n",
       "    <tr style=\"text-align: right;\">\n",
       "      <th></th>\n",
       "      <th>open</th>\n",
       "      <th>high</th>\n",
       "      <th>low</th>\n",
       "      <th>close</th>\n",
       "      <th>volume</th>\n",
       "    </tr>\n",
       "    <tr>\n",
       "      <th>timestamp</th>\n",
       "      <th></th>\n",
       "      <th></th>\n",
       "      <th></th>\n",
       "      <th></th>\n",
       "      <th></th>\n",
       "    </tr>\n",
       "  </thead>\n",
       "  <tbody>\n",
       "    <tr>\n",
       "      <th>2019-12-11 12:25:00-05:00</th>\n",
       "      <td>7.20</td>\n",
       "      <td>7.2000</td>\n",
       "      <td>7.1900</td>\n",
       "      <td>7.2000</td>\n",
       "      <td>830</td>\n",
       "    </tr>\n",
       "    <tr>\n",
       "      <th>2019-12-11 12:26:00-05:00</th>\n",
       "      <td>7.23</td>\n",
       "      <td>7.2400</td>\n",
       "      <td>7.2300</td>\n",
       "      <td>7.2400</td>\n",
       "      <td>3761</td>\n",
       "    </tr>\n",
       "    <tr>\n",
       "      <th>2019-12-11 12:27:00-05:00</th>\n",
       "      <td>7.25</td>\n",
       "      <td>7.2500</td>\n",
       "      <td>7.2400</td>\n",
       "      <td>7.2400</td>\n",
       "      <td>4700</td>\n",
       "    </tr>\n",
       "    <tr>\n",
       "      <th>2019-12-11 12:28:00-05:00</th>\n",
       "      <td>7.24</td>\n",
       "      <td>7.2400</td>\n",
       "      <td>7.2400</td>\n",
       "      <td>7.2400</td>\n",
       "      <td>917</td>\n",
       "    </tr>\n",
       "    <tr>\n",
       "      <th>2019-12-11 12:29:00-05:00</th>\n",
       "      <td>7.24</td>\n",
       "      <td>7.2400</td>\n",
       "      <td>7.2301</td>\n",
       "      <td>7.2301</td>\n",
       "      <td>1009</td>\n",
       "    </tr>\n",
       "    <tr>\n",
       "      <th>...</th>\n",
       "      <td>...</td>\n",
       "      <td>...</td>\n",
       "      <td>...</td>\n",
       "      <td>...</td>\n",
       "      <td>...</td>\n",
       "    </tr>\n",
       "    <tr>\n",
       "      <th>2019-12-13 15:57:00-05:00</th>\n",
       "      <td>7.33</td>\n",
       "      <td>7.3575</td>\n",
       "      <td>7.3300</td>\n",
       "      <td>7.3500</td>\n",
       "      <td>18447</td>\n",
       "    </tr>\n",
       "    <tr>\n",
       "      <th>2019-12-13 15:58:00-05:00</th>\n",
       "      <td>7.35</td>\n",
       "      <td>7.3631</td>\n",
       "      <td>7.3500</td>\n",
       "      <td>7.3600</td>\n",
       "      <td>5417</td>\n",
       "    </tr>\n",
       "    <tr>\n",
       "      <th>2019-12-13 15:59:00-05:00</th>\n",
       "      <td>7.36</td>\n",
       "      <td>7.3700</td>\n",
       "      <td>7.3500</td>\n",
       "      <td>7.3500</td>\n",
       "      <td>32581</td>\n",
       "    </tr>\n",
       "    <tr>\n",
       "      <th>2019-12-13 16:12:00-05:00</th>\n",
       "      <td>7.35</td>\n",
       "      <td>7.3500</td>\n",
       "      <td>7.3500</td>\n",
       "      <td>7.3500</td>\n",
       "      <td>100</td>\n",
       "    </tr>\n",
       "    <tr>\n",
       "      <th>2019-12-13 16:25:00-05:00</th>\n",
       "      <td>7.36</td>\n",
       "      <td>7.3600</td>\n",
       "      <td>7.3600</td>\n",
       "      <td>7.3600</td>\n",
       "      <td>350</td>\n",
       "    </tr>\n",
       "  </tbody>\n",
       "</table>\n",
       "<p>1000 rows × 5 columns</p>\n",
       "</div>"
      ],
      "text/plain": [
       "                           open    high     low   close  volume\n",
       "timestamp                                                      \n",
       "2019-12-11 12:25:00-05:00  7.20  7.2000  7.1900  7.2000     830\n",
       "2019-12-11 12:26:00-05:00  7.23  7.2400  7.2300  7.2400    3761\n",
       "2019-12-11 12:27:00-05:00  7.25  7.2500  7.2400  7.2400    4700\n",
       "2019-12-11 12:28:00-05:00  7.24  7.2400  7.2400  7.2400     917\n",
       "2019-12-11 12:29:00-05:00  7.24  7.2400  7.2301  7.2301    1009\n",
       "...                         ...     ...     ...     ...     ...\n",
       "2019-12-13 15:57:00-05:00  7.33  7.3575  7.3300  7.3500   18447\n",
       "2019-12-13 15:58:00-05:00  7.35  7.3631  7.3500  7.3600    5417\n",
       "2019-12-13 15:59:00-05:00  7.36  7.3700  7.3500  7.3500   32581\n",
       "2019-12-13 16:12:00-05:00  7.35  7.3500  7.3500  7.3500     100\n",
       "2019-12-13 16:25:00-05:00  7.36  7.3600  7.3600  7.3600     350\n",
       "\n",
       "[1000 rows x 5 columns]"
      ]
     },
     "execution_count": 6,
     "metadata": {},
     "output_type": "execute_result"
    }
   ],
   "source": [
    "minute_history"
   ]
  },
  {
   "cell_type": "code",
   "execution_count": 8,
   "metadata": {},
   "outputs": [
    {
     "data": {
      "text/plain": [
       "<matplotlib.axes._subplots.AxesSubplot at 0x11acedd30>"
      ]
     },
     "execution_count": 8,
     "metadata": {},
     "output_type": "execute_result"
    },
    {
     "data": {
      "image/png": "[encoded data removed]",
      "text/plain": [
       "<Figure size 432x288 with 1 Axes>"
      ]
     },
     "metadata": {
      "needs_background": "light"
     },
     "output_type": "display_data"
    }
   ],
   "source": [
    "minute_history.plot.line()"
   ]
  },
  {
   "cell_type": "code",
   "execution_count": 9,
   "metadata": {},
   "outputs": [],
   "source": [
    "hist = macd(minute_history[\"close\"].dropna(),\n",
    "     n_fast=12,\n",
    "     n_slow=26)"
   ]
  },
  {
   "cell_type": "code",
   "execution_count": 10,
   "metadata": {},
   "outputs": [
    {
     "data": {
      "text/plain": [
       "timestamp\n",
       "2019-12-11 12:25:00-05:00         NaN\n",
       "2019-12-11 12:26:00-05:00         NaN\n",
       "2019-12-11 12:27:00-05:00         NaN\n",
       "2019-12-11 12:28:00-05:00         NaN\n",
       "2019-12-11 12:29:00-05:00         NaN\n",
       "                               ...   \n",
       "2019-12-13 15:57:00-05:00   -0.000854\n",
       "2019-12-13 15:58:00-05:00   -0.003318\n",
       "2019-12-13 15:59:00-05:00   -0.004413\n",
       "2019-12-13 16:12:00-05:00   -0.005220\n",
       "2019-12-13 16:25:00-05:00   -0.006591\n",
       "Name: MACD_12_26, Length: 1000, dtype: float64"
      ]
     },
     "execution_count": 10,
     "metadata": {},
     "output_type": "execute_result"
    }
   ],
   "source": [
    "hist"
   ]
  },
  {
   "cell_type": "code",
   "execution_count": 11,
   "metadata": {},
   "outputs": [
    {
     "data": {
      "text/plain": [
       "<matplotlib.axes._subplots.AxesSubplot at 0x11d00d790>"
      ]
     },
     "execution_count": 11,
     "metadata": {},
     "output_type": "execute_result"
    },
    {
     "data": {
      "image/png": "[encoded data removed]",
      "text/plain": [
       "<Figure size 432x288 with 1 Axes>"
      ]
     },
     "metadata": {
      "needs_background": "light"
     },
     "output_type": "display_data"
    }
   ],
   "source": [
    "hist.plot.line()"
   ]
  },
  {
   "cell_type": "code",
   "execution_count": null,
   "metadata": {},
   "outputs": [],
   "source": [
    "hist[-1]"
   ]
  },
  {
   "cell_type": "code",
   "execution_count": null,
   "metadata": {},
   "outputs": [],
   "source": [
    "hist[-2]"
   ]
  },
  {
   "cell_type": "code",
   "execution_count": null,
   "metadata": {},
   "outputs": [],
   "source": [
    "hist[-3]"
   ]
  },
  {
   "cell_type": "code",
   "execution_count": null,
   "metadata": {},
   "outputs": [],
   "source": [
    "hist = macd(minute_history[\"close\"].dropna(),\n",
    "            n_fast=40,\n",
    "            n_slow=60)"
   ]
  },
  {
   "cell_type": "code",
   "execution_count": null,
   "metadata": {},
   "outputs": [],
   "source": [
    "hist"
   ]
  },
  {
   "cell_type": "code",
   "execution_count": null,
   "metadata": {},
   "outputs": [],
   "source": [
    "if hist[-1] < 0 or np.diff(hist)[-1] < 0:\n",
    "    print(\"no\")"
   ]
  },
  {
   "cell_type": "code",
   "execution_count": null,
   "metadata": {},
   "outputs": [],
   "source": [
    "hist[-1]"
   ]
  },
  {
   "cell_type": "code",
   "execution_count": null,
   "metadata": {},
   "outputs": [],
   "source": [
    "np.diff(hist)"
   ]
  },
  {
   "cell_type": "code",
   "execution_count": null,
   "metadata": {},
   "outputs": [],
   "source": [
    "hist[-2]"
   ]
  },
  {
   "cell_type": "code",
   "execution_count": null,
   "metadata": {},
   "outputs": [],
   "source": []
  }
 ],
 "metadata": {
  "kernelspec": {
   "display_name": "Python 3",
   "language": "python",
   "name": "python3"
  },
  "language_info": {
   "codemirror_mode": {
    "name": "ipython",
    "version": 3
   },
   "file_extension": ".py",
   "mimetype": "text/x-python",
   "name": "python",
   "nbconvert_exporter": "python",
   "pygments_lexer": "ipython3",
   "version": "3.8.0"
  }
 },
 "nbformat": 4,
 "nbformat_minor": 2
}
