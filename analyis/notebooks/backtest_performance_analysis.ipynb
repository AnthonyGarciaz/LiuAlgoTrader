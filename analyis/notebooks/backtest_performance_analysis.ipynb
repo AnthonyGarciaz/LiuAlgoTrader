{
 "cells": [
  {
   "cell_type": "code",
   "execution_count": 1,
   "metadata": {},
   "outputs": [],
   "source": [
    "import pandas as pd\n",
    "import matplotlib.pyplot as plt\n",
    "import alpaca_trade_api as tradeapi\n",
    "import numpy as np\n",
    "import requests\n",
    "from talib import MACD, RSI, BBANDS\n",
    "from datetime import datetime, timedelta, date\n",
    "from IPython.display import display, HTML\n",
    "from liualgotrader.common import config\n",
    "%matplotlib inline\n",
    "import json\n",
    "import math\n",
    "from dateutil import parser\n",
    "from pytz import timezone\n",
    "import pytz\n",
    "import sys\n",
    "import iso8601\n",
    "import asyncio\n",
    "from pandas import DataFrame as df\n",
    "from liualgotrader.analytics.analysis import (\n",
    "    load_trades_by_batch_id,\n",
    "    calc_batch_revenue,\n",
    "    count_trades,\n",
    ")\n",
    "from liualgotrader.common.market_data import get_historical_data_from_poylgon_for_symbols\n",
    "import nest_asyncio\n",
    "nest_asyncio.apply()"
   ]
  },
  {
   "cell_type": "code",
   "execution_count": 2,
   "metadata": {},
   "outputs": [],
   "source": [
    "batch_id = \"48aa8dff-b482-418f-b10d-29ff8cf1f9f0\""
   ]
  },
  {
   "cell_type": "code",
   "execution_count": 3,
   "metadata": {},
   "outputs": [],
   "source": [
    "api = tradeapi.REST(base_url=\"https://api.alpaca.markets\")"
   ]
  },
  {
   "cell_type": "code",
   "execution_count": 4,
   "metadata": {},
   "outputs": [
    {
     "name": "stdout",
     "output_type": "stream",
     "text": [
      "[38616]2020-10-18 01:18:14.841461:db connection pool initialized\n"
     ]
    }
   ],
   "source": [
    "trades = load_trades_by_batch_id(batch_id)"
   ]
  },
  {
   "cell_type": "code",
   "execution_count": 5,
   "metadata": {},
   "outputs": [],
   "source": [
    "day_to_analyze = min(trades['client_time'].tolist())\n",
    "config.market_open = day_to_analyze.replace(hour=9, minute=30, second=0, microsecond=0)"
   ]
  },
  {
   "cell_type": "code",
   "execution_count": 6,
   "metadata": {},
   "outputs": [],
   "source": [
    "how_was_my_batch = pd.DataFrame()\n",
    "trades[\"client_time\"] = pd.to_datetime(trades[\"client_time\"])\n",
    "how_was_my_batch[\"symbol\"] = trades.symbol.unique()\n",
    "how_was_my_batch[\"revenues\"] = how_was_my_batch[\"symbol\"].apply(\n",
    "    lambda x: calc_batch_revenue(x, trades, batch_id)\n",
    ")\n",
    "how_was_my_batch[\"count\"] = how_was_my_batch[\"symbol\"].apply(\n",
    "    lambda x: count_trades(x, trades, batch_id)\n",
    ")"
   ]
  },
  {
   "cell_type": "code",
   "execution_count": 7,
   "metadata": {},
   "outputs": [
    {
     "data": {
      "text/html": [
       "<div>\n",
       "<style scoped>\n",
       "    .dataframe tbody tr th:only-of-type {\n",
       "        vertical-align: middle;\n",
       "    }\n",
       "\n",
       "    .dataframe tbody tr th {\n",
       "        vertical-align: top;\n",
       "    }\n",
       "\n",
       "    .dataframe thead th {\n",
       "        text-align: right;\n",
       "    }\n",
       "</style>\n",
       "<table border=\"1\" class=\"dataframe\">\n",
       "  <thead>\n",
       "    <tr style=\"text-align: right;\">\n",
       "      <th></th>\n",
       "      <th>symbol</th>\n",
       "      <th>revenues</th>\n",
       "      <th>count</th>\n",
       "    </tr>\n",
       "  </thead>\n",
       "  <tbody>\n",
       "    <tr>\n",
       "      <th>0</th>\n",
       "      <td>BBBY</td>\n",
       "      <td>52.90</td>\n",
       "      <td>2</td>\n",
       "    </tr>\n",
       "    <tr>\n",
       "      <th>1</th>\n",
       "      <td>GALT</td>\n",
       "      <td>-106.26</td>\n",
       "      <td>2</td>\n",
       "    </tr>\n",
       "    <tr>\n",
       "      <th>2</th>\n",
       "      <td>PRPO</td>\n",
       "      <td>27.12</td>\n",
       "      <td>3</td>\n",
       "    </tr>\n",
       "  </tbody>\n",
       "</table>\n",
       "</div>"
      ],
      "text/plain": [
       "  symbol revenues  count\n",
       "0   BBBY    52.90      2\n",
       "1   GALT  -106.26      2\n",
       "2   PRPO    27.12      3"
      ]
     },
     "execution_count": 7,
     "metadata": {},
     "output_type": "execute_result"
    }
   ],
   "source": [
    "how_was_my_batch"
   ]
  },
  {
   "cell_type": "code",
   "execution_count": 8,
   "metadata": {},
   "outputs": [
    {
     "name": "stdout",
     "output_type": "stream",
     "text": [
      "Revenue: $-26.24\n"
     ]
    }
   ],
   "source": [
    "print(f\"Revenue: ${round(sum(how_was_my_batch['revenues'].tolist()), 2)}\")"
   ]
  },
  {
   "cell_type": "code",
   "execution_count": 9,
   "metadata": {},
   "outputs": [],
   "source": [
    "\n",
    "minute_history = get_historical_data_from_poylgon_for_symbols(\n",
    "    api,\n",
    "    trades.symbol.unique().tolist(),\n",
    "    day_to_analyze - timedelta(days=7),\n",
    "    day_to_analyze + timedelta(days=1),\n",
    ")"
   ]
  },
  {
   "cell_type": "code",
   "execution_count": 10,
   "metadata": {
    "scrolled": false
   },
   "outputs": [
    {
     "name": "stdout",
     "output_type": "stream",
     "text": [
      "BBBY analysis with profit 52.90\n"
     ]
    },
    {
     "data": {
      "text/html": [
       "<table border=\"1\" class=\"dataframe\">\n",
       "  <thead>\n",
       "    <tr style=\"text-align: right;\">\n",
       "      <th></th>\n",
       "      <th>profit</th>\n",
       "      <th>trade</th>\n",
       "      <th>operation</th>\n",
       "      <th>at</th>\n",
       "      <th>price</th>\n",
       "      <th>qty</th>\n",
       "      <th>daily change</th>\n",
       "      <th>vwap</th>\n",
       "      <th>indicators</th>\n",
       "      <th>target price</th>\n",
       "      <th>stop price</th>\n",
       "    </tr>\n",
       "  </thead>\n",
       "  <tbody>\n",
       "    <tr>\n",
       "      <th>0</th>\n",
       "      <td>-2329.90</td>\n",
       "      <td>-2329.90</td>\n",
       "      <td>buy</td>\n",
       "      <td>2020-10-02 10:28:00-04:00</td>\n",
       "      <td>20.26</td>\n",
       "      <td>115</td>\n",
       "      <td>4.59%</td>\n",
       "      <td></td>\n",
       "      <td>{'avg': 19.70456742755804, 'macd': [0.051729196205780426, 0.04363155881093306, 0.05209829237553265, 0.07025543927229094, 0.08432664622248609], 'vwap': 20.256666666666664, 'macd_signal': [0.06793391143029301, 0.06307344090642102, 0.06087841120024334, 0.06275381681465286, 0.06706838269621951]}</td>\n",
       "      <td>22.86</td>\n",
       "      <td>19.39</td>\n",
       "    </tr>\n",
       "    <tr>\n",
       "      <th>1</th>\n",
       "      <td>52.90</td>\n",
       "      <td>2382.80</td>\n",
       "      <td>sell</td>\n",
       "      <td>2020-10-02 11:24:00-04:00</td>\n",
       "      <td>20.72</td>\n",
       "      <td>115</td>\n",
       "      <td>6.97%</td>\n",
       "      <td></td>\n",
       "      <td>{'avg': 20.110579956204624, 'rsi': [59.783388963404164, 56.14655989181713, 55.11491987705146], 'vwap': 20.715, 'reasons': 'bail', 'movement': 0.022704837117472718, 'sell_macd': [0.056290249157274985, 0.053710120265421324, 0.050222875411176204, 0.04503511480512756, 0.03962861154320407], 'sell_macd_signal': [0.04162546189094855, 0.0440423935658431, 0.045278489934909724, 0.045229814908953295, 0.04410957423580345]}</td>\n",
       "      <td>22.86</td>\n",
       "      <td>19.39</td>\n",
       "    </tr>\n",
       "  </tbody>\n",
       "</table>"
      ],
      "text/plain": [
       "<IPython.core.display.HTML object>"
      ]
     },
     "metadata": {},
     "output_type": "display_data"
    },
    {
     "data": {
      "image/png": "[encoded data removed]",
      "text/plain": [
       "<Figure size 432x288 with 1 Axes>"
      ]
     },
     "metadata": {
      "needs_background": "light"
     },
     "output_type": "display_data"
    },
    {
     "name": "stdout",
     "output_type": "stream",
     "text": [
      "GALT analysis with profit -106.26\n"
     ]
    },
    {
     "data": {
      "text/html": [
       "<table border=\"1\" class=\"dataframe\">\n",
       "  <thead>\n",
       "    <tr style=\"text-align: right;\">\n",
       "      <th></th>\n",
       "      <th>profit</th>\n",
       "      <th>trade</th>\n",
       "      <th>operation</th>\n",
       "      <th>at</th>\n",
       "      <th>price</th>\n",
       "      <th>qty</th>\n",
       "      <th>daily change</th>\n",
       "      <th>vwap</th>\n",
       "      <th>indicators</th>\n",
       "      <th>target price</th>\n",
       "      <th>stop price</th>\n",
       "    </tr>\n",
       "  </thead>\n",
       "  <tbody>\n",
       "    <tr>\n",
       "      <th>0</th>\n",
       "      <td>-2656.50</td>\n",
       "      <td>-2656.50</td>\n",
       "      <td>buy</td>\n",
       "      <td>2020-10-02 10:22:00-04:00</td>\n",
       "      <td>2.75</td>\n",
       "      <td>966</td>\n",
       "      <td>3.0%</td>\n",
       "      <td></td>\n",
       "      <td>{'avg': 2.6740382524570023, 'macd': [0.011571218484398571, 0.011796555783817109, 0.012636389214600197, 0.013716755700660332, 0.015435940204545862], 'vwap': 2.7466666666666666, 'macd_signal': [0.013229380986030317, 0.012942815945587676, 0.01288153059939018, 0.01304857561964421, 0.01352604853662454]}</td>\n",
       "      <td>3.06</td>\n",
       "      <td>2.65</td>\n",
       "    </tr>\n",
       "    <tr>\n",
       "      <th>1</th>\n",
       "      <td>-106.26</td>\n",
       "      <td>2550.24</td>\n",
       "      <td>sell</td>\n",
       "      <td>2020-10-02 13:55:00-04:00</td>\n",
       "      <td>2.64</td>\n",
       "      <td>966</td>\n",
       "      <td>-1.12%</td>\n",
       "      <td></td>\n",
       "      <td>{'avg': 2.6837698234514153, 'rsi': [39.864293899797666, 39.864293899797666, 31.440628429022638], 'vwap': 2.646666666666667, 'reasons': 'stopped', 'movement': -0.03999999999999995, 'sell_macd': [-0.003775988318570178, -0.004349042885293919, -0.004998838094620428, -0.005440252048710903, -0.006925679562088227], 'sell_macd_signal': [-0.001240375106509645, -0.0018621086622664998, -0.0024894545487372855, -0.003079614048732009, -0.0038488271514032528]}</td>\n",
       "      <td>3.06</td>\n",
       "      <td>2.65</td>\n",
       "    </tr>\n",
       "  </tbody>\n",
       "</table>"
      ],
      "text/plain": [
       "<IPython.core.display.HTML object>"
      ]
     },
     "metadata": {},
     "output_type": "display_data"
    },
    {
     "data": {
      "image/png": "[encoded data removed]",
      "text/plain": [
       "<Figure size 432x288 with 1 Axes>"
      ]
     },
     "metadata": {
      "needs_background": "light"
     },
     "output_type": "display_data"
    },
    {
     "name": "stdout",
     "output_type": "stream",
     "text": [
      "PRPO analysis with profit 27.12\n"
     ]
    },
    {
     "data": {
      "text/html": [
       "<table border=\"1\" class=\"dataframe\">\n",
       "  <thead>\n",
       "    <tr style=\"text-align: right;\">\n",
       "      <th></th>\n",
       "      <th>profit</th>\n",
       "      <th>trade</th>\n",
       "      <th>operation</th>\n",
       "      <th>at</th>\n",
       "      <th>price</th>\n",
       "      <th>qty</th>\n",
       "      <th>daily change</th>\n",
       "      <th>vwap</th>\n",
       "      <th>indicators</th>\n",
       "      <th>target price</th>\n",
       "      <th>stop price</th>\n",
       "    </tr>\n",
       "  </thead>\n",
       "  <tbody>\n",
       "    <tr>\n",
       "      <th>0</th>\n",
       "      <td>-1152.60</td>\n",
       "      <td>-1152.60</td>\n",
       "      <td>buy</td>\n",
       "      <td>2020-10-02 10:27:00-04:00</td>\n",
       "      <td>2.55</td>\n",
       "      <td>452</td>\n",
       "      <td>4.94%</td>\n",
       "      <td></td>\n",
       "      <td>{'avg': 2.457808019458626, 'macd': [0.017972015644009964, 0.02186757956126195, 0.023880712777783586, 0.026398344639414262, 0.02845291838126851], 'vwap': 2.5531666666666664, 'macd_signal': [0.017174852645638606, 0.018113398028763276, 0.01926686097856734, 0.020693157710736723, 0.02224510984484308]}</td>\n",
       "      <td>3.21</td>\n",
       "      <td>2.33</td>\n",
       "    </tr>\n",
       "    <tr>\n",
       "      <th>1</th>\n",
       "      <td>-549.18</td>\n",
       "      <td>603.42</td>\n",
       "      <td>sell</td>\n",
       "      <td>2020-10-02 10:35:00-04:00</td>\n",
       "      <td>2.67</td>\n",
       "      <td>226</td>\n",
       "      <td>9.88%</td>\n",
       "      <td></td>\n",
       "      <td>{'avg': 2.567608382153938, 'rsi': [69.97896304552876, 75.43300154512076, 77.34758966742923], 'vwap': 2.6819, 'reasons': 'scale-out', 'movement': 0.047686274509804075, 'sell_macd': [0.017328480256102008, 0.021130574923289736, 0.0225201217428741, 0.02590781898225325, 0.029868260740441244], 'sell_macd_signal': [0.01584807731836335, 0.01690457683934863, 0.018027685820053724, 0.019603712452493628, 0.02165662211008315]}</td>\n",
       "      <td>3.21</td>\n",
       "      <td>2.33</td>\n",
       "    </tr>\n",
       "    <tr>\n",
       "      <th>2</th>\n",
       "      <td>27.12</td>\n",
       "      <td>576.30</td>\n",
       "      <td>sell</td>\n",
       "      <td>2020-10-02 10:39:00-04:00</td>\n",
       "      <td>2.55</td>\n",
       "      <td>226</td>\n",
       "      <td>4.94%</td>\n",
       "      <td></td>\n",
       "      <td>{'avg': 2.578615703344527, 'rsi': [54.88371506211899, 56.2680905838144, 51.255332510324095], 'vwap': 2.5604666666666667, 'reasons': 'bail', 'movement': -0.045253780506063865, 'sell_macd': [0.029333195805376633, 0.028940850527221063, 0.025667063939993184, 0.023297008626049553, 0.02013293510921832], 'sell_macd_signal': [0.02154960912307023, 0.023027857403900395, 0.023555698711118952, 0.023503960694105073, 0.02282975557712772]}</td>\n",
       "      <td>3.21</td>\n",
       "      <td>2.33</td>\n",
       "    </tr>\n",
       "  </tbody>\n",
       "</table>"
      ],
      "text/plain": [
       "<IPython.core.display.HTML object>"
      ]
     },
     "metadata": {},
     "output_type": "display_data"
    },
    {
     "data": {
      "image/png": "[encoded data removed]",
      "text/plain": [
       "<Figure size 432x288 with 1 Axes>"
      ]
     },
     "metadata": {
      "needs_background": "light"
     },
     "output_type": "display_data"
    }
   ],
   "source": [
    "for symbol in minute_history:\n",
    "    symbol_df = trades.loc[trades[\"symbol\"] == symbol]\n",
    "    start_date = symbol_df[\"client_time\"].min()\n",
    "    start_date = start_date.replace(hour=9, minute=30)\n",
    "    end_date = start_date.replace(hour=16, minute=0)\n",
    "    cool_down_date = start_date + timedelta(minutes=5)\n",
    "    minute_history_index = minute_history[symbol][\"close\"].index.get_loc(\n",
    "        start_date, method=\"nearest\"\n",
    "    )\n",
    "    end_index = minute_history[symbol][\"close\"].index.get_loc(\n",
    "        end_date, method=\"nearest\"\n",
    "    )\n",
    "    cool_minute_history_index = minute_history[symbol][\"close\"].index.get_loc(\n",
    "        cool_down_date, method=\"nearest\"\n",
    "    )\n",
    "    open_price = minute_history[symbol][\"close\"][cool_minute_history_index]\n",
    "    plt.plot(\n",
    "        minute_history[symbol][\"close\"][minute_history_index:end_index].between_time(\n",
    "            \"9:30\", \"16:00\"\n",
    "        ),\n",
    "        label=symbol,\n",
    "    )\n",
    "    plt.xticks(rotation=45)\n",
    "\n",
    "    delta = 0\n",
    "    profit = 0\n",
    "\n",
    "    operations = []\n",
    "    deltas = []\n",
    "    profits = []\n",
    "    times = []\n",
    "    prices = []\n",
    "    qtys = []\n",
    "    indicators = []\n",
    "    target_price = []\n",
    "    stop_price = []\n",
    "    daily_change = []\n",
    "    precent_vwap = []\n",
    "    patterns = []\n",
    "    for index, row in symbol_df.iterrows():\n",
    "        if (\n",
    "            row[\"operation\"] == \"buy\"\n",
    "            and row[\"qty\"] > 0\n",
    "            or row[\"operation\"] == \"sell\"\n",
    "            and row[\"qty\"] < 0\n",
    "        ):\n",
    "            try:\n",
    "                now = int(row[\"client_time\"])\n",
    "                continue\n",
    "            except Exception:\n",
    "                pass\n",
    "\n",
    "        delta = (\n",
    "            row[\"price\"]\n",
    "            * row[\"qty\"]\n",
    "            * (1 if row[\"operation\"] == \"sell\" and row[\"qty\"] > 0 else -1)\n",
    "        )\n",
    "        profit += delta\n",
    "        plt.scatter(\n",
    "            row[\"client_time\"].to_pydatetime(),\n",
    "            row[\"price\"],\n",
    "            c=\"g\" if row[\"operation\"] == \"buy\" else \"r\",\n",
    "            s=100,\n",
    "        )\n",
    "        deltas.append(round(delta, 2))\n",
    "        profits.append(round(profit, 2))\n",
    "        operations.append(row[\"operation\"])\n",
    "        times.append(pd.to_datetime(row[\"client_time\"]))\n",
    "        prices.append(row[\"price\"])\n",
    "        qtys.append(row[\"qty\"])\n",
    "        indicator = json.loads(row.indicators)\n",
    "        indicators.append(indicator)\n",
    "        target_price.append(row[\"target_price\"])\n",
    "        stop_price.append(row[\"stop_price\"])\n",
    "        daily_change.append(\n",
    "            f\"{round(100.0 * (float(row['price']) - open_price) / open_price, 2)}%\"\n",
    "        )\n",
    "        precent_vwap.append(\n",
    "            f\"{round(100.0 * (indicator['buy']['avg'] - open_price) / open_price, 2)}%\"\n",
    "            if 'buy' in indicator and indicator['buy'] and \"avg\" in indicator['buy']\n",
    "            else \"\"\n",
    "        )\n",
    "\n",
    "    d = {\n",
    "        \"profit\": profits,\n",
    "        \"trade\": deltas,\n",
    "        \"operation\": operations,\n",
    "        \"at\": times,\n",
    "        \"price\": prices,\n",
    "        \"qty\": qtys,\n",
    "        \"daily change\": daily_change,\n",
    "        \"vwap\": precent_vwap,\n",
    "        \"indicators\": indicators,\n",
    "        \"target price\": target_price,\n",
    "        \"stop price\": stop_price,\n",
    "    }\n",
    "    print(f\"{symbol} analysis with profit {round(profit, 2)}\")\n",
    "    display(HTML(pd.DataFrame(data=d).to_html()))\n",
    "    plt.legend()\n",
    "    plt.show()"
   ]
  }
 ],
 "metadata": {
  "kernelspec": {
   "display_name": "Python 3",
   "language": "python",
   "name": "python3"
  },
  "language_info": {
   "codemirror_mode": {
    "name": "ipython",
    "version": 3
   },
   "file_extension": ".py",
   "mimetype": "text/x-python",
   "name": "python",
   "nbconvert_exporter": "python",
   "pygments_lexer": "ipython3",
   "version": "3.8.0"
  }
 },
 "nbformat": 4,
 "nbformat_minor": 2
}
