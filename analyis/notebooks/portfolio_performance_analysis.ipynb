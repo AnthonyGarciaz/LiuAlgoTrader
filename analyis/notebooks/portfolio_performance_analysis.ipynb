{
 "cells": [
  {
   "cell_type": "code",
   "execution_count": 1,
   "metadata": {
    "scrolled": true
   },
   "outputs": [],
   "source": [
    "import pandas as pd\n",
    "import matplotlib.pyplot as plt\n",
    "import alpaca_trade_api as tradeapi\n",
    "import numpy as np\n",
    "import requests\n",
    "from datetime import datetime, timedelta, date\n",
    "from IPython.display import display, HTML\n",
    "from liualgotrader.analytics import analysis\n",
    "\n",
    "%matplotlib inline\n",
    "import json\n",
    "import math\n",
    "from dateutil import parser\n",
    "from pytz import timezone\n",
    "import sys\n",
    "import pytz\n",
    "import asyncio\n",
    "import nest_asyncio\n",
    "nest_asyncio.apply()"
   ]
  },
  {
   "cell_type": "code",
   "execution_count": 2,
   "metadata": {
    "scrolled": true
   },
   "outputs": [],
   "source": [
    "day_to_analyze = datetime.strptime(\"2020-10-20\", \"%Y-%m-%d\")\n",
    "env = \"PAPER\""
   ]
  },
  {
   "cell_type": "code",
   "execution_count": 3,
   "metadata": {
    "scrolled": true
   },
   "outputs": [
    {
     "name": "stdout",
     "output_type": "stream",
     "text": [
      "[91255]2020-10-25 17:09:47.388643:db connection pool initialized\n"
     ]
    }
   ],
   "source": [
    "trades = analysis.load_trades(day_to_analyze, env)\n",
    "algo_runs = analysis.load_runs(day_to_analyze, env)"
   ]
  },
  {
   "cell_type": "code",
   "execution_count": 6,
   "metadata": {
    "scrolled": false
   },
   "outputs": [
    {
     "name": "stdout",
     "output_type": "stream",
     "text": [
      "[PAPER] eb21fad4-011f-48b6-9eb5-5705d37450a6\n",
      "2020-10-20 11:35:38.942569-04:00\n",
      "Total revenues=$55.00\n"
     ]
    },
    {
     "data": {
      "text/html": [
       "<div>\n",
       "<style scoped>\n",
       "    .dataframe tbody tr th:only-of-type {\n",
       "        vertical-align: middle;\n",
       "    }\n",
       "\n",
       "    .dataframe tbody tr th {\n",
       "        vertical-align: top;\n",
       "    }\n",
       "\n",
       "    .dataframe thead th {\n",
       "        text-align: right;\n",
       "    }\n",
       "</style>\n",
       "<table border=\"1\" class=\"dataframe\">\n",
       "  <thead>\n",
       "    <tr style=\"text-align: right;\">\n",
       "      <th></th>\n",
       "      <th>symbol</th>\n",
       "      <th>revenues</th>\n",
       "      <th>count</th>\n",
       "    </tr>\n",
       "  </thead>\n",
       "  <tbody>\n",
       "    <tr>\n",
       "      <th>0</th>\n",
       "      <td>BLCT</td>\n",
       "      <td>44.88</td>\n",
       "      <td>2</td>\n",
       "    </tr>\n",
       "    <tr>\n",
       "      <th>1</th>\n",
       "      <td>TGI</td>\n",
       "      <td>-3.52</td>\n",
       "      <td>2</td>\n",
       "    </tr>\n",
       "    <tr>\n",
       "      <th>2</th>\n",
       "      <td>UONE</td>\n",
       "      <td>13.64</td>\n",
       "      <td>2</td>\n",
       "    </tr>\n",
       "  </tbody>\n",
       "</table>\n",
       "</div>"
      ],
      "text/plain": [
       "  symbol revenues  count\n",
       "0   BLCT    44.88      2\n",
       "1    TGI    -3.52      2\n",
       "2   UONE    13.64      2"
      ]
     },
     "metadata": {},
     "output_type": "display_data"
    },
    {
     "ename": "IndexError",
     "evalue": "list index out of range",
     "output_type": "error",
     "traceback": [
      "\u001b[0;31m---------------------------------------------------------------------------\u001b[0m",
      "\u001b[0;31mIndexError\u001b[0m                                Traceback (most recent call last)",
      "\u001b[0;32m<ipython-input-6-cc38b6c8c1f9>\u001b[0m in \u001b[0;36m<module>\u001b[0;34m\u001b[0m\n\u001b[1;32m     29\u001b[0m         ) \n\u001b[1;32m     30\u001b[0m \u001b[0;34m\u001b[0m\u001b[0m\n\u001b[0;32m---> 31\u001b[0;31m     \u001b[0menv\u001b[0m \u001b[0;34m=\u001b[0m \u001b[0malgo_runs\u001b[0m\u001b[0;34m[\u001b[0m\u001b[0malgo_runs\u001b[0m\u001b[0;34m[\u001b[0m\u001b[0;34m\"batch_id\"\u001b[0m\u001b[0;34m]\u001b[0m \u001b[0;34m==\u001b[0m \u001b[0mbatch_id\u001b[0m\u001b[0;34m]\u001b[0m\u001b[0;34m.\u001b[0m\u001b[0malgo_env\u001b[0m\u001b[0;34m.\u001b[0m\u001b[0mtolist\u001b[0m\u001b[0;34m(\u001b[0m\u001b[0;34m)\u001b[0m\u001b[0;34m[\u001b[0m\u001b[0;36m0\u001b[0m\u001b[0;34m]\u001b[0m\u001b[0;34m\u001b[0m\u001b[0;34m\u001b[0m\u001b[0m\n\u001b[0m\u001b[1;32m     32\u001b[0m     print(\n\u001b[1;32m     33\u001b[0m         \u001b[0;34mf\"[{env}] {batch_id}\\n{batch_time}\\nTotal revenues=${round(sum(how_was_my_day['revenues']),2)}\"\u001b[0m\u001b[0;34m\u001b[0m\u001b[0;34m\u001b[0m\u001b[0m\n",
      "\u001b[0;31mIndexError\u001b[0m: list index out of range"
     ]
    }
   ],
   "source": [
    "symbol_name = []\n",
    "counts = []\n",
    "revenues = []\n",
    "est = pytz.timezone(\"US/Eastern\")\n",
    "batch_ids = trades.batch_id.unique().tolist()\n",
    "#batch_ids.reverse()\n",
    "\n",
    "current_max = pd.options.display.max_rows\n",
    "pd.set_option(\"display.max_rows\", None)\n",
    "for batch_id in batch_ids:\n",
    "    how_was_my_day = pd.DataFrame()\n",
    "    how_was_my_day[\"symbol\"] = trades.loc[trades[\"batch_id\"] == batch_id][\n",
    "        \"symbol\"\n",
    "    ].unique()\n",
    "    how_was_my_day[\"revenues\"] = how_was_my_day[\"symbol\"].apply(\n",
    "        lambda x: analysis.calc_batch_revenue(x, trades, batch_id)\n",
    "    )\n",
    "    how_was_my_day[\"count\"] = how_was_my_day[\"symbol\"].apply(\n",
    "        lambda x: analysis.count_trades(x, trades, batch_id)\n",
    "    )\n",
    "\n",
    "    if len(algo_runs.loc[algo_runs[\"batch_id\"] == batch_id]\n",
    "        .start_time) > 0:\n",
    "        batch_time = (\n",
    "            algo_runs.loc[algo_runs[\"batch_id\"] == batch_id]\n",
    "            .start_time.min()\n",
    "            .tz_localize(\"utc\")\n",
    "            .astimezone(est)\n",
    "        ) \n",
    "    else:\n",
    "        continue\n",
    "    \n",
    "    env = algo_runs[algo_runs[\"batch_id\"] == batch_id].algo_env.tolist()[0]\n",
    "    print(\n",
    "        f\"[{env}] {batch_id}\\n{batch_time}\\nTotal revenues=${round(sum(how_was_my_day['revenues']),2)}\"\n",
    "    )\n",
    "    display(how_was_my_day)\n",
    "\n",
    "pd.set_option(\"display.max_rows\", current_max)"
   ]
  },
  {
   "cell_type": "code",
   "execution_count": null,
   "metadata": {
    "scrolled": true
   },
   "outputs": [],
   "source": [
    "api = tradeapi.REST(base_url=\"https://api.alpaca.markets\")\n",
    "minute_history = {}\n",
    "for symbol in trades.symbol.unique().tolist():\n",
    "    minute_history[symbol] = api.polygon.historic_agg_v2(\n",
    "        symbol,\n",
    "        1,\n",
    "        \"minute\",\n",
    "        _from=str((day_to_analyze - timedelta(days=10)).date()),\n",
    "        to=str((day_to_analyze + timedelta(days=1)).date()),\n",
    "    ).df"
   ]
  },
  {
   "cell_type": "code",
   "execution_count": null,
   "metadata": {
    "scrolled": false
   },
   "outputs": [],
   "source": [
    "est = pytz.timezone(\"US/Eastern\")\n",
    "position = {}\n",
    "for symbol in minute_history:\n",
    "    symbol_df = trades.loc[trades[\"symbol\"] == symbol]\n",
    "    start_date = symbol_df[\"tstamp\"].min().to_pydatetime()\n",
    "    start_date = start_date.replace(\n",
    "        hour=9, minute=30, second=0, microsecond=0, tzinfo=None\n",
    "    )\n",
    "    end_date = start_date.replace(hour=16, minute=0, tzinfo=None)\n",
    "    cool_down_date = start_date + timedelta(minutes=5)\n",
    "    try:\n",
    "        start_index = minute_history[symbol][\"close\"].index.get_loc(\n",
    "            start_date, method=\"nearest\"\n",
    "        )\n",
    "        end_index = minute_history[symbol][\"close\"].index.get_loc(\n",
    "            end_date, method=\"nearest\"\n",
    "        )\n",
    "    except Exception as e:\n",
    "        print(f\"Error for {symbol}: {e}\")\n",
    "        continue\n",
    "\n",
    "    cool_minute_history_index = minute_history[symbol][\"close\"].index.get_loc(\n",
    "        cool_down_date, method=\"nearest\"\n",
    "    )\n",
    "    open_price = float(minute_history[symbol][\"close\"][cool_minute_history_index])\n",
    "    plt.plot(\n",
    "        minute_history[symbol][\"close\"][start_index:end_index],\n",
    "        label=symbol,\n",
    "    )\n",
    "    plt.xticks(rotation=45)\n",
    "\n",
    "    delta = 0\n",
    "    profit = 0\n",
    "\n",
    "    operations = []\n",
    "    deltas = []\n",
    "    profits = []\n",
    "    times = []\n",
    "    prices = []\n",
    "    qtys = []\n",
    "    indicators = []\n",
    "    target_price = []\n",
    "    stop_price = []\n",
    "    daily_change = []\n",
    "    precent_vwap = []\n",
    "    position[symbol] = 0\n",
    "    for index, row in symbol_df.iterrows():\n",
    "        if not position[symbol]:\n",
    "            try:\n",
    "                now = int(row[\"client_time\"])\n",
    "                continue\n",
    "            except Exception:\n",
    "                pass\n",
    "\n",
    "        if position[symbol] >= 0 and row[\"operation\"] == \"buy\":\n",
    "            delta = -row[\"price\"] * row[\"qty\"]\n",
    "            position[symbol] += row[\"qty\"]\n",
    "        elif position[symbol] <= 0 and row[\"operation\"] == \"sell\":\n",
    "            delta = row[\"price\"] * row[\"qty\"]\n",
    "            position[symbol] -= row[\"qty\"]\n",
    "        elif position[symbol] > 0 and row[\"operation\"] == \"sell\":\n",
    "            delta = row[\"price\"] * row[\"qty\"]\n",
    "            position[symbol] -= row[\"qty\"]\n",
    "        elif position[symbol] < 0 and row[\"operation\"] == \"buy\":\n",
    "            delta = -row[\"price\"] * row[\"qty\"]\n",
    "            position[symbol] += row[\"qty\"]\n",
    "\n",
    "        profit += delta\n",
    "        plt.scatter(\n",
    "            row[\"tstamp\"].to_pydatetime(),\n",
    "            row[\"price\"],\n",
    "            c=\"g\" if row[\"operation\"] == \"buy\" else \"r\",\n",
    "            s=100,\n",
    "        )\n",
    "        deltas.append(round(delta, 2))\n",
    "        profits.append(round(profit, 2))\n",
    "        operations.append(row[\"operation\"])\n",
    "        times.append(pytz.utc.localize(pd.to_datetime(row[\"tstamp\"])).astimezone(est))\n",
    "        prices.append(row[\"price\"])\n",
    "        qtys.append(row[\"qty\"])\n",
    "        indicator = json.loads(row.indicators)\n",
    "        indicators.append(indicator)\n",
    "        target_price.append(row[\"target_price\"])\n",
    "        stop_price.append(row[\"stop_price\"])\n",
    "        daily_change.append(\n",
    "            f\"{round(100.0 * (float(row['price']) - open_price) / open_price, 2)}%\"\n",
    "        )\n",
    "        precent_vwap.append(\n",
    "            f\"{round(100.0 * (indicator['buy']['avg'] - open_price) / open_price, 2)}%\"\n",
    "            if indicator['buy'] and \"avg\" in indicator['buy']\n",
    "            else \"\"\n",
    "        )\n",
    "\n",
    "    d = {\n",
    "        \"profit\": profits,\n",
    "        \"trade\": deltas,\n",
    "        \"operation\": operations,\n",
    "        \"at\": times,\n",
    "        \"price\": prices,\n",
    "        \"qty\": qtys,\n",
    "        \"daily change\": daily_change,\n",
    "        \"vwap\": precent_vwap,\n",
    "        \"indicators\": indicators,\n",
    "        \"target price\": target_price,\n",
    "        \"stop price\": stop_price,\n",
    "    }\n",
    "    print(f\"{symbol} analysis with profit ${round(profit, 2)}\")\n",
    "    display(HTML(pd.DataFrame(data=d).to_html()))\n",
    "    plt.legend()\n",
    "    plt.show()"
   ]
  }
 ],
 "metadata": {
  "kernelspec": {
   "display_name": "Python 3",
   "language": "python",
   "name": "python3"
  },
  "language_info": {
   "codemirror_mode": {
    "name": "ipython",
    "version": 3
   },
   "file_extension": ".py",
   "mimetype": "text/x-python",
   "name": "python",
   "nbconvert_exporter": "python",
   "pygments_lexer": "ipython3",
   "version": "3.8.0"
  }
 },
 "nbformat": 4,
 "nbformat_minor": 2
}
