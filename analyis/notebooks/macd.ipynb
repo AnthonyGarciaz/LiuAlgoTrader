{
 "cells": [
  {
   "cell_type": "code",
   "execution_count": 1,
   "metadata": {},
   "outputs": [],
   "source": [
    "import pandas as pd\n",
    "import matplotlib.pyplot as plt\n",
    "import alpaca_trade_api as tradeapi\n",
    "import numpy as np\n",
    "import requests\n",
    "from talib import MACD, RSI, BBANDS\n",
    "from datetime import datetime, timedelta, date\n",
    "from IPython.display import display, HTML\n",
    "%matplotlib inline\n",
    "import json\n",
    "import math\n",
    "from dateutil import parser\n",
    "from pytz import timezone\n",
    "import pytz\n",
    "import sys\n",
    "import iso8601"
   ]
  },
  {
   "cell_type": "code",
   "execution_count": 2,
   "metadata": {},
   "outputs": [],
   "source": [
    "api = tradeapi.REST(base_url=\"https://api.alpaca.markets\")\n",
    "session = requests.session()"
   ]
  },
  {
   "cell_type": "code",
   "execution_count": 3,
   "metadata": {},
   "outputs": [],
   "source": [
    "symbol = 'CLPS'"
   ]
  },
  {
   "cell_type": "code",
   "execution_count": 4,
   "metadata": {},
   "outputs": [],
   "source": [
    "day_to_analyze = '2020-10-23'"
   ]
  },
  {
   "cell_type": "code",
   "execution_count": 5,
   "metadata": {},
   "outputs": [],
   "source": [
    "minutes_data = api.polygon.historic_agg_v2(\n",
    "    symbol, \n",
    "    1, \n",
    "    'minute',\n",
    "    _from = str((datetime.strptime(day_to_analyze, '%Y-%m-%d')-timedelta(days=7)).date()),\n",
    "    to=str((datetime.strptime(day_to_analyze, '%Y-%m-%d')+timedelta(days=1)).date())).df"
   ]
  },
  {
   "cell_type": "code",
   "execution_count": 6,
   "metadata": {},
   "outputs": [
    {
     "data": {
      "text/html": [
       "<div>\n",
       "<style scoped>\n",
       "    .dataframe tbody tr th:only-of-type {\n",
       "        vertical-align: middle;\n",
       "    }\n",
       "\n",
       "    .dataframe tbody tr th {\n",
       "        vertical-align: top;\n",
       "    }\n",
       "\n",
       "    .dataframe thead th {\n",
       "        text-align: right;\n",
       "    }\n",
       "</style>\n",
       "<table border=\"1\" class=\"dataframe\">\n",
       "  <thead>\n",
       "    <tr style=\"text-align: right;\">\n",
       "      <th></th>\n",
       "      <th>open</th>\n",
       "      <th>high</th>\n",
       "      <th>low</th>\n",
       "      <th>close</th>\n",
       "      <th>volume</th>\n",
       "      <th>vwap</th>\n",
       "    </tr>\n",
       "    <tr>\n",
       "      <th>timestamp</th>\n",
       "      <th></th>\n",
       "      <th></th>\n",
       "      <th></th>\n",
       "      <th></th>\n",
       "      <th></th>\n",
       "      <th></th>\n",
       "    </tr>\n",
       "  </thead>\n",
       "  <tbody>\n",
       "    <tr>\n",
       "      <th>2020-10-16 09:11:00-04:00</th>\n",
       "      <td>3.2800</td>\n",
       "      <td>3.2800</td>\n",
       "      <td>3.2800</td>\n",
       "      <td>3.2800</td>\n",
       "      <td>200.0</td>\n",
       "      <td>3.2800</td>\n",
       "    </tr>\n",
       "    <tr>\n",
       "      <th>2020-10-16 09:30:00-04:00</th>\n",
       "      <td>3.1300</td>\n",
       "      <td>3.1300</td>\n",
       "      <td>3.1248</td>\n",
       "      <td>3.1300</td>\n",
       "      <td>2403.0</td>\n",
       "      <td>3.1279</td>\n",
       "    </tr>\n",
       "    <tr>\n",
       "      <th>2020-10-16 09:31:00-04:00</th>\n",
       "      <td>3.2400</td>\n",
       "      <td>3.2400</td>\n",
       "      <td>3.2400</td>\n",
       "      <td>3.2400</td>\n",
       "      <td>100.0</td>\n",
       "      <td>3.2400</td>\n",
       "    </tr>\n",
       "    <tr>\n",
       "      <th>2020-10-16 09:33:00-04:00</th>\n",
       "      <td>3.2400</td>\n",
       "      <td>3.2400</td>\n",
       "      <td>3.1800</td>\n",
       "      <td>3.1800</td>\n",
       "      <td>2177.0</td>\n",
       "      <td>3.1839</td>\n",
       "    </tr>\n",
       "    <tr>\n",
       "      <th>2020-10-16 09:41:00-04:00</th>\n",
       "      <td>3.1776</td>\n",
       "      <td>3.1776</td>\n",
       "      <td>3.1000</td>\n",
       "      <td>3.1000</td>\n",
       "      <td>250.0</td>\n",
       "      <td>3.1470</td>\n",
       "    </tr>\n",
       "    <tr>\n",
       "      <th>...</th>\n",
       "      <td>...</td>\n",
       "      <td>...</td>\n",
       "      <td>...</td>\n",
       "      <td>...</td>\n",
       "      <td>...</td>\n",
       "      <td>...</td>\n",
       "    </tr>\n",
       "    <tr>\n",
       "      <th>2020-10-23 18:47:00-04:00</th>\n",
       "      <td>4.1700</td>\n",
       "      <td>4.1700</td>\n",
       "      <td>4.1700</td>\n",
       "      <td>4.1700</td>\n",
       "      <td>193.0</td>\n",
       "      <td>4.1700</td>\n",
       "    </tr>\n",
       "    <tr>\n",
       "      <th>2020-10-23 19:23:00-04:00</th>\n",
       "      <td>4.1700</td>\n",
       "      <td>4.1700</td>\n",
       "      <td>4.1700</td>\n",
       "      <td>4.1700</td>\n",
       "      <td>599.0</td>\n",
       "      <td>4.1700</td>\n",
       "    </tr>\n",
       "    <tr>\n",
       "      <th>2020-10-23 19:24:00-04:00</th>\n",
       "      <td>4.1600</td>\n",
       "      <td>4.1600</td>\n",
       "      <td>4.1600</td>\n",
       "      <td>4.1600</td>\n",
       "      <td>1151.0</td>\n",
       "      <td>4.1600</td>\n",
       "    </tr>\n",
       "    <tr>\n",
       "      <th>2020-10-23 19:46:00-04:00</th>\n",
       "      <td>4.3000</td>\n",
       "      <td>4.3000</td>\n",
       "      <td>4.2999</td>\n",
       "      <td>4.2999</td>\n",
       "      <td>2582.0</td>\n",
       "      <td>4.3000</td>\n",
       "    </tr>\n",
       "    <tr>\n",
       "      <th>2020-10-23 19:58:00-04:00</th>\n",
       "      <td>4.1600</td>\n",
       "      <td>4.2300</td>\n",
       "      <td>4.1600</td>\n",
       "      <td>4.2300</td>\n",
       "      <td>350.0</td>\n",
       "      <td>4.2100</td>\n",
       "    </tr>\n",
       "  </tbody>\n",
       "</table>\n",
       "<p>1712 rows × 6 columns</p>\n",
       "</div>"
      ],
      "text/plain": [
       "                             open    high     low   close  volume    vwap\n",
       "timestamp                                                                \n",
       "2020-10-16 09:11:00-04:00  3.2800  3.2800  3.2800  3.2800   200.0  3.2800\n",
       "2020-10-16 09:30:00-04:00  3.1300  3.1300  3.1248  3.1300  2403.0  3.1279\n",
       "2020-10-16 09:31:00-04:00  3.2400  3.2400  3.2400  3.2400   100.0  3.2400\n",
       "2020-10-16 09:33:00-04:00  3.2400  3.2400  3.1800  3.1800  2177.0  3.1839\n",
       "2020-10-16 09:41:00-04:00  3.1776  3.1776  3.1000  3.1000   250.0  3.1470\n",
       "...                           ...     ...     ...     ...     ...     ...\n",
       "2020-10-23 18:47:00-04:00  4.1700  4.1700  4.1700  4.1700   193.0  4.1700\n",
       "2020-10-23 19:23:00-04:00  4.1700  4.1700  4.1700  4.1700   599.0  4.1700\n",
       "2020-10-23 19:24:00-04:00  4.1600  4.1600  4.1600  4.1600  1151.0  4.1600\n",
       "2020-10-23 19:46:00-04:00  4.3000  4.3000  4.2999  4.2999  2582.0  4.3000\n",
       "2020-10-23 19:58:00-04:00  4.1600  4.2300  4.1600  4.2300   350.0  4.2100\n",
       "\n",
       "[1712 rows x 6 columns]"
      ]
     },
     "execution_count": 6,
     "metadata": {},
     "output_type": "execute_result"
    }
   ],
   "source": [
    "minutes_data"
   ]
  },
  {
   "cell_type": "code",
   "execution_count": 7,
   "metadata": {},
   "outputs": [],
   "source": [
    "clean_close = minutes_data[\"close\"].dropna().between_time(\"9:30\", \"16:00\").dropna()"
   ]
  },
  {
   "cell_type": "code",
   "execution_count": 8,
   "metadata": {},
   "outputs": [
    {
     "data": {
      "text/plain": [
       "timestamp\n",
       "2020-10-16 09:30:00-04:00    3.1300\n",
       "2020-10-16 09:31:00-04:00    3.2400\n",
       "2020-10-16 09:33:00-04:00    3.1800\n",
       "2020-10-16 09:41:00-04:00    3.1000\n",
       "2020-10-16 09:42:00-04:00    3.1008\n",
       "                              ...  \n",
       "2020-10-23 15:56:00-04:00    4.2500\n",
       "2020-10-23 15:57:00-04:00    4.2500\n",
       "2020-10-23 15:58:00-04:00    4.2000\n",
       "2020-10-23 15:59:00-04:00    4.3400\n",
       "2020-10-23 16:00:00-04:00    4.3300\n",
       "Name: close, Length: 1192, dtype: float64"
      ]
     },
     "execution_count": 8,
     "metadata": {},
     "output_type": "execute_result"
    }
   ],
   "source": [
    "clean_close"
   ]
  },
  {
   "cell_type": "code",
   "execution_count": 9,
   "metadata": {},
   "outputs": [],
   "source": [
    "macds = MACD(clean_close)"
   ]
  },
  {
   "cell_type": "code",
   "execution_count": 10,
   "metadata": {},
   "outputs": [
    {
     "data": {
      "text/plain": [
       "(timestamp\n",
       " 2020-10-16 09:30:00-04:00         NaN\n",
       " 2020-10-16 09:31:00-04:00         NaN\n",
       " 2020-10-16 09:33:00-04:00         NaN\n",
       " 2020-10-16 09:41:00-04:00         NaN\n",
       " 2020-10-16 09:42:00-04:00         NaN\n",
       "                                ...   \n",
       " 2020-10-23 15:56:00-04:00   -0.040314\n",
       " 2020-10-23 15:57:00-04:00   -0.035686\n",
       " 2020-10-23 15:58:00-04:00   -0.035643\n",
       " 2020-10-23 15:59:00-04:00   -0.024035\n",
       " 2020-10-23 16:00:00-04:00   -0.015464\n",
       " Length: 1192, dtype: float64,\n",
       " timestamp\n",
       " 2020-10-16 09:30:00-04:00         NaN\n",
       " 2020-10-16 09:31:00-04:00         NaN\n",
       " 2020-10-16 09:33:00-04:00         NaN\n",
       " 2020-10-16 09:41:00-04:00         NaN\n",
       " 2020-10-16 09:42:00-04:00         NaN\n",
       "                                ...   \n",
       " 2020-10-23 15:56:00-04:00   -0.031401\n",
       " 2020-10-23 15:57:00-04:00   -0.032258\n",
       " 2020-10-23 15:58:00-04:00   -0.032935\n",
       " 2020-10-23 15:59:00-04:00   -0.031155\n",
       " 2020-10-23 16:00:00-04:00   -0.028017\n",
       " Length: 1192, dtype: float64,\n",
       " timestamp\n",
       " 2020-10-16 09:30:00-04:00         NaN\n",
       " 2020-10-16 09:31:00-04:00         NaN\n",
       " 2020-10-16 09:33:00-04:00         NaN\n",
       " 2020-10-16 09:41:00-04:00         NaN\n",
       " 2020-10-16 09:42:00-04:00         NaN\n",
       "                                ...   \n",
       " 2020-10-23 15:56:00-04:00   -0.008913\n",
       " 2020-10-23 15:57:00-04:00   -0.003429\n",
       " 2020-10-23 15:58:00-04:00   -0.002708\n",
       " 2020-10-23 15:59:00-04:00    0.007120\n",
       " 2020-10-23 16:00:00-04:00    0.012553\n",
       " Length: 1192, dtype: float64)"
      ]
     },
     "execution_count": 10,
     "metadata": {},
     "output_type": "execute_result"
    }
   ],
   "source": [
    "macds"
   ]
  },
  {
   "cell_type": "code",
   "execution_count": 11,
   "metadata": {},
   "outputs": [],
   "source": [
    "macds[0].dropna().to_csv(f\"{symbol}-{day_to_analyze}-MACD.csv\")\n",
    "macds[1].dropna().to_csv(f\"{symbol}-{day_to_analyze}-MACD-signal.csv\")\n",
    "macds[2].dropna().to_csv(f\"{symbol}-{day_to_analyze}-MACD-hist.csv\")"
   ]
  },
  {
   "cell_type": "code",
   "execution_count": 13,
   "metadata": {},
   "outputs": [
    {
     "data": {
      "text/plain": [
       "timestamp\n",
       "2020-10-23 10:06:00-04:00    0.259833\n",
       "2020-10-23 10:07:00-04:00    0.269320\n",
       "2020-10-23 10:08:00-04:00    0.257729\n",
       "2020-10-23 10:09:00-04:00    0.232948\n",
       "2020-10-23 10:10:00-04:00    0.198935\n",
       "                               ...   \n",
       "2020-10-23 15:56:00-04:00   -0.040314\n",
       "2020-10-23 15:57:00-04:00   -0.035686\n",
       "2020-10-23 15:58:00-04:00   -0.035643\n",
       "2020-10-23 15:59:00-04:00   -0.024035\n",
       "2020-10-23 16:00:00-04:00   -0.015464\n",
       "Length: 343, dtype: float64"
      ]
     },
     "execution_count": 13,
     "metadata": {},
     "output_type": "execute_result"
    }
   ],
   "source": [
    "macds[0][\"2020-10-23 10:06:00\":]"
   ]
  },
  {
   "cell_type": "code",
   "execution_count": 14,
   "metadata": {},
   "outputs": [
    {
     "data": {
      "text/plain": [
       "timestamp\n",
       "2020-10-23 10:06:00-04:00    0.225314\n",
       "2020-10-23 10:07:00-04:00    0.234115\n",
       "2020-10-23 10:08:00-04:00    0.238838\n",
       "2020-10-23 10:09:00-04:00    0.237660\n",
       "2020-10-23 10:10:00-04:00    0.229915\n",
       "                               ...   \n",
       "2020-10-23 15:56:00-04:00   -0.031401\n",
       "2020-10-23 15:57:00-04:00   -0.032258\n",
       "2020-10-23 15:58:00-04:00   -0.032935\n",
       "2020-10-23 15:59:00-04:00   -0.031155\n",
       "2020-10-23 16:00:00-04:00   -0.028017\n",
       "Length: 343, dtype: float64"
      ]
     },
     "execution_count": 14,
     "metadata": {},
     "output_type": "execute_result"
    }
   ],
   "source": [
    "macds[1][\"2020-10-23 10:06:00\":]"
   ]
  },
  {
   "cell_type": "code",
   "execution_count": 15,
   "metadata": {},
   "outputs": [
    {
     "data": {
      "text/plain": [
       "timestamp\n",
       "2020-10-23 10:06:00-04:00    0.034519\n",
       "2020-10-23 10:07:00-04:00    0.035205\n",
       "2020-10-23 10:08:00-04:00    0.018891\n",
       "2020-10-23 10:09:00-04:00   -0.004712\n",
       "2020-10-23 10:10:00-04:00   -0.030980\n",
       "                               ...   \n",
       "2020-10-23 15:56:00-04:00   -0.008913\n",
       "2020-10-23 15:57:00-04:00   -0.003429\n",
       "2020-10-23 15:58:00-04:00   -0.002708\n",
       "2020-10-23 15:59:00-04:00    0.007120\n",
       "2020-10-23 16:00:00-04:00    0.012553\n",
       "Length: 343, dtype: float64"
      ]
     },
     "execution_count": 15,
     "metadata": {},
     "output_type": "execute_result"
    }
   ],
   "source": [
    "macds[2][\"2020-10-23 10:06:00\":]"
   ]
  }
 ],
 "metadata": {
  "kernelspec": {
   "display_name": "Python 3",
   "language": "python",
   "name": "python3"
  },
  "language_info": {
   "codemirror_mode": {
    "name": "ipython",
    "version": 3
   },
   "file_extension": ".py",
   "mimetype": "text/x-python",
   "name": "python",
   "nbconvert_exporter": "python",
   "pygments_lexer": "ipython3",
   "version": "3.8.0"
  }
 },
 "nbformat": 4,
 "nbformat_minor": 4
}
