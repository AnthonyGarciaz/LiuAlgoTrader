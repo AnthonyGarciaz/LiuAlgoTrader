{
 "cells": [
  {
   "cell_type": "code",
   "execution_count": null,
   "metadata": {},
   "outputs": [],
   "source": [
    "import json\n",
    "import math\n",
    "import sys\n",
    "from datetime import date, datetime, timedelta\n",
    "\n",
    "import alpaca_trade_api as tradeapi\n",
    "import iso8601\n",
    "import matplotlib.pyplot as plt\n",
    "import numpy as np\n",
    "import pandas as pd\n",
    "import pytz\n",
    "import requests\n",
    "from dateutil import parser\n",
    "from IPython.display import HTML, display\n",
    "from pytz import timezone\n",
    "from talib import BBANDS, MACD, RSI\n",
    "\n",
    "%matplotlib inline"
   ]
  },
  {
   "cell_type": "code",
   "execution_count": null,
   "metadata": {},
   "outputs": [],
   "source": [
    "api = tradeapi.REST(base_url=\"https://api.alpaca.markets\")\n",
    "session = requests.session()"
   ]
  },
  {
   "cell_type": "code",
   "execution_count": null,
   "metadata": {},
   "outputs": [],
   "source": [
    "symbol = \"CLPS\""
   ]
  },
  {
   "cell_type": "code",
   "execution_count": null,
   "metadata": {},
   "outputs": [],
   "source": [
    "day_to_analyze = \"2020-10-23\""
   ]
  },
  {
   "cell_type": "code",
   "execution_count": null,
   "metadata": {},
   "outputs": [],
   "source": [
    "minutes_data = api.polygon.historic_agg_v2(\n",
    "    symbol,\n",
    "    1,\n",
    "    \"minute\",\n",
    "    _from=str(\n",
    "        (datetime.strptime(day_to_analyze, \"%Y-%m-%d\") - timedelta(days=7)).date()\n",
    "    ),\n",
    "    to=str((datetime.strptime(day_to_analyze, \"%Y-%m-%d\") + timedelta(days=1)).date()),\n",
    ").df"
   ]
  },
  {
   "cell_type": "code",
   "execution_count": null,
   "metadata": {},
   "outputs": [],
   "source": [
    "minutes_data"
   ]
  },
  {
   "cell_type": "code",
   "execution_count": null,
   "metadata": {},
   "outputs": [],
   "source": [
    "clean_close = minutes_data[\"close\"].dropna().between_time(\"9:30\", \"16:00\").dropna()"
   ]
  },
  {
   "cell_type": "code",
   "execution_count": null,
   "metadata": {},
   "outputs": [],
   "source": [
    "clean_close"
   ]
  },
  {
   "cell_type": "code",
   "execution_count": null,
   "metadata": {},
   "outputs": [],
   "source": [
    "macds = MACD(clean_close)"
   ]
  },
  {
   "cell_type": "code",
   "execution_count": null,
   "metadata": {},
   "outputs": [],
   "source": [
    "macds"
   ]
  },
  {
   "cell_type": "code",
   "execution_count": null,
   "metadata": {},
   "outputs": [],
   "source": [
    "macds[0].dropna().to_csv(f\"{symbol}-{day_to_analyze}-MACD.csv\")\n",
    "macds[1].dropna().to_csv(f\"{symbol}-{day_to_analyze}-MACD-signal.csv\")\n",
    "macds[2].dropna().to_csv(f\"{symbol}-{day_to_analyze}-MACD-hist.csv\")"
   ]
  },
  {
   "cell_type": "code",
   "execution_count": null,
   "metadata": {},
   "outputs": [],
   "source": [
    "macds[0][\"2020-10-23 10:06:00\":]"
   ]
  },
  {
   "cell_type": "code",
   "execution_count": null,
   "metadata": {},
   "outputs": [],
   "source": [
    "macds[1][\"2020-10-23 10:06:00\":]"
   ]
  },
  {
   "cell_type": "code",
   "execution_count": null,
   "metadata": {},
   "outputs": [],
   "source": [
    "macds[2][\"2020-10-23 10:06:00\":]"
   ]
  }
 ],
 "metadata": {
  "kernelspec": {
   "display_name": "Python 3",
   "language": "python",
   "name": "python3"
  },
  "language_info": {
   "codemirror_mode": {
    "name": "ipython",
    "version": 3
   },
   "file_extension": ".py",
   "mimetype": "text/x-python",
   "name": "python",
   "nbconvert_exporter": "python",
   "pygments_lexer": "ipython3",
   "version": "3.8.0"
  }
 },
 "nbformat": 4,
 "nbformat_minor": 4
}
