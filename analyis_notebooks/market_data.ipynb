{
 "cells": [
  {
   "cell_type": "code",
   "execution_count": 1,
   "metadata": {
    "scrolled": true
   },
   "outputs": [],
   "source": [
    "import asyncpg\n",
    "import asyncio\n",
    "import os\n",
    "import sys\n",
    "sys.path.insert(0, os.path.abspath('..'))"
   ]
  },
  {
   "cell_type": "code",
   "execution_count": 2,
   "metadata": {},
   "outputs": [],
   "source": [
    "from common.database import create_db_connection\n",
    "from common import trading_data"
   ]
  },
  {
   "cell_type": "code",
   "execution_count": 3,
   "metadata": {},
   "outputs": [
    {
     "data": {
      "text/plain": [
       "<Task pending name='Task-1' coro=<create_db_connection() running at /Users/amichayoren/dev/algo/common/database.py:7>>"
      ]
     },
     "execution_count": 3,
     "metadata": {},
     "output_type": "execute_result"
    },
    {
     "name": "stdout",
     "output_type": "stream",
     "text": [
      "db connection pool initialized\n"
     ]
    }
   ],
   "source": [
    "loop = asyncio.get_event_loop()\n",
    "loop.create_task(create_db_connection(\"postgresql://momentum@localhost/tradedb\"))"
   ]
  },
  {
   "cell_type": "code",
   "execution_count": 4,
   "metadata": {},
   "outputs": [],
   "source": [
    "from common.market_data import calculate_trends, get_market_sectors, get_sector_tickers"
   ]
  },
  {
   "cell_type": "code",
   "execution_count": 5,
   "metadata": {},
   "outputs": [
    {
     "data": {
      "text/plain": [
       "['Basic Materials',\n",
       " 'Commercial Services',\n",
       " 'Communications',\n",
       " 'Communication Services',\n",
       " 'Conglomerates',\n",
       " 'Consumer Cyclical',\n",
       " 'Consumer Defensive',\n",
       " 'Consumer Goods',\n",
       " 'Consumer Non Durables',\n",
       " 'Consumer Services',\n",
       " 'Energy',\n",
       " 'Energy Minerals',\n",
       " 'Finance',\n",
       " 'Financial',\n",
       " 'Financial Services',\n",
       " 'Healthcare',\n",
       " 'Health Technology',\n",
       " 'Industrial Goods',\n",
       " 'Industrials',\n",
       " 'Miscellaneous',\n",
       " 'Process Industries',\n",
       " 'Producer Manufacturing',\n",
       " 'Real Estate',\n",
       " 'Services',\n",
       " 'Technology',\n",
       " 'Technology Services',\n",
       " 'Transportation',\n",
       " 'Utilities']"
      ]
     },
     "execution_count": 5,
     "metadata": {},
     "output_type": "execute_result"
    }
   ],
   "source": [
    "task = loop.create_task(get_market_sectors(trading_data.db_conn_pool))\n",
    "sectors = await task\n",
    "sectors"
   ]
  },
  {
   "cell_type": "code",
   "execution_count": 6,
   "metadata": {},
   "outputs": [
    {
     "data": {
      "text/plain": [
       "['MPG',\n",
       " 'NTK',\n",
       " 'NUTR',\n",
       " 'BDG',\n",
       " 'GRO',\n",
       " 'QTWW',\n",
       " 'RAI',\n",
       " 'CLC',\n",
       " 'BETR',\n",
       " 'DMND',\n",
       " 'HAR',\n",
       " 'LONG',\n",
       " 'STS',\n",
       " 'STRI']"
      ]
     },
     "execution_count": 6,
     "metadata": {},
     "output_type": "execute_result"
    }
   ],
   "source": [
    "task = loop.create_task(get_sector_tickers(trading_data.db_conn_pool, 'Consumer Goods'))\n",
    "sector_tickers = await task\n",
    "sector_tickers"
   ]
  },
  {
   "cell_type": "code",
   "execution_count": null,
   "metadata": {},
   "outputs": [],
   "source": []
  }
 ],
 "metadata": {
  "kernelspec": {
   "display_name": "Python 3",
   "language": "python",
   "name": "python3"
  },
  "language_info": {
   "codemirror_mode": {
    "name": "ipython",
    "version": 3
   },
   "file_extension": ".py",
   "mimetype": "text/x-python",
   "name": "python",
   "nbconvert_exporter": "python",
   "pygments_lexer": "ipython3",
   "version": "3.8.0"
  }
 },
 "nbformat": 4,
 "nbformat_minor": 2
}
