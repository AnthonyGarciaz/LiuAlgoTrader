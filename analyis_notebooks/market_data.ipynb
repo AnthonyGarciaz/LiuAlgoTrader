{
 "cells": [
  {
   "cell_type": "code",
   "execution_count": 1,
   "metadata": {
    "scrolled": true
   },
   "outputs": [],
   "source": [
    "import asyncpg\n",
    "import asyncio\n",
    "import os\n",
    "import sys\n",
    "sys.path.insert(0, os.path.abspath('..'))"
   ]
  },
  {
   "cell_type": "code",
   "execution_count": 2,
   "metadata": {},
   "outputs": [],
   "source": [
    "from common.database import create_db_connection\n",
    "from common import trading_data"
   ]
  },
  {
   "cell_type": "code",
   "execution_count": 3,
   "metadata": {},
   "outputs": [
    {
     "data": {
      "text/plain": [
       "<Task pending name='Task-1' coro=<create_db_connection() running at /Users/amichayoren/dev/algo/common/database.py:6>>"
      ]
     },
     "execution_count": 3,
     "metadata": {},
     "output_type": "execute_result"
    },
    {
     "name": "stdout",
     "output_type": "stream",
     "text": [
      "db connection pool initialized\n"
     ]
    }
   ],
   "source": [
    "loop = asyncio.get_event_loop()\n",
    "loop.create_task(create_db_connection(\"postgresql://momentum@localhost/tradedb\"))"
   ]
  },
  {
   "cell_type": "code",
   "execution_count": 4,
   "metadata": {},
   "outputs": [],
   "source": [
    "from common.market_data import get_market_sectors, get_market_industries"
   ]
  },
  {
   "cell_type": "code",
   "execution_count": 5,
   "metadata": {
    "scrolled": true
   },
   "outputs": [
    {
     "data": {
      "text/plain": [
       "['Basic Materials',\n",
       " 'Commercial Services',\n",
       " 'Communications',\n",
       " 'Communication Services',\n",
       " 'Conglomerates',\n",
       " 'Consumer Cyclical',\n",
       " 'Consumer Defensive',\n",
       " 'Consumer Goods',\n",
       " 'Consumer Non Durables',\n",
       " 'Consumer Services',\n",
       " 'Energy',\n",
       " 'Energy Minerals',\n",
       " 'Finance',\n",
       " 'Financial',\n",
       " 'Financial Services',\n",
       " 'Healthcare',\n",
       " 'Health Technology',\n",
       " 'Industrial Goods',\n",
       " 'Industrials',\n",
       " 'Miscellaneous',\n",
       " 'Process Industries',\n",
       " 'Producer Manufacturing',\n",
       " 'Real Estate',\n",
       " 'Services',\n",
       " 'Technology',\n",
       " 'Technology Services',\n",
       " 'Transportation',\n",
       " 'Utilities']"
      ]
     },
     "execution_count": 5,
     "metadata": {},
     "output_type": "execute_result"
    }
   ],
   "source": [
    "task = loop.create_task(get_market_sectors(trading_data.db_conn_pool))\n",
    "sectors = await task\n",
    "sectors"
   ]
  },
  {
   "cell_type": "code",
   "execution_count": 6,
   "metadata": {
    "scrolled": true
   },
   "outputs": [
    {
     "data": {
      "text/plain": [
       "['Advertising & Marketing Services',\n",
       " 'Aerospace & Defense',\n",
       " 'Aerospace/Defense',\n",
       " 'Agriculture',\n",
       " 'Airlines',\n",
       " 'Application Software',\n",
       " 'Asset Management',\n",
       " 'Automotive',\n",
       " 'Autos',\n",
       " 'Banking',\n",
       " 'Banks',\n",
       " 'Beverages - Alcoholic',\n",
       " 'Beverages - Non-Alcoholic',\n",
       " 'Biotechnology',\n",
       " 'Brokers & Exchanges',\n",
       " 'Building Materials',\n",
       " 'Business Services',\n",
       " 'Chemicals',\n",
       " 'Chemicals Specialty',\n",
       " 'Coal',\n",
       " 'Communication Equipment',\n",
       " 'Communication Services',\n",
       " 'Computer Hardware',\n",
       " 'Computer Software & Services',\n",
       " 'Conglomerates',\n",
       " 'Consulting & Outsourcing',\n",
       " 'Consumer Durables',\n",
       " 'Consumer NonDurables',\n",
       " 'Consumer Packaged Goods',\n",
       " 'Containers Or Packaging',\n",
       " 'Credit Services',\n",
       " 'Diversified Services',\n",
       " 'Drug Manufacturers',\n",
       " 'Drugs',\n",
       " 'Education',\n",
       " 'Electric Utilities',\n",
       " 'Electronics',\n",
       " 'Employment Services',\n",
       " 'Energy',\n",
       " 'Engineering & Construction',\n",
       " 'Entertainment',\n",
       " 'Farm & Construction Machinery',\n",
       " 'Financial Conglomerates',\n",
       " 'Financial Services',\n",
       " 'Food & Beverage',\n",
       " 'Food Specialty Or Candy',\n",
       " 'Forest Products',\n",
       " 'Health Care Plans',\n",
       " 'Health Care Providers',\n",
       " 'Health Services',\n",
       " 'Homebuilding & Construction',\n",
       " 'Industrial Distribution',\n",
       " 'Industrial Machinery',\n",
       " 'Industrial Products',\n",
       " 'Information Technology Services',\n",
       " 'Insurance',\n",
       " 'Insurance - Life',\n",
       " 'Insurance - Property & Casualty',\n",
       " 'Insurance - Specialty',\n",
       " 'Internet',\n",
       " 'Investment Managers',\n",
       " 'Leisure',\n",
       " 'Manufacturing',\n",
       " 'Manufacturing - Apparel & Furniture',\n",
       " 'Materials & Construction',\n",
       " 'Media',\n",
       " 'Medical Devices',\n",
       " 'Medical Diagnostics & Research',\n",
       " 'Medical Distribution',\n",
       " 'Medical Instruments & Equipment',\n",
       " 'Medical Specialties',\n",
       " 'Metals & Mining',\n",
       " 'Miscellaneous',\n",
       " 'Miscellaneous Commercial Services',\n",
       " 'Oil And Gas Production',\n",
       " 'Oil & Gas - Drilling',\n",
       " 'Oil & Gas - E&P',\n",
       " 'Oil & Gas - Integrated',\n",
       " 'Oil & Gas - Midstream',\n",
       " 'Oil & Gas - Refining & Marketing',\n",
       " 'Oil & Gas - Services',\n",
       " 'Online Media',\n",
       " 'Other Consumer Services',\n",
       " 'Packaging & Containers',\n",
       " 'Personal Services',\n",
       " 'Pharmaceuticals Generic',\n",
       " 'Pharmaceuticals Major',\n",
       " 'Pharmaceuticals Other',\n",
       " 'Property Or Casualty Insurance',\n",
       " 'Publishing',\n",
       " 'Real Estate',\n",
       " 'Real Estate Services',\n",
       " 'REITs',\n",
       " 'Restaurants',\n",
       " 'Retail',\n",
       " 'Retail - Apparel & Specialty',\n",
       " 'Retail - Defensive',\n",
       " 'Semiconductors',\n",
       " 'Specialty Retail',\n",
       " 'Specialty Telecommunications',\n",
       " 'Steel',\n",
       " 'Telecommunications',\n",
       " 'Tobacco',\n",
       " 'Tobacco Products',\n",
       " 'Transportation',\n",
       " 'Transportation & Logistics',\n",
       " 'Travel & Leisure',\n",
       " 'Trucking',\n",
       " 'Truck Manufacturing',\n",
       " 'Utilities',\n",
       " 'Utilities - Independent Power Producers',\n",
       " 'Utilities - Regulated',\n",
       " 'Waste Management',\n",
       " 'Wholesale']"
      ]
     },
     "execution_count": 6,
     "metadata": {},
     "output_type": "execute_result"
    }
   ],
   "source": [
    "task = loop.create_task(get_market_industries(trading_data.db_conn_pool))\n",
    "industries = await task\n",
    "industries"
   ]
  },
  {
   "cell_type": "code",
   "execution_count": null,
   "metadata": {
    "scrolled": true
   },
   "outputs": [],
   "source": []
  }
 ],
 "metadata": {
  "kernelspec": {
   "display_name": "Python 3",
   "language": "python",
   "name": "python3"
  },
  "language_info": {
   "codemirror_mode": {
    "name": "ipython",
    "version": 3
   },
   "file_extension": ".py",
   "mimetype": "text/x-python",
   "name": "python",
   "nbconvert_exporter": "python",
   "pygments_lexer": "ipython3",
   "version": "3.8.0"
  }
 },
 "nbformat": 4,
 "nbformat_minor": 2
}
