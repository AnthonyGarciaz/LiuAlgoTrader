{
 "cells": [
  {
   "cell_type": "code",
   "execution_count": 1,
   "metadata": {},
   "outputs": [],
   "source": [
    "import pandas as pd\n",
    "import psycopg2\n",
    "from sqlalchemy import create_engine\n",
    "import matplotlib.pyplot as plt\n",
    "import alpaca_trade_api as tradeapi\n",
    "import numpy as np\n",
    "import requests\n",
    "from scipy import stats\n",
    "from talib import MACD, RSI, BBANDS\n",
    "from datetime import datetime, timedelta, date\n",
    "from IPython.display import display, HTML\n",
    "%matplotlib inline\n",
    "import json\n",
    "import math\n",
    "from dateutil import parser\n",
    "from pytz import timezone\n",
    "import sys"
   ]
  },
  {
   "cell_type": "code",
   "execution_count": 2,
   "metadata": {},
   "outputs": [],
   "source": [
    "start_day_to_analyze = '2020-05-14'\n",
    "end_day_to_analyze = '2020-05-15'"
   ]
  },
  {
   "cell_type": "code",
   "execution_count": 3,
   "metadata": {},
   "outputs": [],
   "source": [
    "db_conn = create_engine(\"postgresql://momentum@localhost:5432/tradedb\")"
   ]
  },
  {
   "cell_type": "code",
   "execution_count": 4,
   "metadata": {},
   "outputs": [],
   "source": [
    "api = tradeapi.REST(base_url=\"https://api.alpaca.markets\")\n",
    "session = requests.session()"
   ]
  },
  {
   "cell_type": "code",
   "execution_count": 5,
   "metadata": {},
   "outputs": [],
   "source": [
    "query = f'''\n",
    "SELECT * \n",
    "FROM \n",
    "new_trades as t\n",
    "WHERE \n",
    "    tstamp >= '{start_day_to_analyze}' and \n",
    "    tstamp < '{end_day_to_analyze}' \n",
    "ORDER BY symbol, tstamp\n",
    "'''\n",
    "trades =  pd.read_sql_query(query, db_conn)"
   ]
  },
  {
   "cell_type": "code",
   "execution_count": 6,
   "metadata": {},
   "outputs": [],
   "source": [
    "query = f'''\n",
    "SELECT * \n",
    "FROM \n",
    "algo_run as t\n",
    "WHERE \n",
    "    start_time >= '{start_day_to_analyze}' and \n",
    "    start_time < '{end_day_to_analyze}' \n",
    "ORDER BY algo_run_id\n",
    "'''\n",
    "algo_runs = pd.read_sql_query(query, db_conn)"
   ]
  },
  {
   "cell_type": "code",
   "execution_count": 7,
   "metadata": {},
   "outputs": [
    {
     "data": {
      "text/html": [
       "<div>\n",
       "<style scoped>\n",
       "    .dataframe tbody tr th:only-of-type {\n",
       "        vertical-align: middle;\n",
       "    }\n",
       "\n",
       "    .dataframe tbody tr th {\n",
       "        vertical-align: top;\n",
       "    }\n",
       "\n",
       "    .dataframe thead th {\n",
       "        text-align: right;\n",
       "    }\n",
       "</style>\n",
       "<table border=\"1\" class=\"dataframe\">\n",
       "  <thead>\n",
       "    <tr style=\"text-align: right;\">\n",
       "      <th></th>\n",
       "      <th>trade_id</th>\n",
       "      <th>algo_run_id</th>\n",
       "      <th>symbol</th>\n",
       "      <th>operation</th>\n",
       "      <th>qty</th>\n",
       "      <th>price</th>\n",
       "      <th>indicators</th>\n",
       "      <th>client_time</th>\n",
       "      <th>tstamp</th>\n",
       "      <th>stop_price</th>\n",
       "      <th>target_price</th>\n",
       "    </tr>\n",
       "  </thead>\n",
       "  <tbody>\n",
       "    <tr>\n",
       "      <th>0</th>\n",
       "      <td>3166</td>\n",
       "      <td>570</td>\n",
       "      <td>PNTG</td>\n",
       "      <td>buy</td>\n",
       "      <td>118</td>\n",
       "      <td>18.6</td>\n",
       "      <td>{'avg': 18.0191, 'rsi': 65.19953242235184, 'ma...</td>\n",
       "      <td>2020-05-14 14:34:17.037903+00:00</td>\n",
       "      <td>2020-05-14 14:34:17.241766</td>\n",
       "      <td>17.8</td>\n",
       "      <td>21.0</td>\n",
       "    </tr>\n",
       "  </tbody>\n",
       "</table>\n",
       "</div>"
      ],
      "text/plain": [
       "   trade_id  algo_run_id symbol operation  qty  price  \\\n",
       "0      3166          570   PNTG       buy  118   18.6   \n",
       "\n",
       "                                          indicators  \\\n",
       "0  {'avg': 18.0191, 'rsi': 65.19953242235184, 'ma...   \n",
       "\n",
       "                        client_time                     tstamp  stop_price  \\\n",
       "0  2020-05-14 14:34:17.037903+00:00 2020-05-14 14:34:17.241766        17.8   \n",
       "\n",
       "   target_price  \n",
       "0          21.0  "
      ]
     },
     "execution_count": 7,
     "metadata": {},
     "output_type": "execute_result"
    }
   ],
   "source": [
    "trades"
   ]
  },
  {
   "cell_type": "code",
   "execution_count": 8,
   "metadata": {},
   "outputs": [],
   "source": [
    "trade_details = {}\n",
    "\n",
    "for index, row in trades.iterrows():\n",
    "    algo_run_id = row['algo_run_id']\n",
    "    symbol = row['symbol']\n",
    "    time = row['tstamp']\n",
    "    operation = row['operation']\n",
    "    price = row['price']\n",
    "    indicators = row['indicators']\n",
    "    qty = row['qty'] \n",
    "    stop_price = row['stop_price']\n",
    "    target_price = row['target_price']\n",
    "    if algo_run_id not in trade_details:\n",
    "        trade_details[algo_run_id] = {}\n",
    "    if symbol not in trade_details[algo_run_id]:\n",
    "        trade_details[algo_run_id][symbol] = []\n",
    "    trade_details[algo_run_id][symbol].append((operation, time, price, qty, indicators, stop_price, target_price))"
   ]
  },
  {
   "cell_type": "code",
   "execution_count": 9,
   "metadata": {},
   "outputs": [],
   "source": [
    "runs = trades['algo_run_id'].value_counts()\n",
    "revenues = {}\n",
    "how_was_my_day = {}\n",
    "\n",
    "for run_id, count in runs.items():\n",
    "    symbols = trades.loc[trades['algo_run_id'] == run_id]['symbol'].value_counts()\n",
    "    revenues[run_id] = []\n",
    "    symbol_name = []\n",
    "    counts = []\n",
    "    for symbol, count in symbols.items():\n",
    "        \n",
    "        revnue = 0\n",
    "        precentage = 0.0\n",
    "\n",
    "        for trade in trade_details[run_id][symbol]:\n",
    "            delta = trade[2] * trade[3] * (1 if trade[0] == 'sell' or trade[0] == 'buy_short' else -1)\n",
    "            revnue += delta\n",
    "\n",
    "        revenues[run_id].append(revnue)\n",
    "        counts.append(count)\n",
    "        symbol_name.append(symbol)\n",
    "\n",
    "\n",
    "    d = {\n",
    "        'symbol': symbol_name,\n",
    "        'count': counts,\n",
    "        'revenue': revenues[run_id],\n",
    "    }\n",
    "    how_was_my_day[run_id] = pd.DataFrame(data=d)"
   ]
  },
  {
   "cell_type": "code",
   "execution_count": 10,
   "metadata": {},
   "outputs": [
    {
     "data": {
      "text/html": [
       "<table border=\"1\" class=\"dataframe\">\n",
       "  <thead>\n",
       "    <tr style=\"text-align: right;\">\n",
       "      <th></th>\n",
       "      <th>algo_run_id</th>\n",
       "      <th>algo_name</th>\n",
       "      <th>algo_env</th>\n",
       "      <th>build_number</th>\n",
       "      <th>parameters</th>\n",
       "      <th>start_time</th>\n",
       "      <th>end_time</th>\n",
       "      <th>end_reason</th>\n",
       "    </tr>\n",
       "  </thead>\n",
       "  <tbody>\n",
       "    <tr>\n",
       "      <th>16</th>\n",
       "      <td>570</td>\n",
       "      <td>momentum_long</td>\n",
       "      <td>PAPER</td>\n",
       "      <td>v0.1-381-g81e66ae</td>\n",
       "      <td>{'DSN': 'postgresql://momentum@10.63.80.3/tradedb', 'TRADE_BUY_WINDOW': 90}</td>\n",
       "      <td>2020-05-14 14:27:56.178282</td>\n",
       "      <td>2020-05-14 20:10:00.736078</td>\n",
       "      <td>market close</td>\n",
       "    </tr>\n",
       "  </tbody>\n",
       "</table>"
      ],
      "text/plain": [
       "<IPython.core.display.HTML object>"
      ]
     },
     "metadata": {},
     "output_type": "display_data"
    },
    {
     "data": {
      "text/html": [
       "<table border=\"1\" class=\"dataframe\">\n",
       "  <thead>\n",
       "    <tr style=\"text-align: right;\">\n",
       "      <th></th>\n",
       "      <th>symbol</th>\n",
       "      <th>count</th>\n",
       "      <th>revenue</th>\n",
       "    </tr>\n",
       "  </thead>\n",
       "  <tbody>\n",
       "    <tr>\n",
       "      <th>0</th>\n",
       "      <td>PNTG</td>\n",
       "      <td>1</td>\n",
       "      <td>-2194.8</td>\n",
       "    </tr>\n",
       "  </tbody>\n",
       "</table>"
      ],
      "text/plain": [
       "<IPython.core.display.HTML object>"
      ]
     },
     "metadata": {},
     "output_type": "display_data"
    },
    {
     "name": "stdout",
     "output_type": "stream",
     "text": [
      "TOTAL REVENUE: -2194.8 $\n"
     ]
    }
   ],
   "source": [
    "for algo_id, how_did_i_do in how_was_my_day.items():\n",
    "    display(HTML(algo_runs.loc[algo_runs['algo_run_id'] == algo_id].to_html()))\n",
    "    display(HTML(how_did_i_do.round(2).sort_values(by=['revenue']).to_html()))\n",
    "    print(f'TOTAL REVENUE: {pd.Series(revenues[algo_id]).sum().round(2)} $')\n"
   ]
  },
  {
   "cell_type": "code",
   "execution_count": 21,
   "metadata": {},
   "outputs": [],
   "source": [
    "\n",
    "minute_history = {}\n",
    "minute_history1 = {}\n",
    "for run_id, count in runs.items():\n",
    "    symbols = trades.loc[trades['algo_run_id'] == run_id]['symbol'].value_counts()\n",
    "    for symbol, count in symbols.items():\n",
    "        if symbol not in minute_history:\n",
    "            minute_history[symbol] = api.polygon.historic_agg_v2(\n",
    "                symbol, \n",
    "                1, \n",
    "                'minute',\n",
    "                _from = str((datetime.strptime(start_day_to_analyze, '%Y-%m-%d')-timedelta(days=10)).date()),\n",
    "                to=str((datetime.strptime(end_day_to_analyze, '%Y-%m-%d')+timedelta(days=1)).date())).df\n",
    "        "
   ]
  },
  {
   "cell_type": "code",
   "execution_count": 28,
   "metadata": {},
   "outputs": [],
   "source": [
    "def grouper(iterable):\n",
    "    prev = None\n",
    "    group = []\n",
    "    for item in iterable:\n",
    "        \n",
    "        if not prev or -0.02 <= float(item - prev) / prev <= 0.02:\n",
    "            group.append(item)\n",
    "        else:\n",
    "            yield group\n",
    "            group = [item]\n",
    "        prev = item\n",
    "    if group:\n",
    "        yield group\n",
    "\n",
    "def find_resistance(current_value, minute_history, now):\n",
    "    \"\"\"calculate next resistance\"\"\"\n",
    "    now = pd.Timestamp(now) - timedelta(hours=4)\n",
    "    print(now)\n",
    "    #print(minute_history)\n",
    "    minute_history_index = minute_history[\"close\"].index.get_loc(now, method='nearest')\n",
    "    #print(f'index:{minute_history_index} data:{minute_history[\"close\"][minute_history_index]}')\n",
    "    for back_track_min in range(120, len(minute_history.index), 60):\n",
    "        #print(\"start\")\n",
    "        series = (\n",
    "            minute_history[\"close\"][-back_track_min:minute_history_index].dropna().between_time(\"9:30\", \"16:00\").resample(\"5min\").max()\n",
    "        ).dropna()\n",
    "        print(series[-10])\n",
    "        # tlog(f\"{symbol} find_resistances(): {len(series)}\")\n",
    "\n",
    "        diff = np.diff(series.values)\n",
    "        #print(diff)\n",
    "        high_index = np.where((diff[:-1] >= 0) & (diff[1:] <= 0))[0] + 1\n",
    "        #print(high_index)\n",
    "        if len(high_index) > 0:\n",
    "            local_maximas = sorted(\n",
    "                [series[i] for i in high_index if series[i] >= current_value]\n",
    "            )\n",
    "            #print(f\"local_maximas={local_maximas}\")\n",
    "            if len(local_maximas) > 0:\n",
    "                return local_maximas\n",
    "            continue\n",
    "            \n",
    "            clusters = dict(enumerate(grouper(local_maximas), 1))\n",
    "            #print(f\"cluster={clusters}\")\n",
    "            resistances = []\n",
    "            for key, cluster in clusters.items():\n",
    "                if len(cluster) > 1:\n",
    "                    resistances.append(round(sum(cluster) / len(cluster), 2))\n",
    "            resistances = sorted(resistances)\n",
    "\n",
    "            if len(resistances) > 0:\n",
    "                return resistances\n",
    "\n",
    "\n",
    "    return None\n",
    "\n",
    "def find_support(current_value, minute_history, now):\n",
    "    \"\"\"calculate support\"\"\"\n",
    "    now = pd.Timestamp(now) - timedelta(hours=4)\n",
    "    minute_history_index = minute_history[\"close\"].index.get_loc(now, method='nearest')\n",
    "    for back_track_min in range(120, len(minute_history.index), 60):\n",
    "        series = (minute_history[\"close\"][-back_track_min:minute_history_index].resample(\"5min\").min()).dropna()\n",
    "        diff = np.diff(series.values)\n",
    "        high_index = np.where((diff[:-1] <= 0) & (diff[1:] > 0))[0] + 1\n",
    "        if len(high_index) > 0:\n",
    "            local_maximas = sorted(\n",
    "                [series[i] for i in high_index if series[i] <= current_value]\n",
    "            )\n",
    "            if len(local_maximas) > 0:\n",
    "                return local_maximas\n",
    "            \n",
    "    return None"
   ]
  },
  {
   "cell_type": "code",
   "execution_count": 29,
   "metadata": {
    "scrolled": false
   },
   "outputs": [
    {
     "name": "stdout",
     "output_type": "stream",
     "text": [
      "2020-05-14 10:34:17.241766\n",
      "PNTG analysis for run 570 with profit -2194.8\n"
     ]
    },
    {
     "data": {
      "text/html": [
       "<table border=\"1\" class=\"dataframe\">\n",
       "  <thead>\n",
       "    <tr style=\"text-align: right;\">\n",
       "      <th></th>\n",
       "      <th>profit</th>\n",
       "      <th>trade</th>\n",
       "      <th>operation</th>\n",
       "      <th>at</th>\n",
       "      <th>price</th>\n",
       "      <th>support</th>\n",
       "      <th>resistance</th>\n",
       "      <th>qty</th>\n",
       "      <th>indicators</th>\n",
       "      <th>target price</th>\n",
       "      <th>stop price</th>\n",
       "    </tr>\n",
       "  </thead>\n",
       "  <tbody>\n",
       "    <tr>\n",
       "      <th>0</th>\n",
       "      <td>-2194.8</td>\n",
       "      <td>-2194.8</td>\n",
       "      <td>buy</td>\n",
       "      <td>2020-05-14 14:34:17.241766</td>\n",
       "      <td>18.6</td>\n",
       "      <td>[17.539, 17.82]</td>\n",
       "      <td>[19.005, 19.23, 19.23, 19.81]</td>\n",
       "      <td>118</td>\n",
       "      <td>{'avg': 18.0191, 'rsi': 65.19953242235184, 'macd': [0.08433569498311044, 0.11054424832846976, 0.11386383572636305, 0.1335146368417881, 0.1553662372958513], 'vwap': 18.557, 'supports': [16.64, 16.675, 16.715, 16.74, 17.05, 17.539, 17.5682, 17.82], 'sell_macd': [0.046802667547925836, 0.0639701661437222, 0.06612704600870956, 0.07889699076053347, 0.09301776601181899], 'slow macd': [0.14351203280015667, 0.14822959015240755, 0.14913410079091705, 0.15340628894607633, 0.15869084703853176], 'macd_signal': [0.08817191870896568, 0.0926463846328665, 0.0968898748515658, 0.10421482724961026, 0.11444510925885847], 'resistances': [19.81], 'position_ratio': '1.55', 'sell_macd_signal': [0.04887185178969085, 0.051891514660497115, 0.054738620930139606, 0.05957029489621838, 0.0662597891193385]}</td>\n",
       "      <td>21.0</td>\n",
       "      <td>17.8</td>\n",
       "    </tr>\n",
       "  </tbody>\n",
       "</table>"
      ],
      "text/plain": [
       "<IPython.core.display.HTML object>"
      ]
     },
     "metadata": {},
     "output_type": "display_data"
    },
    {
     "data": {
      "image/png": "[encoded data removed]",
      "text/plain": [
       "<Figure size 432x288 with 1 Axes>"
      ]
     },
     "metadata": {
      "needs_background": "light"
     },
     "output_type": "display_data"
    }
   ],
   "source": [
    "for run_id, count in runs.items():\n",
    "    for symbol in minute_history:    \n",
    "        if symbol not in trade_details[run_id]:\n",
    "            continue\n",
    "        start_date = datetime.strptime(start_day_to_analyze, \"%Y-%m-%d\") + timedelta(hours=9, minutes=30)\n",
    "        minute_history_index = minute_history[symbol][\"close\"].index.get_loc(start_date, method='nearest')\n",
    "        plt.plot(minute_history[symbol][\"close\"][minute_history_index:], label=symbol)\n",
    "\n",
    "        delta = 0\n",
    "        profit = 0\n",
    "        \n",
    "        operations = []\n",
    "        deltas = []\n",
    "        profits = []\n",
    "        times = []\n",
    "        prices = []\n",
    "        qtys = []\n",
    "        indicators = []\n",
    "        target_price = []\n",
    "        stop_price = []\n",
    "        resistances = []\n",
    "        supports = []\n",
    "        for trade in trade_details[run_id][symbol]:\n",
    "            resistance = None\n",
    "            support = None\n",
    "            if trade[0] == 'buy':\n",
    "                resistance = find_resistance(trade[2], minute_history[symbol], trade[1])\n",
    "                support = find_support(trade[2], minute_history[symbol], trade[1])\n",
    "                \n",
    "            delta = trade[2] * trade[3] * (1 if trade[0] == 'sell' or trade[0] == 'buy_short' else -1)\n",
    "            profit += delta\n",
    "            plt.scatter(pd.to_datetime(trade[1]), trade[2], c='g' if trade[0] == 'buy' or trade[0] == 'sell_short' else 'r', s=100)\n",
    "            deltas.append(round(delta, 2))\n",
    "            profits.append(round(profit, 2))\n",
    "            operations.append(trade[0])\n",
    "            times.append(pd.to_datetime(trade[1]))\n",
    "            prices.append(trade[2])\n",
    "            qtys.append(trade[3])\n",
    "            indicators.append(trade[4])\n",
    "            target_price.append(trade[6])\n",
    "            stop_price.append(trade[5])    \n",
    "            resistances.append(resistance)\n",
    "            supports.append(support)\n",
    "        d = {\n",
    "            'profit': profits,\n",
    "            'trade': deltas,\n",
    "            'operation': operations,\n",
    "            'at': times,\n",
    "            'price': prices,\n",
    "            'support': supports,\n",
    "            'resistance': resistances,\n",
    "            'qty': qtys,\n",
    "            'indicators': indicators,\n",
    "            'target price': target_price,\n",
    "            'stop price': stop_price\n",
    "        }   \n",
    "        print (f'{symbol} analysis for run {run_id} with profit {round(profit, 2)}')\n",
    "        display(HTML(pd.DataFrame(data=d).to_html()))\n",
    "        plt.legend()\n",
    "        plt.show()"
   ]
  },
  {
   "cell_type": "code",
   "execution_count": null,
   "metadata": {},
   "outputs": [],
   "source": [
    " pd.Timestamp('2020-04-16 13:44:06.066') "
   ]
  },
  {
   "cell_type": "code",
   "execution_count": null,
   "metadata": {},
   "outputs": [],
   "source": [
    "index = minute_history['NURO'].index.get_loc(pd.Timestamp('2020-04-16 13:44:06.066') , method='nearest')"
   ]
  },
  {
   "cell_type": "code",
   "execution_count": null,
   "metadata": {},
   "outputs": [],
   "source": [
    "minute_history['NURO'][:index]"
   ]
  },
  {
   "cell_type": "code",
   "execution_count": null,
   "metadata": {},
   "outputs": [],
   "source": [
    "series = minute_history['NURO'][:2417]['close']"
   ]
  },
  {
   "cell_type": "code",
   "execution_count": null,
   "metadata": {},
   "outputs": [],
   "source": [
    "MACD(series.dropna().between_time(\"9:30\", \"16:00\"))"
   ]
  },
  {
   "cell_type": "code",
   "execution_count": null,
   "metadata": {},
   "outputs": [],
   "source": []
  }
 ],
 "metadata": {
  "kernelspec": {
   "display_name": "Python 3",
   "language": "python",
   "name": "python3"
  },
  "language_info": {
   "codemirror_mode": {
    "name": "ipython",
    "version": 3
   },
   "file_extension": ".py",
   "mimetype": "text/x-python",
   "name": "python",
   "nbconvert_exporter": "python",
   "pygments_lexer": "ipython3",
   "version": "3.8.0"
  }
 },
 "nbformat": 4,
 "nbformat_minor": 2
}
