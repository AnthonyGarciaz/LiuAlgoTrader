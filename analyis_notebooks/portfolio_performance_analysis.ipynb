{
 "cells": [
  {
   "cell_type": "code",
   "execution_count": null,
   "metadata": {},
   "outputs": [],
   "source": [
    "import pandas as pd\n",
    "import psycopg2\n",
    "from sqlalchemy import create_engine\n",
    "import matplotlib.pyplot as plt\n",
    "import alpaca_trade_api as tradeapi\n",
    "import numpy as np\n",
    "import requests\n",
    "from scipy import stats\n",
    "from talib import MACD, RSI, BBANDS\n",
    "from datetime import datetime, timedelta, date\n",
    "from IPython.display import display, HTML\n",
    "%matplotlib inline\n",
    "import json\n",
    "import math\n",
    "from dateutil import parser\n",
    "from pytz import timezone\n",
    "import sys"
   ]
  },
  {
   "cell_type": "code",
   "execution_count": null,
   "metadata": {},
   "outputs": [],
   "source": [
    "start_day_to_analyze = '2020-04-30'\n",
    "end_day_to_analyze = '2020-05-01'"
   ]
  },
  {
   "cell_type": "code",
   "execution_count": null,
   "metadata": {},
   "outputs": [],
   "source": [
    "db_conn = create_engine(\"postgresql://momentum@localhost:5432/tradedb\")"
   ]
  },
  {
   "cell_type": "code",
   "execution_count": null,
   "metadata": {},
   "outputs": [],
   "source": [
    "api = tradeapi.REST(base_url=\"https://api.alpaca.markets\")\n",
    "session = requests.session()"
   ]
  },
  {
   "cell_type": "code",
   "execution_count": null,
   "metadata": {},
   "outputs": [],
   "source": [
    "query = f'''\n",
    "SELECT * \n",
    "FROM \n",
    "new_trades as t\n",
    "WHERE \n",
    "    tstamp >= '{start_day_to_analyze}' and \n",
    "    tstamp < '{end_day_to_analyze}' \n",
    "ORDER BY symbol, tstamp\n",
    "'''\n",
    "trades =  pd.read_sql_query(query, db_conn)"
   ]
  },
  {
   "cell_type": "code",
   "execution_count": null,
   "metadata": {},
   "outputs": [],
   "source": [
    "query = f'''\n",
    "SELECT * \n",
    "FROM \n",
    "algo_run as t\n",
    "WHERE \n",
    "    start_time >= '{start_day_to_analyze}' and \n",
    "    start_time < '{end_day_to_analyze}' \n",
    "ORDER BY algo_run_id\n",
    "'''\n",
    "algo_runs = pd.read_sql_query(query, db_conn)"
   ]
  },
  {
   "cell_type": "code",
   "execution_count": null,
   "metadata": {},
   "outputs": [],
   "source": [
    "trades"
   ]
  },
  {
   "cell_type": "code",
   "execution_count": null,
   "metadata": {},
   "outputs": [],
   "source": [
    "trade_details = {}\n",
    "\n",
    "for index, row in trades.iterrows():\n",
    "    algo_run_id = row['algo_run_id']\n",
    "    symbol = row['symbol']\n",
    "    time = row['tstamp']\n",
    "    operation = row['operation']\n",
    "    price = row['price']\n",
    "    indicators = row['indicators']\n",
    "    qty = row['qty'] \n",
    "    stop_price = row['stop_price']\n",
    "    target_price = row['target_price']\n",
    "    if algo_run_id not in trade_details:\n",
    "        trade_details[algo_run_id] = {}\n",
    "    if symbol not in trade_details[algo_run_id]:\n",
    "        trade_details[algo_run_id][symbol] = []\n",
    "    trade_details[algo_run_id][symbol].append((operation, time, price, qty, indicators, stop_price, target_price))"
   ]
  },
  {
   "cell_type": "code",
   "execution_count": null,
   "metadata": {},
   "outputs": [],
   "source": [
    "runs = trades['algo_run_id'].value_counts()\n",
    "revenues = {}\n",
    "how_was_my_day = {}\n",
    "\n",
    "for run_id, count in runs.items():\n",
    "    symbols = trades.loc[trades['algo_run_id'] == run_id]['symbol'].value_counts()\n",
    "    revenues[run_id] = []\n",
    "    symbol_name = []\n",
    "    counts = []\n",
    "    for symbol, count in symbols.items():\n",
    "        \n",
    "        revnue = 0\n",
    "        precentage = 0.0\n",
    "\n",
    "        for trade in trade_details[run_id][symbol]:\n",
    "            delta = trade[2] * trade[3] * (1 if trade[0] == 'sell' or trade[0] == 'buy_short' else -1)\n",
    "            revnue += delta\n",
    "\n",
    "        revenues[run_id].append(revnue)\n",
    "        counts.append(count)\n",
    "        symbol_name.append(symbol)\n",
    "\n",
    "\n",
    "    d = {\n",
    "        'symbol': symbol_name,\n",
    "        'count': counts,\n",
    "        'revenue': revenues[run_id],\n",
    "    }\n",
    "    how_was_my_day[run_id] = pd.DataFrame(data=d)"
   ]
  },
  {
   "cell_type": "code",
   "execution_count": null,
   "metadata": {},
   "outputs": [],
   "source": [
    "for algo_id, how_did_i_do in how_was_my_day.items():\n",
    "    display(HTML(algo_runs.loc[algo_runs['algo_run_id'] == algo_id].to_html()))\n",
    "    display(HTML(how_did_i_do.round(2).sort_values(by=['revenue']).to_html()))\n",
    "    print(f'TOTAL REVENUE: {pd.Series(revenues[algo_id]).sum().round(2)} $')\n"
   ]
  },
  {
   "cell_type": "code",
   "execution_count": null,
   "metadata": {},
   "outputs": [],
   "source": [
    "\n",
    "minute_history = {}\n",
    "minute_history1 = {}\n",
    "for run_id, count in runs.items():\n",
    "    symbols = trades.loc[trades['algo_run_id'] == run_id]['symbol'].value_counts()\n",
    "    for symbol, count in symbols.items():\n",
    "        if symbol not in minute_history:\n",
    "            minute_history[symbol] = api.polygon.historic_agg_v2(\n",
    "                symbol, \n",
    "                1, \n",
    "                'minute',\n",
    "                _from = (datetime.strptime(start_day_to_analyze, '%Y-%m-%d')-timedelta(days=10)).date(),\n",
    "                to=(datetime.strptime(end_day_to_analyze, '%Y-%m-%d')+timedelta(days=1)).date()).df\n",
    "            minute_history1[symbol] = api.polygon.historic_agg_v2(\n",
    "                symbol, \n",
    "                1, \n",
    "                'minute',\n",
    "                _from = (datetime.strptime(start_day_to_analyze, '%Y-%m-%d')-timedelta(days=20)).date(),\n",
    "                to=(datetime.strptime(end_day_to_analyze, '%Y-%m-%d')-timedelta(days=11)).date()).df"
   ]
  },
  {
   "cell_type": "code",
   "execution_count": null,
   "metadata": {},
   "outputs": [],
   "source": [
    "minute_history['GLOP']"
   ]
  },
  {
   "cell_type": "code",
   "execution_count": null,
   "metadata": {},
   "outputs": [],
   "source": [
    "minute_history1['GLOP']"
   ]
  },
  {
   "cell_type": "code",
   "execution_count": null,
   "metadata": {},
   "outputs": [],
   "source": [
    "m = minute_history1['GLOP'].append(minute_history['GLOP'])"
   ]
  },
  {
   "cell_type": "code",
   "execution_count": null,
   "metadata": {},
   "outputs": [],
   "source": [
    "m[:3976]"
   ]
  },
  {
   "cell_type": "code",
   "execution_count": null,
   "metadata": {},
   "outputs": [],
   "source": [
    "RSI(m[:3976]['close'].dropna().between_time(\"9:30\", \"16:00\"))"
   ]
  },
  {
   "cell_type": "code",
   "execution_count": null,
   "metadata": {},
   "outputs": [],
   "source": [
    "def grouper(iterable):\n",
    "    prev = None\n",
    "    group = []\n",
    "    for item in iterable:\n",
    "        \n",
    "        if not prev or -0.02 <= float(item - prev) / prev <= 0.02:\n",
    "            group.append(item)\n",
    "        else:\n",
    "            yield group\n",
    "            group = [item]\n",
    "        prev = item\n",
    "    if group:\n",
    "        yield group\n",
    "\n",
    "def find_resistance(current_value, minute_history, now):\n",
    "    \"\"\"calculate next resistance\"\"\"\n",
    "    now = pd.Timestamp(now) - timedelta(hours=4)\n",
    "    print(f\"now={now}\")\n",
    "    \n",
    "    #print(minute_history)\n",
    "    minute_history_index = minute_history[\"close\"].index.get_loc(now, method='nearest')\n",
    "    #print(f'index:{minute_history_index} data:{minute_history[\"close\"][minute_history_index]}')\n",
    "    for back_track_min in range(200, len(minute_history.index), 60):\n",
    "        #print(\"start\")\n",
    "        series = (\n",
    "            minute_history[\"close\"][-back_track_min:minute_history_index].dropna().resample(\"5min\").max()\n",
    "        ).dropna()\n",
    "        #print(series[0:10])\n",
    "        # tlog(f\"{symbol} find_resistances(): {len(series)}\")\n",
    "\n",
    "        diff = np.diff(series.values)\n",
    "        #print(diff)\n",
    "        high_index = np.where((diff[:-1] >= 0) & (diff[1:] <= 0))[0] + 1\n",
    "        #print(high_index)\n",
    "        if len(high_index) > 0:\n",
    "            local_maximas = sorted(\n",
    "                [series[i] for i in high_index if series[i] >= current_value]\n",
    "            )\n",
    "            #print(f\"local_maximas={local_maximas}\")\n",
    "            if len(local_maximas) > 0:\n",
    "                return local_maximas\n",
    "            continue\n",
    "            \n",
    "            clusters = dict(enumerate(grouper(local_maximas), 1))\n",
    "            #print(f\"cluster={clusters}\")\n",
    "            resistances = []\n",
    "            for key, cluster in clusters.items():\n",
    "                if len(cluster) > 1:\n",
    "                    resistances.append(round(sum(cluster) / len(cluster), 2))\n",
    "            resistances = sorted(resistances)\n",
    "\n",
    "            if len(resistances) > 0:\n",
    "                return resistances\n",
    "\n",
    "\n",
    "    return None\n",
    "\n",
    "def find_support(current_value, minute_history, now):\n",
    "    \"\"\"calculate support\"\"\"\n",
    "    now = pd.Timestamp(now) - timedelta(hours=4)\n",
    "    minute_history_index = minute_history[\"close\"].index.get_loc(now, method='nearest')\n",
    "    for back_track_min in range(200, len(minute_history.index), 60):\n",
    "        series = (minute_history[\"close\"][-back_track_min:minute_history_index].resample(\"5min\").min()).dropna()\n",
    "        diff = np.diff(series.values)\n",
    "        high_index = np.where((diff[:-1] <= 0) & (diff[1:] > 0))[0] + 1\n",
    "        if len(high_index) > 0:\n",
    "            local_maximas = sorted(\n",
    "                [series[i] for i in high_index if series[i] <= current_value]\n",
    "            )\n",
    "            if len(local_maximas) > 0:\n",
    "                return local_maximas\n",
    "            \n",
    "    return None"
   ]
  },
  {
   "cell_type": "code",
   "execution_count": null,
   "metadata": {},
   "outputs": [],
   "source": [
    "for run_id, count in runs.items():\n",
    "    for symbol in minute_history:    \n",
    "        if symbol not in trade_details[run_id]:\n",
    "            continue\n",
    "        start_date = datetime.strptime(start_day_to_analyze, \"%Y-%m-%d\") + timedelta(hours=9, minutes=30)\n",
    "        minute_history_index = minute_history[symbol][\"close\"].index.get_loc(start_date, method='nearest')\n",
    "        plt.plot(minute_history[symbol][\"close\"][minute_history_index:], label=symbol)\n",
    "\n",
    "        delta = 0\n",
    "        profit = 0\n",
    "        \n",
    "        operations = []\n",
    "        deltas = []\n",
    "        profits = []\n",
    "        times = []\n",
    "        prices = []\n",
    "        qtys = []\n",
    "        indicators = []\n",
    "        target_price = []\n",
    "        stop_price = []\n",
    "        resistances = []\n",
    "        supports = []\n",
    "        for trade in trade_details[run_id][symbol]:\n",
    "            resistance = None\n",
    "            support = None\n",
    "            if trade[0] == 'buy':\n",
    "                resistance = find_resistance(trade[2], minute_history[symbol], trade[1])\n",
    "                support = find_support(trade[2], minute_history[symbol], trade[1])\n",
    "                \n",
    "            delta = trade[2] * trade[3] * (1 if trade[0] == 'sell' or trade[0] == 'buy_short' else -1)\n",
    "            profit += delta\n",
    "            plt.scatter(pd.to_datetime(trade[1]), trade[2], c='g' if trade[0] == 'buy' or trade[0] == 'sell_short' else 'r', s=100)\n",
    "            deltas.append(round(delta, 2))\n",
    "            profits.append(round(profit, 2))\n",
    "            operations.append(trade[0])\n",
    "            times.append(pd.to_datetime(trade[1]))\n",
    "            prices.append(trade[2])\n",
    "            qtys.append(trade[3])\n",
    "            indicators.append(trade[4])\n",
    "            target_price.append(trade[6])\n",
    "            stop_price.append(trade[5])    \n",
    "            resistances.append(resistance)\n",
    "            supports.append(support)\n",
    "        d = {\n",
    "            'profit': profits,\n",
    "            'trade': deltas,\n",
    "            'operation': operations,\n",
    "            'at': times,\n",
    "            'price': prices,\n",
    "            'support': supports,\n",
    "            'resistance': resistances,\n",
    "            'qty': qtys,\n",
    "            'indicators': indicators,\n",
    "            'target price': target_price,\n",
    "            'stop price': stop_price\n",
    "        }   \n",
    "        print (f'{symbol} analysis for run {run_id} with profit {round(profit, 2)}')\n",
    "        display(HTML(pd.DataFrame(data=d).to_html()))\n",
    "        plt.legend()\n",
    "        plt.show()"
   ]
  },
  {
   "cell_type": "code",
   "execution_count": null,
   "metadata": {},
   "outputs": [],
   "source": [
    " pd.Timestamp('2020-04-16 13:44:06.066') "
   ]
  },
  {
   "cell_type": "code",
   "execution_count": null,
   "metadata": {},
   "outputs": [],
   "source": [
    "index = minute_history['NURO'].index.get_loc(pd.Timestamp('2020-04-16 13:44:06.066') , method='nearest')"
   ]
  },
  {
   "cell_type": "code",
   "execution_count": null,
   "metadata": {},
   "outputs": [],
   "source": [
    "minute_history['NURO'][:index]"
   ]
  },
  {
   "cell_type": "code",
   "execution_count": null,
   "metadata": {},
   "outputs": [],
   "source": [
    "series = minute_history['NURO'][:2417]['close']"
   ]
  },
  {
   "cell_type": "code",
   "execution_count": null,
   "metadata": {},
   "outputs": [],
   "source": [
    "MACD(series.dropna().between_time(\"9:30\", \"16:00\"))"
   ]
  },
  {
   "cell_type": "code",
   "execution_count": null,
   "metadata": {},
   "outputs": [],
   "source": []
  }
 ],
 "metadata": {
  "kernelspec": {
   "display_name": "Python 3",
   "language": "python",
   "name": "python3"
  }
 },
 "nbformat": 4,
 "nbformat_minor": 2
}
