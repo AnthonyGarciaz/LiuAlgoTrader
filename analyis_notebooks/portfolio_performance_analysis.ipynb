{
 "cells": [
  {
   "cell_type": "code",
   "execution_count": 1,
   "metadata": {},
   "outputs": [],
   "source": [
    "import pandas as pd\n",
    "import psycopg2\n",
    "from sqlalchemy import create_engine\n",
    "import matplotlib.pyplot as plt\n",
    "import alpaca_trade_api as tradeapi\n",
    "import numpy as np\n",
    "import requests\n",
    "from talib import MACD, RSI, BBANDS\n",
    "from datetime import datetime, timedelta, date\n",
    "from IPython.display import display, HTML\n",
    "%matplotlib inline\n",
    "import json\n",
    "import math\n",
    "from dateutil import parser\n",
    "from pytz import timezone\n",
    "import sys"
   ]
  },
  {
   "cell_type": "code",
   "execution_count": 2,
   "metadata": {},
   "outputs": [],
   "source": [
    "start_day_to_analyze = '2020-05-15'\n",
    "end_day_to_analyze = '2020-05-16'"
   ]
  },
  {
   "cell_type": "code",
   "execution_count": 3,
   "metadata": {},
   "outputs": [],
   "source": [
    "db_conn = create_engine(\"postgresql://momentum@localhost:5432/tradedb\")"
   ]
  },
  {
   "cell_type": "code",
   "execution_count": 4,
   "metadata": {},
   "outputs": [],
   "source": [
    "api = tradeapi.REST(base_url=\"https://api.alpaca.markets\")\n",
    "session = requests.session()"
   ]
  },
  {
   "cell_type": "code",
   "execution_count": 5,
   "metadata": {},
   "outputs": [],
   "source": [
    "query = f'''\n",
    "SELECT * \n",
    "FROM \n",
    "new_trades as t\n",
    "WHERE \n",
    "    tstamp >= '{start_day_to_analyze}' and \n",
    "    tstamp < '{end_day_to_analyze}' \n",
    "ORDER BY symbol, tstamp\n",
    "'''\n",
    "trades =  pd.read_sql_query(query, db_conn)"
   ]
  },
  {
   "cell_type": "code",
   "execution_count": 6,
   "metadata": {},
   "outputs": [],
   "source": [
    "query = f'''\n",
    "SELECT * \n",
    "FROM \n",
    "algo_run as t\n",
    "WHERE \n",
    "    start_time >= '{start_day_to_analyze}' and \n",
    "    start_time < '{end_day_to_analyze}' \n",
    "ORDER BY algo_run_id\n",
    "'''\n",
    "algo_runs = pd.read_sql_query(query, db_conn)"
   ]
  },
  {
   "cell_type": "code",
   "execution_count": 7,
   "metadata": {},
   "outputs": [
    {
     "data": {
      "text/html": [
       "<div>\n",
       "<style scoped>\n",
       "    .dataframe tbody tr th:only-of-type {\n",
       "        vertical-align: middle;\n",
       "    }\n",
       "\n",
       "    .dataframe tbody tr th {\n",
       "        vertical-align: top;\n",
       "    }\n",
       "\n",
       "    .dataframe thead th {\n",
       "        text-align: right;\n",
       "    }\n",
       "</style>\n",
       "<table border=\"1\" class=\"dataframe\">\n",
       "  <thead>\n",
       "    <tr style=\"text-align: right;\">\n",
       "      <th></th>\n",
       "      <th>trade_id</th>\n",
       "      <th>algo_run_id</th>\n",
       "      <th>symbol</th>\n",
       "      <th>operation</th>\n",
       "      <th>qty</th>\n",
       "      <th>price</th>\n",
       "      <th>indicators</th>\n",
       "      <th>client_time</th>\n",
       "      <th>tstamp</th>\n",
       "      <th>stop_price</th>\n",
       "      <th>target_price</th>\n",
       "    </tr>\n",
       "  </thead>\n",
       "  <tbody>\n",
       "    <tr>\n",
       "      <th>0</th>\n",
       "      <td>3169</td>\n",
       "      <td>572</td>\n",
       "      <td>EAT</td>\n",
       "      <td>buy</td>\n",
       "      <td>189</td>\n",
       "      <td>20.14</td>\n",
       "      <td>{'avg': 19.5275, 'rsi': 66.79951436012472, 'ma...</td>\n",
       "      <td>2020-05-15 14:32:28.948023+00:00</td>\n",
       "      <td>2020-05-15 14:32:29.086158</td>\n",
       "      <td>19.65</td>\n",
       "      <td>21.66</td>\n",
       "    </tr>\n",
       "    <tr>\n",
       "      <th>1</th>\n",
       "      <td>3170</td>\n",
       "      <td>572</td>\n",
       "      <td>EAT</td>\n",
       "      <td>sell</td>\n",
       "      <td>189</td>\n",
       "      <td>20.13</td>\n",
       "      <td>{'avg': 19.5493, 'rsi': [53.23112982421667, 59...</td>\n",
       "      <td>2020-05-15 14:36:53.383130+00:00</td>\n",
       "      <td>2020-05-15 14:36:53.652552</td>\n",
       "      <td>19.65</td>\n",
       "      <td>21.66</td>\n",
       "    </tr>\n",
       "    <tr>\n",
       "      <th>2</th>\n",
       "      <td>3167</td>\n",
       "      <td>572</td>\n",
       "      <td>MRNS</td>\n",
       "      <td>buy</td>\n",
       "      <td>945</td>\n",
       "      <td>2.31</td>\n",
       "      <td>{'avg': 2.2195, 'rsi': 68.42812872180352, 'mac...</td>\n",
       "      <td>2020-05-15 14:18:20.498658+00:00</td>\n",
       "      <td>2020-05-15 14:18:20.648585</td>\n",
       "      <td>2.21</td>\n",
       "      <td>2.61</td>\n",
       "    </tr>\n",
       "    <tr>\n",
       "      <th>3</th>\n",
       "      <td>3168</td>\n",
       "      <td>572</td>\n",
       "      <td>MRNS</td>\n",
       "      <td>sell</td>\n",
       "      <td>945</td>\n",
       "      <td>2.30</td>\n",
       "      <td>{'avg': 2.235, 'rsi': [57.09123493462867, 62.1...</td>\n",
       "      <td>2020-05-15 14:23:31.433978+00:00</td>\n",
       "      <td>2020-05-15 14:23:31.683502</td>\n",
       "      <td>2.21</td>\n",
       "      <td>2.61</td>\n",
       "    </tr>\n",
       "  </tbody>\n",
       "</table>\n",
       "</div>"
      ],
      "text/plain": [
       "   trade_id  algo_run_id symbol operation  qty  price  \\\n",
       "0      3169          572    EAT       buy  189  20.14   \n",
       "1      3170          572    EAT      sell  189  20.13   \n",
       "2      3167          572   MRNS       buy  945   2.31   \n",
       "3      3168          572   MRNS      sell  945   2.30   \n",
       "\n",
       "                                          indicators  \\\n",
       "0  {'avg': 19.5275, 'rsi': 66.79951436012472, 'ma...   \n",
       "1  {'avg': 19.5493, 'rsi': [53.23112982421667, 59...   \n",
       "2  {'avg': 2.2195, 'rsi': 68.42812872180352, 'mac...   \n",
       "3  {'avg': 2.235, 'rsi': [57.09123493462867, 62.1...   \n",
       "\n",
       "                        client_time                     tstamp  stop_price  \\\n",
       "0  2020-05-15 14:32:28.948023+00:00 2020-05-15 14:32:29.086158       19.65   \n",
       "1  2020-05-15 14:36:53.383130+00:00 2020-05-15 14:36:53.652552       19.65   \n",
       "2  2020-05-15 14:18:20.498658+00:00 2020-05-15 14:18:20.648585        2.21   \n",
       "3  2020-05-15 14:23:31.433978+00:00 2020-05-15 14:23:31.683502        2.21   \n",
       "\n",
       "   target_price  \n",
       "0         21.66  \n",
       "1         21.66  \n",
       "2          2.61  \n",
       "3          2.61  "
      ]
     },
     "execution_count": 7,
     "metadata": {},
     "output_type": "execute_result"
    }
   ],
   "source": [
    "trades"
   ]
  },
  {
   "cell_type": "code",
   "execution_count": 8,
   "metadata": {},
   "outputs": [],
   "source": [
    "trade_details = {}\n",
    "\n",
    "for index, row in trades.iterrows():\n",
    "    algo_run_id = row['algo_run_id']\n",
    "    symbol = row['symbol']\n",
    "    time = row['tstamp']\n",
    "    operation = row['operation']\n",
    "    price = row['price']\n",
    "    indicators = row['indicators']\n",
    "    qty = row['qty'] \n",
    "    stop_price = row['stop_price']\n",
    "    target_price = row['target_price']\n",
    "    if algo_run_id not in trade_details:\n",
    "        trade_details[algo_run_id] = {}\n",
    "    if symbol not in trade_details[algo_run_id]:\n",
    "        trade_details[algo_run_id][symbol] = []\n",
    "    trade_details[algo_run_id][symbol].append((operation, time, price, qty, indicators, stop_price, target_price))"
   ]
  },
  {
   "cell_type": "code",
   "execution_count": 9,
   "metadata": {},
   "outputs": [],
   "source": [
    "runs = trades['algo_run_id'].value_counts()\n",
    "revenues = {}\n",
    "how_was_my_day = {}\n",
    "\n",
    "for run_id, count in runs.items():\n",
    "    symbols = trades.loc[trades['algo_run_id'] == run_id]['symbol'].value_counts()\n",
    "    revenues[run_id] = []\n",
    "    symbol_name = []\n",
    "    counts = []\n",
    "    for symbol, count in symbols.items():\n",
    "        \n",
    "        revnue = 0\n",
    "        precentage = 0.0\n",
    "\n",
    "        for trade in trade_details[run_id][symbol]:\n",
    "            delta = trade[2] * trade[3] * (1 if trade[0] == 'sell' or trade[0] == 'buy_short' else -1)\n",
    "            revnue += delta\n",
    "\n",
    "        revenues[run_id].append(revnue)\n",
    "        counts.append(count)\n",
    "        symbol_name.append(symbol)\n",
    "\n",
    "\n",
    "    d = {\n",
    "        'symbol': symbol_name,\n",
    "        'count': counts,\n",
    "        'revenue': revenues[run_id],\n",
    "    }\n",
    "    how_was_my_day[run_id] = pd.DataFrame(data=d)"
   ]
  },
  {
   "cell_type": "code",
   "execution_count": 10,
   "metadata": {},
   "outputs": [
    {
     "data": {
      "text/html": [
       "<table border=\"1\" class=\"dataframe\">\n",
       "  <thead>\n",
       "    <tr style=\"text-align: right;\">\n",
       "      <th></th>\n",
       "      <th>algo_run_id</th>\n",
       "      <th>algo_name</th>\n",
       "      <th>algo_env</th>\n",
       "      <th>build_number</th>\n",
       "      <th>parameters</th>\n",
       "      <th>start_time</th>\n",
       "      <th>end_time</th>\n",
       "      <th>end_reason</th>\n",
       "    </tr>\n",
       "  </thead>\n",
       "  <tbody>\n",
       "    <tr>\n",
       "      <th>1</th>\n",
       "      <td>572</td>\n",
       "      <td>momentum_long</td>\n",
       "      <td>PAPER</td>\n",
       "      <td>v0.1-381-g81e66ae</td>\n",
       "      <td>{'DSN': 'postgresql://momentum@10.63.80.3/tradedb', 'TRADE_BUY_WINDOW': 90}</td>\n",
       "      <td>2020-05-15 14:08:30.600234</td>\n",
       "      <td>2020-05-15 20:10:00.908300</td>\n",
       "      <td>market close</td>\n",
       "    </tr>\n",
       "  </tbody>\n",
       "</table>"
      ],
      "text/plain": [
       "<IPython.core.display.HTML object>"
      ]
     },
     "metadata": {},
     "output_type": "display_data"
    },
    {
     "data": {
      "text/html": [
       "<table border=\"1\" class=\"dataframe\">\n",
       "  <thead>\n",
       "    <tr style=\"text-align: right;\">\n",
       "      <th></th>\n",
       "      <th>symbol</th>\n",
       "      <th>count</th>\n",
       "      <th>revenue</th>\n",
       "    </tr>\n",
       "  </thead>\n",
       "  <tbody>\n",
       "    <tr>\n",
       "      <th>1</th>\n",
       "      <td>MRNS</td>\n",
       "      <td>2</td>\n",
       "      <td>-9.45</td>\n",
       "    </tr>\n",
       "    <tr>\n",
       "      <th>0</th>\n",
       "      <td>EAT</td>\n",
       "      <td>2</td>\n",
       "      <td>-1.89</td>\n",
       "    </tr>\n",
       "  </tbody>\n",
       "</table>"
      ],
      "text/plain": [
       "<IPython.core.display.HTML object>"
      ]
     },
     "metadata": {},
     "output_type": "display_data"
    },
    {
     "name": "stdout",
     "output_type": "stream",
     "text": [
      "TOTAL REVENUE: -11.34 $\n"
     ]
    }
   ],
   "source": [
    "for algo_id, how_did_i_do in how_was_my_day.items():\n",
    "    display(HTML(algo_runs.loc[algo_runs['algo_run_id'] == algo_id].to_html()))\n",
    "    display(HTML(how_did_i_do.round(2).sort_values(by=['revenue']).to_html()))\n",
    "    print(f'TOTAL REVENUE: {pd.Series(revenues[algo_id]).sum().round(2)} $')\n"
   ]
  },
  {
   "cell_type": "code",
   "execution_count": 11,
   "metadata": {},
   "outputs": [],
   "source": [
    "\n",
    "minute_history = {}\n",
    "minute_history1 = {}\n",
    "for run_id, count in runs.items():\n",
    "    symbols = trades.loc[trades['algo_run_id'] == run_id]['symbol'].value_counts()\n",
    "    for symbol, count in symbols.items():\n",
    "        if symbol not in minute_history:\n",
    "            minute_history[symbol] = api.polygon.historic_agg_v2(\n",
    "                symbol, \n",
    "                1, \n",
    "                'minute',\n",
    "                _from = str((datetime.strptime(start_day_to_analyze, '%Y-%m-%d')-timedelta(days=10)).date()),\n",
    "                to=str((datetime.strptime(end_day_to_analyze, '%Y-%m-%d')+timedelta(days=1)).date())).df\n",
    "        "
   ]
  },
  {
   "cell_type": "code",
   "execution_count": 40,
   "metadata": {},
   "outputs": [],
   "source": [
    "def grouper(iterable):\n",
    "    prev = None\n",
    "    group = []\n",
    "    for item in iterable:\n",
    "        \n",
    "        if not prev or -0.02 <= float(item - prev) / prev <= 0.02:\n",
    "            group.append(item)\n",
    "        else:\n",
    "            yield group\n",
    "            group = [item]\n",
    "        prev = item\n",
    "    if group:\n",
    "        yield group\n",
    "\n",
    "def find_resistance(current_value, minute_history, now):\n",
    "    \"\"\"calculate next resistance\"\"\"\n",
    "    now = pd.Timestamp(now) - timedelta(hours=4, minutes=1)\n",
    "    #print(now)\n",
    "    #print(minute_history)\n",
    "    minute_history_index = minute_history[\"close\"].index.get_loc(now, method='nearest')\n",
    "    #print(f'index:{minute_history_index} data:{minute_history[\"close\"][minute_history_index]}')\n",
    "    #print(minute_history[\"close\"][minute_history_index-10:minute_history_index])\n",
    "    for back_track_min in range(120, len(minute_history.index), 60):\n",
    "        #print(\"start\")\n",
    "        series = (\n",
    "            minute_history[\"close\"][-back_track_min:minute_history_index].dropna().between_time(\"9:30\", \"16:00\").resample(\"5min\").max()\n",
    "        ).dropna()\n",
    "        #print(series[-10:])\n",
    "        # tlog(f\"{symbol} find_resistances(): {len(series)}\")\n",
    "\n",
    "        diff = np.diff(series.values)\n",
    "        #print(diff)\n",
    "        high_index = np.where((diff[:-1] >= 0) & (diff[1:] <= 0))[0] + 1\n",
    "        #print(high_index)\n",
    "        #print(high_index)\n",
    "        if len(high_index) > 0:\n",
    "            local_maximas = sorted(\n",
    "                [series[i] for i in high_index if series[i] >= current_value]\n",
    "            )\n",
    "            #print(f\"local_maximas={local_maximas}\")\n",
    "            if len(local_maximas) > 0:\n",
    "                #print([i for i in high_index if series[i] >= current_value])\n",
    "                return local_maximas\n",
    "            continue\n",
    "            \n",
    "            clusters = dict(enumerate(grouper(local_maximas), 1))\n",
    "            #print(f\"cluster={clusters}\")\n",
    "            resistances = []\n",
    "            for key, cluster in clusters.items():\n",
    "                if len(cluster) > 1:\n",
    "                    resistances.append(round(sum(cluster) / len(cluster), 2))\n",
    "            resistances = sorted(resistances)\n",
    "\n",
    "            if len(resistances) > 0:\n",
    "                return resistances\n",
    "\n",
    "\n",
    "    return None\n",
    "\n",
    "def find_support(current_value, minute_history, now):\n",
    "    \"\"\"calculate support\"\"\"\n",
    "    now = pd.Timestamp(now) - timedelta(hours=4)\n",
    "    minute_history_index = minute_history[\"close\"].index.get_loc(now, method='nearest')\n",
    "    for back_track_min in range(120, len(minute_history.index), 60):\n",
    "        series = (minute_history[\"close\"][-back_track_min:minute_history_index].resample(\"5min\").min()).dropna()\n",
    "        diff = np.diff(series.values)\n",
    "        high_index = np.where((diff[:-1] <= 0) & (diff[1:] > 0))[0] + 1\n",
    "        if len(high_index) > 0:\n",
    "            local_maximas = sorted(\n",
    "                [series[i] for i in high_index if series[i] <= current_value]\n",
    "            )\n",
    "            if len(local_maximas) > 0:\n",
    "                return local_maximas\n",
    "            \n",
    "    return None"
   ]
  },
  {
   "cell_type": "code",
   "execution_count": 42,
   "metadata": {
    "scrolled": false
   },
   "outputs": [
    {
     "name": "stdout",
     "output_type": "stream",
     "text": [
      "EAT analysis for run 572 with profit -1.89\n"
     ]
    },
    {
     "data": {
      "text/html": [
       "<table border=\"1\" class=\"dataframe\">\n",
       "  <thead>\n",
       "    <tr style=\"text-align: right;\">\n",
       "      <th></th>\n",
       "      <th>profit</th>\n",
       "      <th>trade</th>\n",
       "      <th>operation</th>\n",
       "      <th>at</th>\n",
       "      <th>price</th>\n",
       "      <th>support</th>\n",
       "      <th>resistance</th>\n",
       "      <th>qty</th>\n",
       "      <th>indicators</th>\n",
       "      <th>target price</th>\n",
       "      <th>stop price</th>\n",
       "    </tr>\n",
       "  </thead>\n",
       "  <tbody>\n",
       "    <tr>\n",
       "      <th>0</th>\n",
       "      <td>-3806.46</td>\n",
       "      <td>-3806.46</td>\n",
       "      <td>buy</td>\n",
       "      <td>2020-05-15 14:32:29.086158</td>\n",
       "      <td>20.14</td>\n",
       "      <td>[19.67]</td>\n",
       "      <td>[20.15, 20.78]</td>\n",
       "      <td>189</td>\n",
       "      <td>{'avg': 19.5275, 'rsi': 66.79951436012472, 'macd': [0.1039244245470492, 0.11016185288918834, 0.11379332121548913, 0.11813372151426904, 0.12058692720118103], 'vwap': 20.16, 'supports': [18.55, 18.63, 18.78, 19.46, 19.67], 'sell_macd': [0.05876496858768121, 0.06290760895020853, 0.06531865846710616, 0.06816728590278132, 0.06976144642534621], 'slow macd': [0.14132243911312514, 0.1428561595379172, 0.14403875292428125, 0.14545618290042484, 0.14660759499298592], 'macd_signal': [0.09447653350783769, 0.09761359738410783, 0.10084954215038408, 0.10430637802316108, 0.10756248785876507], 'resistances': [20.75, 20.78], 'position_ratio': '1.2', 'sell_macd_signal': [0.0519891672692087, 0.05417285560540867, 0.05640201617774816, 0.05875507012275479, 0.060956345383273075]}</td>\n",
       "      <td>21.66</td>\n",
       "      <td>19.65</td>\n",
       "    </tr>\n",
       "    <tr>\n",
       "      <th>1</th>\n",
       "      <td>-1.89</td>\n",
       "      <td>3804.57</td>\n",
       "      <td>sell</td>\n",
       "      <td>2020-05-15 14:36:53.652552</td>\n",
       "      <td>20.13</td>\n",
       "      <td>None</td>\n",
       "      <td>None</td>\n",
       "      <td>189</td>\n",
       "      <td>{'avg': 19.5493, 'rsi': [53.23112982421667, 59.865030447939425], 'vwap': 20.15, 'reasons': 'bail', 'movement': 0.0004965243296920561, 'sell_macd': [0.07131988798378686, 0.07508399495621276, 0.07169129915607542, 0.061882818024070474, 0.060708900024792456], 'sell_macd_signal': [0.061268033694961206, 0.06403122594721151, 0.0655632405889843, 0.06482715607600154, 0.06400350486575972]}</td>\n",
       "      <td>21.66</td>\n",
       "      <td>19.65</td>\n",
       "    </tr>\n",
       "  </tbody>\n",
       "</table>"
      ],
      "text/plain": [
       "<IPython.core.display.HTML object>"
      ]
     },
     "metadata": {},
     "output_type": "display_data"
    },
    {
     "data": {
      "image/png": "[encoded data removed]",
      "text/plain": [
       "<Figure size 432x288 with 1 Axes>"
      ]
     },
     "metadata": {
      "needs_background": "light"
     },
     "output_type": "display_data"
    },
    {
     "name": "stdout",
     "output_type": "stream",
     "text": [
      "MRNS analysis for run 572 with profit -9.45\n"
     ]
    },
    {
     "data": {
      "text/html": [
       "<table border=\"1\" class=\"dataframe\">\n",
       "  <thead>\n",
       "    <tr style=\"text-align: right;\">\n",
       "      <th></th>\n",
       "      <th>profit</th>\n",
       "      <th>trade</th>\n",
       "      <th>operation</th>\n",
       "      <th>at</th>\n",
       "      <th>price</th>\n",
       "      <th>support</th>\n",
       "      <th>resistance</th>\n",
       "      <th>qty</th>\n",
       "      <th>indicators</th>\n",
       "      <th>target price</th>\n",
       "      <th>stop price</th>\n",
       "    </tr>\n",
       "  </thead>\n",
       "  <tbody>\n",
       "    <tr>\n",
       "      <th>0</th>\n",
       "      <td>-2182.95</td>\n",
       "      <td>-2182.95</td>\n",
       "      <td>buy</td>\n",
       "      <td>2020-05-15 14:18:20.648585</td>\n",
       "      <td>2.31</td>\n",
       "      <td>[2.1199, 2.12, 2.145, 2.2201]</td>\n",
       "      <td>[2.3999]</td>\n",
       "      <td>945</td>\n",
       "      <td>{'avg': 2.2195, 'rsi': 68.42812872180352, 'macd': [0.023035805052353364, 0.02456785296122721, 0.026357715534148785, 0.026917206546732686, 0.02751946068426392], 'vwap': 2.31, 'supports': [2.07, 2.08, 2.09, 2.11, 2.145, 2.2281], 'sell_macd': [0.013324484146999716, 0.014310138916853177, 0.015458569400935485, 0.015799442902805882, 0.01616636455487619], 'slow macd': [0.022376273094579346, 0.022981278079786005, 0.023675476943697316, 0.024167539989712772, 0.02467596338392397], 'macd_signal': [0.022240227818130523, 0.02270575284674986, 0.023436145384229647, 0.024132357616730254, 0.024809778230236987], 'resistances': [2.39], 'position_ratio': '0.98', 'sell_macd_signal': [0.012881457538884093, 0.01316719381447791, 0.013625468931769424, 0.014060263725976716, 0.014481483891756611]}</td>\n",
       "      <td>2.61</td>\n",
       "      <td>2.21</td>\n",
       "    </tr>\n",
       "    <tr>\n",
       "      <th>1</th>\n",
       "      <td>-9.45</td>\n",
       "      <td>2173.50</td>\n",
       "      <td>sell</td>\n",
       "      <td>2020-05-15 14:23:31.683502</td>\n",
       "      <td>2.30</td>\n",
       "      <td>None</td>\n",
       "      <td>None</td>\n",
       "      <td>945</td>\n",
       "      <td>{'avg': 2.235, 'rsi': [57.09123493462867, 62.10820811425663], 'vwap': 2.314, 'reasons': 'bail', 'movement': 0.004329004329004236, 'sell_macd': [0.016402890868119968, 0.017196592644346698, 0.015877443474596742, 0.014451126673822756, 0.014383202846286913], 'sell_macd_signal': [0.015147698440369738, 0.01555747728116513, 0.015621470519851452, 0.015387401750645712, 0.015186561969773953]}</td>\n",
       "      <td>2.61</td>\n",
       "      <td>2.21</td>\n",
       "    </tr>\n",
       "  </tbody>\n",
       "</table>"
      ],
      "text/plain": [
       "<IPython.core.display.HTML object>"
      ]
     },
     "metadata": {},
     "output_type": "display_data"
    },
    {
     "data": {
      "image/png": "[encoded data removed]",
      "text/plain": [
       "<Figure size 432x288 with 1 Axes>"
      ]
     },
     "metadata": {
      "needs_background": "light"
     },
     "output_type": "display_data"
    }
   ],
   "source": [
    "for run_id, count in runs.items():\n",
    "    for symbol in minute_history:    \n",
    "        if symbol not in trade_details[run_id]:\n",
    "            continue\n",
    "        start_date = datetime.strptime(start_day_to_analyze, \"%Y-%m-%d\") + timedelta(hours=9, minutes=30)\n",
    "        minute_history_index = minute_history[symbol][\"close\"].index.get_loc(start_date, method='nearest')\n",
    "        plt.plot(minute_history[symbol][\"close\"][minute_history_index:].between_time(\"9:30\", \"16:00\"), label=symbol)\n",
    "        plt.xticks(rotation=45)\n",
    "        delta = 0\n",
    "        profit = 0\n",
    "        \n",
    "        operations = []\n",
    "        deltas = []\n",
    "        profits = []\n",
    "        times = []\n",
    "        prices = []\n",
    "        qtys = []\n",
    "        indicators = []\n",
    "        target_price = []\n",
    "        stop_price = []\n",
    "        resistances = []\n",
    "        supports = []\n",
    "        for trade in trade_details[run_id][symbol]:\n",
    "            resistance = None\n",
    "            support = None\n",
    "            if trade[0] == 'buy':\n",
    "                resistance = find_resistance(trade[2], minute_history[symbol], trade[1])\n",
    "                \n",
    "                for r in resistance:\n",
    "                    plt.axhline(y=r, color=\"r\")\n",
    "                support = find_support(trade[2], minute_history[symbol], trade[1])\n",
    "                for s in support:\n",
    "                    plt.axhline(y=s, color=\"g\")  \n",
    "                \n",
    "            delta = trade[2] * trade[3] * (1 if trade[0] == 'sell' or trade[0] == 'buy_short' else -1)\n",
    "            profit += delta\n",
    "            plt.scatter(pd.to_datetime(trade[1]), trade[2], c='g' if trade[0] == 'buy' or trade[0] == 'sell_short' else 'r', s=100)\n",
    "            deltas.append(round(delta, 2))\n",
    "            profits.append(round(profit, 2))\n",
    "            operations.append(trade[0])\n",
    "            times.append(pd.to_datetime(trade[1]))\n",
    "            prices.append(trade[2])\n",
    "            qtys.append(trade[3])\n",
    "            indicators.append(trade[4])\n",
    "            target_price.append(trade[6])\n",
    "            stop_price.append(trade[5])    \n",
    "            resistances.append(resistance)\n",
    "            supports.append(support)\n",
    "        d = {\n",
    "            'profit': profits,\n",
    "            'trade': deltas,\n",
    "            'operation': operations,\n",
    "            'at': times,\n",
    "            'price': prices,\n",
    "            'support': supports,\n",
    "            'resistance': resistances,\n",
    "            'qty': qtys,\n",
    "            'indicators': indicators,\n",
    "            'target price': target_price,\n",
    "            'stop price': stop_price\n",
    "        }   \n",
    "        print (f'{symbol} analysis for run {run_id} with profit {round(profit, 2)}')\n",
    "        display(HTML(pd.DataFrame(data=d).to_html()))\n",
    "        plt.legend()\n",
    "        plt.show()"
   ]
  },
  {
   "cell_type": "code",
   "execution_count": null,
   "metadata": {},
   "outputs": [],
   "source": [
    " pd.Timestamp('2020-04-16 13:44:06.066') "
   ]
  },
  {
   "cell_type": "code",
   "execution_count": null,
   "metadata": {},
   "outputs": [],
   "source": [
    "index = minute_history['NURO'].index.get_loc(pd.Timestamp('2020-04-16 13:44:06.066') , method='nearest')"
   ]
  },
  {
   "cell_type": "code",
   "execution_count": null,
   "metadata": {},
   "outputs": [],
   "source": [
    "minute_history['NURO'][:index]"
   ]
  },
  {
   "cell_type": "code",
   "execution_count": null,
   "metadata": {},
   "outputs": [],
   "source": [
    "series = minute_history['NURO'][:2417]['close']"
   ]
  },
  {
   "cell_type": "code",
   "execution_count": null,
   "metadata": {},
   "outputs": [],
   "source": [
    "MACD(series.dropna().between_time(\"9:30\", \"16:00\"))"
   ]
  },
  {
   "cell_type": "code",
   "execution_count": null,
   "metadata": {},
   "outputs": [],
   "source": []
  }
 ],
 "metadata": {
  "kernelspec": {
   "display_name": "Python 3",
   "language": "python",
   "name": "python3"
  },
  "language_info": {
   "codemirror_mode": {
    "name": "ipython",
    "version": 3
   },
   "file_extension": ".py",
   "mimetype": "text/x-python",
   "name": "python",
   "nbconvert_exporter": "python",
   "pygments_lexer": "ipython3",
   "version": "3.8.0"
  }
 },
 "nbformat": 4,
 "nbformat_minor": 2
}
