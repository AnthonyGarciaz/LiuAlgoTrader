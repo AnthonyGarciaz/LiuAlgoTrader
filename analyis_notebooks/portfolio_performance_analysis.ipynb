{
 "cells": [
  {
   "cell_type": "code",
   "execution_count": 1,
   "metadata": {
    "scrolled": true
   },
   "outputs": [],
   "source": [
    "import pandas as pd\n",
    "import psycopg2\n",
    "from sqlalchemy import create_engine\n",
    "import matplotlib.pyplot as plt\n",
    "import alpaca_trade_api as tradeapi\n",
    "import numpy as np\n",
    "import requests\n",
    "from talib import MACD, RSI, BBANDS\n",
    "from datetime import datetime, timedelta, date\n",
    "from IPython.display import display, HTML\n",
    "from liualgotrader.analytics import analysis \n",
    "%matplotlib inline\n",
    "import json\n",
    "import math\n",
    "from dateutil import parser\n",
    "from pytz import timezone\n",
    "import sys\n",
    "import pytz"
   ]
  },
  {
   "cell_type": "code",
   "execution_count": 2,
   "metadata": {
    "scrolled": true
   },
   "outputs": [],
   "source": [
    "day_to_analyze = datetime.strptime(\"2020-10-02\", \"%Y-%m-%d\")"
   ]
  },
  {
   "cell_type": "code",
   "execution_count": 4,
   "metadata": {
    "scrolled": true
   },
   "outputs": [],
   "source": [
    "trades = analysis.load_trades(day_to_analyze)"
   ]
  },
  {
   "cell_type": "code",
   "execution_count": 5,
   "metadata": {
    "scrolled": true
   },
   "outputs": [],
   "source": [
    "algo_runs = analysis.load_runs(day_to_analyze)"
   ]
  },
  {
   "cell_type": "code",
   "execution_count": 66,
   "metadata": {
    "scrolled": true
   },
   "outputs": [
    {
     "name": "stdout",
     "output_type": "stream",
     "text": [
      "batch_id:688958e7-8e3a-440e-a2d3-8527d1b6eca9, total revenues=$-6.42\n"
     ]
    },
    {
     "data": {
      "text/html": [
       "<div>\n",
       "<style scoped>\n",
       "    .dataframe tbody tr th:only-of-type {\n",
       "        vertical-align: middle;\n",
       "    }\n",
       "\n",
       "    .dataframe tbody tr th {\n",
       "        vertical-align: top;\n",
       "    }\n",
       "\n",
       "    .dataframe thead th {\n",
       "        text-align: right;\n",
       "    }\n",
       "</style>\n",
       "<table border=\"1\" class=\"dataframe\">\n",
       "  <thead>\n",
       "    <tr style=\"text-align: right;\">\n",
       "      <th></th>\n",
       "      <th>symbol</th>\n",
       "      <th>revenues</th>\n",
       "      <th>count</th>\n",
       "    </tr>\n",
       "  </thead>\n",
       "  <tbody>\n",
       "    <tr>\n",
       "      <th>0</th>\n",
       "      <td>BBBY</td>\n",
       "      <td>46.44</td>\n",
       "      <td>3</td>\n",
       "    </tr>\n",
       "    <tr>\n",
       "      <th>1</th>\n",
       "      <td>GALT</td>\n",
       "      <td>-99.66</td>\n",
       "      <td>3</td>\n",
       "    </tr>\n",
       "    <tr>\n",
       "      <th>2</th>\n",
       "      <td>PRPO</td>\n",
       "      <td>38.25</td>\n",
       "      <td>2</td>\n",
       "    </tr>\n",
       "    <tr>\n",
       "      <th>3</th>\n",
       "      <td>SPWR</td>\n",
       "      <td>8.55</td>\n",
       "      <td>2</td>\n",
       "    </tr>\n",
       "  </tbody>\n",
       "</table>\n",
       "</div>"
      ],
      "text/plain": [
       "  symbol  revenues  count\n",
       "0   BBBY     46.44      3\n",
       "1   GALT    -99.66      3\n",
       "2   PRPO     38.25      2\n",
       "3   SPWR      8.55      2"
      ]
     },
     "metadata": {},
     "output_type": "display_data"
    }
   ],
   "source": [
    "symbol_name = []\n",
    "counts = []\n",
    "revenues = []\n",
    "\n",
    "batch_ids = trades.batch_id.unique().tolist()\n",
    "\n",
    "current_max = pd.options.display.max_rows\n",
    "pd.set_option(\"display.max_rows\", None)\n",
    "for batch_id in batch_ids:\n",
    "    how_was_my_day = pd.DataFrame()\n",
    "    how_was_my_day[\"symbol\"] = trades.loc[trades[\"batch_id\"] == batch_id][\n",
    "        \"symbol\"\n",
    "    ].unique()\n",
    "    how_was_my_day[\"revenues\"] = how_was_my_day[\"symbol\"].apply(\n",
    "        lambda x: analysis.calc_revenue(x, trades)\n",
    "    )\n",
    "    how_was_my_day[\"count\"] = how_was_my_day[\"symbol\"].apply(\n",
    "        lambda x: analysis.count_trades(x, trades)\n",
    "    )\n",
    "\n",
    "    print(\n",
    "        f\"batch_id:{batch_id}, total revenues=${round(sum(how_was_my_day['revenues']),2)}\"\n",
    "    )\n",
    "    display(how_was_my_day)\n",
    "\n",
    "pd.set_option(\"display.max_rows\", current_max)"
   ]
  },
  {
   "cell_type": "code",
   "execution_count": 71,
   "metadata": {
    "scrolled": true
   },
   "outputs": [],
   "source": [
    "api = tradeapi.REST(base_url=\"https://api.alpaca.markets\")\n",
    "minute_history = {}\n",
    "for symbol in trades.symbol.unique().tolist():\n",
    "    minute_history[symbol] = api.polygon.historic_agg_v2(\n",
    "        symbol,\n",
    "        1,\n",
    "        \"minute\",\n",
    "        _from=str((day_to_analyze - timedelta(days=10)).date()),\n",
    "        to=str((day_to_analyze + timedelta(days=1)).date()),\n",
    "    ).df"
   ]
  },
  {
   "cell_type": "code",
   "execution_count": 74,
   "metadata": {
    "scrolled": false
   },
   "outputs": [
    {
     "name": "stdout",
     "output_type": "stream",
     "text": [
      "BBBY analysis with profit 46.44\n"
     ]
    },
    {
     "data": {
      "text/html": [
       "<table border=\"1\" class=\"dataframe\">\n",
       "  <thead>\n",
       "    <tr style=\"text-align: right;\">\n",
       "      <th></th>\n",
       "      <th>profit</th>\n",
       "      <th>trade</th>\n",
       "      <th>operation</th>\n",
       "      <th>at</th>\n",
       "      <th>price</th>\n",
       "      <th>qty</th>\n",
       "      <th>daily change</th>\n",
       "      <th>vwap</th>\n",
       "      <th>indicators</th>\n",
       "      <th>target price</th>\n",
       "      <th>stop price</th>\n",
       "    </tr>\n",
       "  </thead>\n",
       "  <tbody>\n",
       "    <tr>\n",
       "      <th>0</th>\n",
       "      <td>-2187.00</td>\n",
       "      <td>-2187.00</td>\n",
       "      <td>buy</td>\n",
       "      <td>2020-10-02 10:28:36.028907-04:00</td>\n",
       "      <td>20.25</td>\n",
       "      <td>108</td>\n",
       "      <td>4.38%</td>\n",
       "      <td></td>\n",
       "      <td>{'buy': {'avg': 19.6473, 'macd': [0.051729196205780426, 0.04363155881093306, 0.05209829237553265, 0.07025543927229094, 0.0840155351113765], 'vwap': 20.2568, 'macd_signal': [0.06793391143029301, 0.06307344090642102, 0.06087841120024334, 0.06275381681465286, 0.06700616047399759]}, 'sell': None}</td>\n",
       "      <td>22.84</td>\n",
       "      <td>19.39</td>\n",
       "    </tr>\n",
       "    <tr>\n",
       "      <th>1</th>\n",
       "      <td>-201.72</td>\n",
       "      <td>1985.28</td>\n",
       "      <td>sell</td>\n",
       "      <td>2020-10-02 10:54:23.779726-04:00</td>\n",
       "      <td>20.68</td>\n",
       "      <td>96</td>\n",
       "      <td>6.6%</td>\n",
       "      <td></td>\n",
       "      <td>{'buy': None, 'sell': {'avg': 19.9257, 'rsi': [60.27916050039425, 60.27916050039425, 64.19846299508197], 'vwap': 20.6637, 'reasons': 'bail', 'movement': 0.020246913580246922, 'sell_macd': [0.07193896682793621, 0.06756304504022026, 0.06301605345186445, 0.05865455281870524, 0.05832280488613151], 'sell_macd_signal': [0.08348238354252854, 0.08029851584206689, 0.0768420233640264, 0.07320452925496217, 0.07022818438119603]}}</td>\n",
       "      <td>22.84</td>\n",
       "      <td>19.39</td>\n",
       "    </tr>\n",
       "    <tr>\n",
       "      <th>2</th>\n",
       "      <td>46.44</td>\n",
       "      <td>248.16</td>\n",
       "      <td>sell</td>\n",
       "      <td>2020-10-02 10:54:23.999473-04:00</td>\n",
       "      <td>20.68</td>\n",
       "      <td>12</td>\n",
       "      <td>6.6%</td>\n",
       "      <td></td>\n",
       "      <td>{'buy': None, 'sell': {'avg': 19.9257, 'rsi': [60.27916050039425, 60.27916050039425, 64.19846299508197], 'vwap': 20.6637, 'reasons': 'bail', 'movement': 0.020246913580246922, 'sell_macd': [0.07193896682793621, 0.06756304504022026, 0.06301605345186445, 0.05865455281870524, 0.05832280488613151], 'sell_macd_signal': [0.08348238354252854, 0.08029851584206689, 0.0768420233640264, 0.07320452925496217, 0.07022818438119603]}}</td>\n",
       "      <td>22.84</td>\n",
       "      <td>19.39</td>\n",
       "    </tr>\n",
       "  </tbody>\n",
       "</table>"
      ],
      "text/plain": [
       "<IPython.core.display.HTML object>"
      ]
     },
     "metadata": {},
     "output_type": "display_data"
    },
    {
     "data": {
      "image/png": "[encoded data removed]",
      "text/plain": [
       "<Figure size 432x288 with 1 Axes>"
      ]
     },
     "metadata": {
      "needs_background": "light"
     },
     "output_type": "display_data"
    },
    {
     "name": "stdout",
     "output_type": "stream",
     "text": [
      "GALT analysis with profit -99.66\n"
     ]
    },
    {
     "data": {
      "text/html": [
       "<table border=\"1\" class=\"dataframe\">\n",
       "  <thead>\n",
       "    <tr style=\"text-align: right;\">\n",
       "      <th></th>\n",
       "      <th>profit</th>\n",
       "      <th>trade</th>\n",
       "      <th>operation</th>\n",
       "      <th>at</th>\n",
       "      <th>price</th>\n",
       "      <th>qty</th>\n",
       "      <th>daily change</th>\n",
       "      <th>vwap</th>\n",
       "      <th>indicators</th>\n",
       "      <th>target price</th>\n",
       "      <th>stop price</th>\n",
       "    </tr>\n",
       "  </thead>\n",
       "  <tbody>\n",
       "    <tr>\n",
       "      <th>0</th>\n",
       "      <td>-838.75</td>\n",
       "      <td>-838.75</td>\n",
       "      <td>buy</td>\n",
       "      <td>2020-10-02 10:22:43.991415-04:00</td>\n",
       "      <td>2.75</td>\n",
       "      <td>305</td>\n",
       "      <td>3.9%</td>\n",
       "      <td></td>\n",
       "      <td>{'buy': {'avg': 2.68, 'macd': [0.011552185778485935, 0.011778904316757544, 0.012620021071052978, 0.013701579541557152, 0.015421870884071431], 'vwap': 2.7496, 'macd_signal': [0.01320212065986171, 0.012917477391240877, 0.012857986127203297, 0.013026704810074067, 0.01350573802487354]}, 'sell': None}</td>\n",
       "      <td>3.06</td>\n",
       "      <td>2.65</td>\n",
       "    </tr>\n",
       "    <tr>\n",
       "      <th>1</th>\n",
       "      <td>-2491.50</td>\n",
       "      <td>-1652.75</td>\n",
       "      <td>buy</td>\n",
       "      <td>2020-10-02 10:22:44.196264-04:00</td>\n",
       "      <td>2.75</td>\n",
       "      <td>601</td>\n",
       "      <td>3.9%</td>\n",
       "      <td></td>\n",
       "      <td>{'buy': {'avg': 2.68, 'macd': [0.011552185778485935, 0.011778904316757544, 0.012620021071052978, 0.013701579541557152, 0.015421870884071431], 'vwap': 2.7496, 'macd_signal': [0.01320212065986171, 0.012917477391240877, 0.012857986127203297, 0.013026704810074067, 0.01350573802487354]}, 'sell': None}</td>\n",
       "      <td>3.06</td>\n",
       "      <td>2.65</td>\n",
       "    </tr>\n",
       "    <tr>\n",
       "      <th>2</th>\n",
       "      <td>-99.66</td>\n",
       "      <td>2391.84</td>\n",
       "      <td>sell</td>\n",
       "      <td>2020-10-02 14:13:26.258187-04:00</td>\n",
       "      <td>2.64</td>\n",
       "      <td>906</td>\n",
       "      <td>-0.26%</td>\n",
       "      <td></td>\n",
       "      <td>{'buy': None, 'sell': {'avg': 2.6865, 'rsi': [31.351975026617357, 36.21649651136396, 33.64867556585603], 'vwap': 2.64, 'reasons': 'stopped', 'movement': -0.03999999999999995, 'sell_macd': [-0.004983170583190866, -0.005425864462822005, -0.007258796518861743, -0.008073304659686809, -0.009122618734878962], 'sell_macd_signal': [-0.0024667328562628507, -0.0030585591775746817, -0.003898606645832094, -0.004733546248603037, -0.0056113607458582225]}}</td>\n",
       "      <td>3.06</td>\n",
       "      <td>2.65</td>\n",
       "    </tr>\n",
       "  </tbody>\n",
       "</table>"
      ],
      "text/plain": [
       "<IPython.core.display.HTML object>"
      ]
     },
     "metadata": {},
     "output_type": "display_data"
    },
    {
     "data": {
      "image/png": "[encoded data removed]",
      "text/plain": [
       "<Figure size 432x288 with 1 Axes>"
      ]
     },
     "metadata": {
      "needs_background": "light"
     },
     "output_type": "display_data"
    },
    {
     "name": "stdout",
     "output_type": "stream",
     "text": [
      "PRPO analysis with profit 38.25\n"
     ]
    },
    {
     "data": {
      "text/html": [
       "<table border=\"1\" class=\"dataframe\">\n",
       "  <thead>\n",
       "    <tr style=\"text-align: right;\">\n",
       "      <th></th>\n",
       "      <th>profit</th>\n",
       "      <th>trade</th>\n",
       "      <th>operation</th>\n",
       "      <th>at</th>\n",
       "      <th>price</th>\n",
       "      <th>qty</th>\n",
       "      <th>daily change</th>\n",
       "      <th>vwap</th>\n",
       "      <th>indicators</th>\n",
       "      <th>target price</th>\n",
       "      <th>stop price</th>\n",
       "    </tr>\n",
       "  </thead>\n",
       "  <tbody>\n",
       "    <tr>\n",
       "      <th>0</th>\n",
       "      <td>-1079.50</td>\n",
       "      <td>-1079.50</td>\n",
       "      <td>buy</td>\n",
       "      <td>2020-10-02 10:28:29.574691-04:00</td>\n",
       "      <td>2.54</td>\n",
       "      <td>425</td>\n",
       "      <td>4.53%</td>\n",
       "      <td></td>\n",
       "      <td>{'buy': {'avg': 2.4473, 'macd': [0.017972027871907326, 0.021867590882726606, 0.023880723260060854, 0.02639835434475213, 0.02841304132740552], 'vwap': 2.5503, 'macd_signal': [0.017174870646006812, 0.01811341469335077, 0.019266876406692786, 0.020693171994304656, 0.022237145860924828]}, 'sell': None}</td>\n",
       "      <td>3.21</td>\n",
       "      <td>2.33</td>\n",
       "    </tr>\n",
       "    <tr>\n",
       "      <th>1</th>\n",
       "      <td>38.25</td>\n",
       "      <td>1117.75</td>\n",
       "      <td>sell</td>\n",
       "      <td>2020-10-02 10:32:55.957669-04:00</td>\n",
       "      <td>2.63</td>\n",
       "      <td>425</td>\n",
       "      <td>8.23%</td>\n",
       "      <td></td>\n",
       "      <td>{'buy': None, 'sell': {'avg': 2.5152, 'rsi': [65.6684437654658, 67.65117443217514, 79.34350603563581], 'vwap': 2.64, 'reasons': 'rsi max, cool-down for 5 minutes', 'movement': 0.039370078740157514, 'sell_macd': [0.017271894980802394, 0.017333613242455304, 0.01716698314449072, 0.017328479390953166, 0.02190979491558709], 'sell_macd_signal': [0.014486250412111613, 0.015055722978180352, 0.015477975011442425, 0.015848075887344572, 0.017060419692993076]}}</td>\n",
       "      <td>3.21</td>\n",
       "      <td>2.33</td>\n",
       "    </tr>\n",
       "  </tbody>\n",
       "</table>"
      ],
      "text/plain": [
       "<IPython.core.display.HTML object>"
      ]
     },
     "metadata": {},
     "output_type": "display_data"
    },
    {
     "data": {
      "image/png": "[encoded data removed]",
      "text/plain": [
       "<Figure size 432x288 with 1 Axes>"
      ]
     },
     "metadata": {
      "needs_background": "light"
     },
     "output_type": "display_data"
    },
    {
     "name": "stdout",
     "output_type": "stream",
     "text": [
      "SPWR analysis with profit 8.55\n"
     ]
    },
    {
     "data": {
      "text/html": [
       "<table border=\"1\" class=\"dataframe\">\n",
       "  <thead>\n",
       "    <tr style=\"text-align: right;\">\n",
       "      <th></th>\n",
       "      <th>profit</th>\n",
       "      <th>trade</th>\n",
       "      <th>operation</th>\n",
       "      <th>at</th>\n",
       "      <th>price</th>\n",
       "      <th>qty</th>\n",
       "      <th>daily change</th>\n",
       "      <th>vwap</th>\n",
       "      <th>indicators</th>\n",
       "      <th>target price</th>\n",
       "      <th>stop price</th>\n",
       "    </tr>\n",
       "  </thead>\n",
       "  <tbody>\n",
       "    <tr>\n",
       "      <th>0</th>\n",
       "      <td>-2373.48</td>\n",
       "      <td>-2373.48</td>\n",
       "      <td>buy</td>\n",
       "      <td>2020-10-02 10:28:29.738431-04:00</td>\n",
       "      <td>13.88</td>\n",
       "      <td>171</td>\n",
       "      <td>3.81%</td>\n",
       "      <td></td>\n",
       "      <td>{'buy': {'avg': 13.5, 'macd': [0.05615925331022176, 0.059795844934980025, 0.06675789427135825, 0.06985627601044264, 0.07305123291701499], 'vwap': 13.8896, 'macd_signal': [0.051442360952111695, 0.05311305774868536, 0.05584202505321994, 0.05864487524466448, 0.06152614677913458]}, 'sell': None}</td>\n",
       "      <td>15.53</td>\n",
       "      <td>13.34</td>\n",
       "    </tr>\n",
       "    <tr>\n",
       "      <th>1</th>\n",
       "      <td>8.55</td>\n",
       "      <td>2382.03</td>\n",
       "      <td>sell</td>\n",
       "      <td>2020-10-02 10:58:24.474518-04:00</td>\n",
       "      <td>13.93</td>\n",
       "      <td>171</td>\n",
       "      <td>4.19%</td>\n",
       "      <td></td>\n",
       "      <td>{'buy': None, 'sell': {'avg': 13.5974, 'rsi': [62.34803143073789, 50.6803140560944, 51.76052336689192], 'vwap': 13.92, 'reasons': 'bail post whipsawed', 'movement': 0.0028818443804033964, 'sell_macd': [0.027301220736498877, 0.029307674645693282, 0.029451565034083416, 0.02450587488173639, 0.020853312751572872], 'sell_macd_signal': [0.0233873722006345, 0.024571432689646254, 0.025547459158533688, 0.025339142303174227, 0.024441976392853955]}}</td>\n",
       "      <td>15.53</td>\n",
       "      <td>13.34</td>\n",
       "    </tr>\n",
       "  </tbody>\n",
       "</table>"
      ],
      "text/plain": [
       "<IPython.core.display.HTML object>"
      ]
     },
     "metadata": {},
     "output_type": "display_data"
    },
    {
     "data": {
      "image/png": "[encoded data removed]",
      "text/plain": [
       "<Figure size 432x288 with 1 Axes>"
      ]
     },
     "metadata": {
      "needs_background": "light"
     },
     "output_type": "display_data"
    }
   ],
   "source": [
    "est = pytz.timezone(\"US/Eastern\")\n",
    "position = {}\n",
    "for symbol in minute_history:\n",
    "    symbol_df = trades.loc[trades[\"symbol\"] == symbol]\n",
    "    start_date = symbol_df[\"tstamp\"].min().to_pydatetime()\n",
    "    start_date = start_date.replace(hour=9, minute=30)\n",
    "    cool_down_date = start_date + timedelta(minutes=5)\n",
    "    try:\n",
    "        minute_history_index = minute_history[symbol][\"close\"].index.get_loc(\n",
    "            start_date, method=\"nearest\"\n",
    "        )\n",
    "    except Exception as e:\n",
    "        print(f\"Error for {symbol}: {e}\")\n",
    "        continue\n",
    "\n",
    "    cool_minute_history_index = minute_history[symbol][\"close\"].index.get_loc(\n",
    "        cool_down_date, method=\"nearest\"\n",
    "    )\n",
    "    open_price = minute_history[symbol][\"close\"][cool_minute_history_index]\n",
    "    plt.plot(\n",
    "        minute_history[symbol][\"close\"][minute_history_index:].between_time(\n",
    "            \"9:30\", \"16:00\"\n",
    "        ),\n",
    "        label=symbol,\n",
    "    )\n",
    "    plt.xticks(rotation=45)\n",
    "\n",
    "    delta = 0\n",
    "    profit = 0\n",
    "\n",
    "    operations = []\n",
    "    deltas = []\n",
    "    profits = []\n",
    "    times = []\n",
    "    prices = []\n",
    "    qtys = []\n",
    "    indicators = []\n",
    "    target_price = []\n",
    "    stop_price = []\n",
    "    daily_change = []\n",
    "    precent_vwap = []\n",
    "    position[symbol] = 0\n",
    "    for index, row in symbol_df.iterrows():\n",
    "        if not position[symbol]:\n",
    "            try:\n",
    "                now = int(row[\"client_time\"])\n",
    "                continue\n",
    "            except Exception:\n",
    "                pass\n",
    "\n",
    "        if position[symbol] >= 0 and row[\"operation\"] == \"buy\":\n",
    "            delta = -row[\"price\"] * row[\"qty\"]\n",
    "            position[symbol] += row[\"qty\"]\n",
    "        elif position[symbol] <= 0 and row[\"operation\"] == \"sell\":\n",
    "            delta = row[\"price\"] * row[\"qty\"]\n",
    "            position[symbol] -= row[\"qty\"]\n",
    "        elif position[symbol] > 0 and row[\"operation\"] == \"sell\":\n",
    "            delta = row[\"price\"] * row[\"qty\"]\n",
    "            position[symbol] -= row[\"qty\"]\n",
    "        elif position[symbol] < 0 and row[\"operation\"] == \"buy\":\n",
    "            delta = -row[\"price\"] * row[\"qty\"]\n",
    "            position[symbol] += row[\"qty\"]\n",
    "\n",
    "        profit += delta\n",
    "        plt.scatter(\n",
    "            row[\"tstamp\"].to_pydatetime(),\n",
    "            row[\"price\"],\n",
    "            c=\"g\" if row[\"operation\"] == \"buy\" else \"r\",\n",
    "            s=100,\n",
    "        )\n",
    "        deltas.append(round(delta, 2))\n",
    "        profits.append(round(profit, 2))\n",
    "        operations.append(row[\"operation\"])\n",
    "        times.append(pytz.utc.localize(pd.to_datetime(row[\"tstamp\"])).astimezone(est))\n",
    "        prices.append(row[\"price\"])\n",
    "        qtys.append(row[\"qty\"])\n",
    "        indicators.append(row[\"indicators\"])\n",
    "        target_price.append(row[\"target_price\"])\n",
    "        stop_price.append(row[\"stop_price\"])\n",
    "        daily_change.append(\n",
    "            f\"{round(100.0 * (row['price'] - open_price) / open_price, 2)}%\"\n",
    "        )\n",
    "        precent_vwap.append(\n",
    "            f\"{round(100.0 * (row['indicators']['avg'] - open_price) / open_price, 2)}%\"\n",
    "            if \"avg\" in row[\"indicators\"]\n",
    "            else \"\"\n",
    "        )\n",
    "\n",
    "    d = {\n",
    "        \"profit\": profits,\n",
    "        \"trade\": deltas,\n",
    "        \"operation\": operations,\n",
    "        \"at\": times,\n",
    "        \"price\": prices,\n",
    "        \"qty\": qtys,\n",
    "        \"daily change\": daily_change,\n",
    "        \"vwap\": precent_vwap,\n",
    "        \"indicators\": indicators,\n",
    "        \"target price\": target_price,\n",
    "        \"stop price\": stop_price,\n",
    "    }\n",
    "    print(f\"{symbol} analysis with profit ${round(profit, 2)}\")\n",
    "    display(HTML(pd.DataFrame(data=d).to_html()))\n",
    "    plt.legend()\n",
    "    plt.show()"
   ]
  },
  {
   "cell_type": "code",
   "execution_count": null,
   "metadata": {
    "scrolled": true
   },
   "outputs": [],
   "source": []
  }
 ],
 "metadata": {
  "kernelspec": {
   "display_name": "Python 3",
   "language": "python",
   "name": "python3"
  },
  "language_info": {
   "codemirror_mode": {
    "name": "ipython",
    "version": 3
   },
   "file_extension": ".py",
   "mimetype": "text/x-python",
   "name": "python",
   "nbconvert_exporter": "python",
   "pygments_lexer": "ipython3",
   "version": "3.8.0"
  }
 },
 "nbformat": 4,
 "nbformat_minor": 2
}
