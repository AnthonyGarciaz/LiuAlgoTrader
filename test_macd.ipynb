{
 "cells": [
  {
   "cell_type": "code",
   "execution_count": 1,
   "metadata": {},
   "outputs": [],
   "source": [
    "import time\n",
    "from datetime import datetime, timedelta\n",
    "import alpaca_trade_api as tradeapi\n",
    "import numpy as np\n",
    "import requests\n",
    "from ta.trend import macd"
   ]
  },
  {
   "cell_type": "code",
   "execution_count": 2,
   "metadata": {},
   "outputs": [],
   "source": [
    "base_url = \"https://paper-api.alpaca.markets\"\n",
    "api_key_id = \"PKAWDZ1B1UO4JS9EP373\"\n",
    "api_secret = \"8NTlw1SuEPjpBQ0cPbwyNXEdJRklTe/HF7Rf90zE\""
   ]
  },
  {
   "cell_type": "code",
   "execution_count": 3,
   "metadata": {},
   "outputs": [],
   "source": [
    "api = tradeapi.REST(\n",
    "    base_url=base_url, key_id=api_key_id, secret_key=api_secret\n",
    ")"
   ]
  },
  {
   "cell_type": "code",
   "execution_count": 4,
   "metadata": {},
   "outputs": [],
   "source": [
    "session = requests.session()"
   ]
  },
  {
   "cell_type": "code",
   "execution_count": 15,
   "metadata": {},
   "outputs": [],
   "source": [
    "minute_history = api.polygon.historic_agg(size=\"minute\", symbol=\"GASL\", limit=1000).df"
   ]
  },
  {
   "cell_type": "code",
   "execution_count": 16,
   "metadata": {},
   "outputs": [
    {
     "data": {
      "text/html": [
       "<div>\n",
       "<style scoped>\n",
       "    .dataframe tbody tr th:only-of-type {\n",
       "        vertical-align: middle;\n",
       "    }\n",
       "\n",
       "    .dataframe tbody tr th {\n",
       "        vertical-align: top;\n",
       "    }\n",
       "\n",
       "    .dataframe thead th {\n",
       "        text-align: right;\n",
       "    }\n",
       "</style>\n",
       "<table border=\"1\" class=\"dataframe\">\n",
       "  <thead>\n",
       "    <tr style=\"text-align: right;\">\n",
       "      <th></th>\n",
       "      <th>open</th>\n",
       "      <th>high</th>\n",
       "      <th>low</th>\n",
       "      <th>close</th>\n",
       "      <th>volume</th>\n",
       "    </tr>\n",
       "    <tr>\n",
       "      <th>timestamp</th>\n",
       "      <th></th>\n",
       "      <th></th>\n",
       "      <th></th>\n",
       "      <th></th>\n",
       "      <th></th>\n",
       "    </tr>\n",
       "  </thead>\n",
       "  <tbody>\n",
       "    <tr>\n",
       "      <th>2019-12-10 11:45:00-05:00</th>\n",
       "      <td>7.18</td>\n",
       "      <td>7.1850</td>\n",
       "      <td>7.1701</td>\n",
       "      <td>7.1850</td>\n",
       "      <td>7956</td>\n",
       "    </tr>\n",
       "    <tr>\n",
       "      <th>2019-12-10 11:46:00-05:00</th>\n",
       "      <td>7.18</td>\n",
       "      <td>7.2000</td>\n",
       "      <td>7.1800</td>\n",
       "      <td>7.1900</td>\n",
       "      <td>8036</td>\n",
       "    </tr>\n",
       "    <tr>\n",
       "      <th>2019-12-10 11:47:00-05:00</th>\n",
       "      <td>7.19</td>\n",
       "      <td>7.2000</td>\n",
       "      <td>7.1900</td>\n",
       "      <td>7.2000</td>\n",
       "      <td>2786</td>\n",
       "    </tr>\n",
       "    <tr>\n",
       "      <th>2019-12-10 11:48:00-05:00</th>\n",
       "      <td>7.20</td>\n",
       "      <td>7.2000</td>\n",
       "      <td>7.1900</td>\n",
       "      <td>7.1900</td>\n",
       "      <td>9884</td>\n",
       "    </tr>\n",
       "    <tr>\n",
       "      <th>2019-12-10 11:49:00-05:00</th>\n",
       "      <td>7.19</td>\n",
       "      <td>7.1900</td>\n",
       "      <td>7.1900</td>\n",
       "      <td>7.1900</td>\n",
       "      <td>200</td>\n",
       "    </tr>\n",
       "    <tr>\n",
       "      <th>...</th>\n",
       "      <td>...</td>\n",
       "      <td>...</td>\n",
       "      <td>...</td>\n",
       "      <td>...</td>\n",
       "      <td>...</td>\n",
       "    </tr>\n",
       "    <tr>\n",
       "      <th>2019-12-12 15:47:00-05:00</th>\n",
       "      <td>7.96</td>\n",
       "      <td>7.9600</td>\n",
       "      <td>7.9415</td>\n",
       "      <td>7.9584</td>\n",
       "      <td>12094</td>\n",
       "    </tr>\n",
       "    <tr>\n",
       "      <th>2019-12-12 15:48:00-05:00</th>\n",
       "      <td>7.95</td>\n",
       "      <td>7.9700</td>\n",
       "      <td>7.9458</td>\n",
       "      <td>7.9700</td>\n",
       "      <td>7774</td>\n",
       "    </tr>\n",
       "    <tr>\n",
       "      <th>2019-12-12 15:49:00-05:00</th>\n",
       "      <td>7.96</td>\n",
       "      <td>7.9600</td>\n",
       "      <td>7.9599</td>\n",
       "      <td>7.9600</td>\n",
       "      <td>4058</td>\n",
       "    </tr>\n",
       "    <tr>\n",
       "      <th>2019-12-12 15:50:00-05:00</th>\n",
       "      <td>7.97</td>\n",
       "      <td>7.9792</td>\n",
       "      <td>7.9672</td>\n",
       "      <td>7.9700</td>\n",
       "      <td>4849</td>\n",
       "    </tr>\n",
       "    <tr>\n",
       "      <th>2019-12-12 15:51:00-05:00</th>\n",
       "      <td>7.97</td>\n",
       "      <td>7.9700</td>\n",
       "      <td>7.9600</td>\n",
       "      <td>7.9600</td>\n",
       "      <td>3596</td>\n",
       "    </tr>\n",
       "  </tbody>\n",
       "</table>\n",
       "<p>1000 rows × 5 columns</p>\n",
       "</div>"
      ],
      "text/plain": [
       "                           open    high     low   close  volume\n",
       "timestamp                                                      \n",
       "2019-12-10 11:45:00-05:00  7.18  7.1850  7.1701  7.1850    7956\n",
       "2019-12-10 11:46:00-05:00  7.18  7.2000  7.1800  7.1900    8036\n",
       "2019-12-10 11:47:00-05:00  7.19  7.2000  7.1900  7.2000    2786\n",
       "2019-12-10 11:48:00-05:00  7.20  7.2000  7.1900  7.1900    9884\n",
       "2019-12-10 11:49:00-05:00  7.19  7.1900  7.1900  7.1900     200\n",
       "...                         ...     ...     ...     ...     ...\n",
       "2019-12-12 15:47:00-05:00  7.96  7.9600  7.9415  7.9584   12094\n",
       "2019-12-12 15:48:00-05:00  7.95  7.9700  7.9458  7.9700    7774\n",
       "2019-12-12 15:49:00-05:00  7.96  7.9600  7.9599  7.9600    4058\n",
       "2019-12-12 15:50:00-05:00  7.97  7.9792  7.9672  7.9700    4849\n",
       "2019-12-12 15:51:00-05:00  7.97  7.9700  7.9600  7.9600    3596\n",
       "\n",
       "[1000 rows x 5 columns]"
      ]
     },
     "execution_count": 16,
     "metadata": {},
     "output_type": "execute_result"
    }
   ],
   "source": [
    "minute_history"
   ]
  },
  {
   "cell_type": "code",
   "execution_count": 17,
   "metadata": {},
   "outputs": [],
   "source": [
    "hist = macd(minute_history[\"close\"].dropna(),\n",
    "     n_fast=12,\n",
    "     n_slow=26)"
   ]
  },
  {
   "cell_type": "code",
   "execution_count": 18,
   "metadata": {},
   "outputs": [
    {
     "name": "stdout",
     "output_type": "stream",
     "text": [
      "timestamp\n",
      "2019-12-10 11:45:00-05:00         NaN\n",
      "2019-12-10 11:46:00-05:00         NaN\n",
      "2019-12-10 11:47:00-05:00         NaN\n",
      "2019-12-10 11:48:00-05:00         NaN\n",
      "2019-12-10 11:49:00-05:00         NaN\n",
      "                               ...   \n",
      "2019-12-12 15:47:00-05:00    0.001949\n",
      "2019-12-12 15:48:00-05:00    0.000405\n",
      "2019-12-12 15:49:00-05:00   -0.000011\n",
      "2019-12-12 15:50:00-05:00   -0.001134\n",
      "2019-12-12 15:51:00-05:00   -0.001204\n",
      "Name: MACD_12_26, Length: 1000, dtype: float64\n"
     ]
    }
   ],
   "source": [
    "print(hist)"
   ]
  },
  {
   "cell_type": "code",
   "execution_count": 19,
   "metadata": {},
   "outputs": [
    {
     "data": {
      "text/plain": [
       "-0.0012040706398268597"
      ]
     },
     "execution_count": 19,
     "metadata": {},
     "output_type": "execute_result"
    }
   ],
   "source": [
    "hist[-1]"
   ]
  },
  {
   "cell_type": "code",
   "execution_count": 20,
   "metadata": {},
   "outputs": [
    {
     "data": {
      "text/plain": [
       "-0.0011343936663656962"
      ]
     },
     "execution_count": 20,
     "metadata": {},
     "output_type": "execute_result"
    }
   ],
   "source": [
    "hist[-2]"
   ]
  },
  {
   "cell_type": "code",
   "execution_count": 21,
   "metadata": {},
   "outputs": [
    {
     "data": {
      "text/plain": [
       "-1.0778421455803766e-05"
      ]
     },
     "execution_count": 21,
     "metadata": {},
     "output_type": "execute_result"
    }
   ],
   "source": [
    "hist[-3]"
   ]
  },
  {
   "cell_type": "code",
   "execution_count": null,
   "metadata": {},
   "outputs": [],
   "source": []
  }
 ],
 "metadata": {
  "kernelspec": {
   "display_name": "Python 3",
   "language": "python",
   "name": "python3"
  },
  "language_info": {
   "codemirror_mode": {
    "name": "ipython",
    "version": 3
   },
   "file_extension": ".py",
   "mimetype": "text/x-python",
   "name": "python",
   "nbconvert_exporter": "python",
   "pygments_lexer": "ipython3",
   "version": "3.8.0"
  }
 },
 "nbformat": 4,
 "nbformat_minor": 2
}
