{
 "cells": [
  {
   "cell_type": "markdown",
   "metadata": {},
   "source": [
    "   # Conceptual design for Liu ML approach"
   ]
  },
  {
   "cell_type": "markdown",
   "metadata": {},
   "source": [
    "## Objectives\n",
    "\n",
    "* Automatically generate a predictive model, per strategy that predicts probability of openning a position for a given stock,\n",
    "* The framework should use off-hours calculations to train predictive models, based on various price `influencers`, \n",
    "* Extend the Strategy base class with functions for getting open / close position probability based on symbol and minute_data,\n",
    "* High-Performance, real time probability calculation,\n",
    "* Probability that could be used as a buy/sell signal, or risk measurement from position sizing."
   ]
  },
  {
   "cell_type": "markdown",
   "metadata": {},
   "source": [
    "\n"
   ]
  },
  {
   "cell_type": "markdown",
   "metadata": {},
   "source": [
    "## Challenges / Open Questions\n",
    "\n",
    "* What are the set of `influence` variables on a stock price?\n",
    "* What should be the NN model and architecture?\n",
    "* Software Architecture changes for efficient off-hour calculations, \n",
    "* Software Archtecture for real-time model predition calculations,\n",
    "* Which libraries to use? PyTorch? Kares? \n",
    "* What hardware is required?"
   ]
  },
  {
   "cell_type": "markdown",
   "metadata": {},
   "source": [
    "## What are we tring to predict?\n",
    "\n",
    "The probability of the stock to have a significant gains today (> 1%), the next few days (> 3%), in the near future (> 10%)"
   ]
  },
  {
   "cell_type": "markdown",
   "metadata": {},
   "source": [
    "## Influences on a specific stock price\n",
    "\n",
    "### Excogenous\n",
    "\n",
    "* Overwhole Market sentiment, where is the money flowing?\n",
    "* Insdusty / Segment influence - impact of similar to current industry trend on the stock price,\n",
    "\n",
    "### Endogenous\n",
    "\n",
    "* OHLC & Volume - impact of similar price & volume behaviours on stock up trend,\n",
    "* Proximity to stock calendar - past impact of proximity to an event (earning, dividend schedule),\n",
    "* Past performance of stock for the specific symbol,"
   ]
  },
  {
   "cell_type": "markdown",
   "metadata": {},
   "source": [
    "## Development Plan\n",
    "\n",
    "1. notebook for LSTM sample for a symbol\n"
   ]
  }
 ],
 "metadata": {
  "kernelspec": {
   "display_name": "Python 3",
   "language": "python",
   "name": "python3"
  },
  "language_info": {
   "codemirror_mode": {
    "name": "ipython",
    "version": 3
   },
   "file_extension": ".py",
   "mimetype": "text/x-python",
   "name": "python",
   "nbconvert_exporter": "python",
   "pygments_lexer": "ipython3",
   "version": "3.8.0"
  }
 },
 "nbformat": 4,
 "nbformat_minor": 4
}
