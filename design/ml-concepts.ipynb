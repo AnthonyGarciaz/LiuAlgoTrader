{
 "cells": [
  {
   "cell_type": "markdown",
   "metadata": {},
   "source": [
    "   # Conceptual design for Liu ML approach"
   ]
  },
  {
   "cell_type": "markdown",
   "metadata": {},
   "source": [
    "## Objectives"
   ]
  },
  {
   "cell_type": "markdown",
   "metadata": {},
   "source": [
    "* Automatically generate a predictive model, per strategy that predicts probability of openning a position for a given stock,\n",
    "* The framework should use off-hours calculations to train predictive models, based on various price `influencers`, \n",
    "* Extend the Strategy base class with functions for getting open / close position probability based on symbol and minute_data,\n",
    "* High-Performance, real time probability calculation,\n",
    "* Probability that could be used as a buy/sell signal, or risk measurement from position sizing.\n"
   ]
  },
  {
   "cell_type": "markdown",
   "metadata": {},
   "source": [
    "## Challenges / Open Questions"
   ]
  },
  {
   "cell_type": "markdown",
   "metadata": {},
   "source": [
    "* What are the set of `influence` variables on a stock price?\n",
    "* What should be the NN model and architecture?\n",
    "* Software Architecture changes for efficient off-hour calculations, \n",
    "* Software Archtecture for real-time model predition calculations,\n",
    "* Which libraries to use? PyTorch? Kares? \n",
    "* What hardware is required?"
   ]
  },
  {
   "cell_type": "code",
   "execution_count": null,
   "metadata": {},
   "outputs": [],
   "source": []
  }
 ],
 "metadata": {
  "kernelspec": {
   "display_name": "Python 3",
   "language": "python",
   "name": "python3"
  },
  "language_info": {
   "codemirror_mode": {
    "name": "ipython",
    "version": 3
   },
   "file_extension": ".py",
   "mimetype": "text/x-python",
   "name": "python",
   "nbconvert_exporter": "python",
   "pygments_lexer": "ipython3",
   "version": "3.8.0"
  }
 },
 "nbformat": 4,
 "nbformat_minor": 4
}
