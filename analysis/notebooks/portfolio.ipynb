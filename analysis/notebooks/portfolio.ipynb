{
 "cells": [
  {
   "cell_type": "markdown",
   "metadata": {},
   "source": [
    "## Take Action: Select portfolio for analysis"
   ]
  },
  {
   "cell_type": "code",
   "execution_count": null,
   "metadata": {},
   "outputs": [],
   "source": [
    "portfolio_id = \"041187df-881e-4a26-8d1e-0d0ad11e3938\"\n",
    "account_id = 98\n",
    "initial_amount = 10000.0"
   ]
  },
  {
   "cell_type": "markdown",
   "metadata": {},
   "source": [
    "### Imports"
   ]
  },
  {
   "cell_type": "code",
   "execution_count": null,
   "metadata": {},
   "outputs": [],
   "source": [
    "import matplotlib.pyplot as plt\n",
    "import empyrical as ep\n",
    "import math\n",
    "import pandas as pd\n",
    "import numpy as np\n",
    "from IPython.display import HTML, display, Markdown\n",
    "from liualgotrader.analytics import analysis\n",
    "import matplotlib.ticker as mtick\n",
    "%matplotlib inline"
   ]
  },
  {
   "cell_type": "markdown",
   "metadata": {},
   "source": [
    "### Load data details"
   ]
  },
  {
   "cell_type": "code",
   "execution_count": null,
   "metadata": {},
   "outputs": [],
   "source": [
    "portfolio_returns = analysis.calc_portfolio_returns(account_id, initial_amount, portfolio_id)"
   ]
  },
  {
   "cell_type": "code",
   "execution_count": null,
   "metadata": {},
   "outputs": [],
   "source": [
    "portfolio_returns"
   ]
  },
  {
   "cell_type": "code",
   "execution_count": null,
   "metadata": {},
   "outputs": [],
   "source": [
    "spy_returns = analysis.compare_to_symbol_returns(portfolio_id, \"SPY\")"
   ]
  },
  {
   "cell_type": "code",
   "execution_count": null,
   "metadata": {},
   "outputs": [],
   "source": [
    "spy_returns"
   ]
  },
  {
   "cell_type": "markdown",
   "metadata": {},
   "source": [
    "### Data Prep"
   ]
  },
  {
   "cell_type": "code",
   "execution_count": null,
   "metadata": {},
   "outputs": [],
   "source": [
    "def get_max_drawdown_underwater(underwater):\n",
    "    \"\"\"\n",
    "    !!!!!!!!!!!!!!!!\n",
    "    !!FROM PYFOLIO!!\n",
    "    !!!!!!!!!!!!!!!!\n",
    "    Determines peak, valley, and recovery dates given an 'underwater'\n",
    "    DataFrame.\n",
    "    An underwater DataFrame is a DataFrame that has precomputed\n",
    "    rolling drawdown.\n",
    "    Parameters\n",
    "    ----------\n",
    "    underwater : pd.Series\n",
    "       Underwater returns (rolling drawdown) of a strategy.\n",
    "    Returns\n",
    "    -------\n",
    "    peak : datetime\n",
    "        The maximum drawdown's peak.\n",
    "    valley : datetime\n",
    "        The maximum drawdown's valley.\n",
    "    recovery : datetime\n",
    "        The maximum drawdown's recovery.\n",
    "    \"\"\"\n",
    "\n",
    "    valley = underwater.idxmin()  # end of the period\n",
    "    # Find first 0\n",
    "    peak = underwater[:valley][underwater[:valley] == 0].index[-1]\n",
    "    # Find last 0\n",
    "    try:\n",
    "        recovery = underwater[valley:][underwater[valley:] == 0].index[0]\n",
    "    except IndexError:\n",
    "        recovery = np.nan  # drawdown not recovered\n",
    "    return peak, valley, recovery\n",
    "\n",
    "\n",
    "def get_top_drawdowns(returns, top=10):\n",
    "    \"\"\"\n",
    "\n",
    "    Finds top drawdowns, sorted by drawdown amount.\n",
    "    Parameters\n",
    "    ----------\n",
    "    returns : pd.Series\n",
    "        Daily returns of the strategy, noncumulative.\n",
    "         - See full explanation in tears.create_full_tear_sheet.\n",
    "    top : int, optional\n",
    "        The amount of top drawdowns to find (default 10).\n",
    "    Returns\n",
    "    -------\n",
    "    drawdowns : list\n",
    "        List of drawdown peaks, valleys, and recoveries. See get_max_drawdown.\n",
    "    \"\"\"\n",
    "\n",
    "    returns = returns.copy()\n",
    "    df_cum = ep.cum_returns(returns, 1.0)\n",
    "    running_max = np.maximum.accumulate(df_cum)\n",
    "    underwater = df_cum / running_max - 1\n",
    "\n",
    "    drawdowns = []\n",
    "    for _ in range(top):\n",
    "        peak, valley, recovery = get_max_drawdown_underwater(underwater)\n",
    "        # Slice out draw-down period\n",
    "        if not pd.isnull(recovery):\n",
    "            underwater.drop(underwater[peak: recovery].index[1:-1],\n",
    "                            inplace=True)\n",
    "        else:\n",
    "            # drawdown has not ended yet\n",
    "            underwater = underwater.loc[:peak]\n",
    "\n",
    "        drawdowns.append((peak, valley, recovery))\n",
    "        if ((len(returns) == 0)\n",
    "                or (len(underwater) == 0)\n",
    "                or (np.min(underwater) == 0)):\n",
    "            break\n",
    "\n",
    "    return drawdowns\n",
    "\n",
    "def my_rolling_sharpe(y):\n",
    "    return np.sqrt(126) * (y.mean() / y.std()) # 21 days per month X 6 months = 126"
   ]
  },
  {
   "cell_type": "code",
   "execution_count": null,
   "metadata": {},
   "outputs": [],
   "source": [
    "me_pct = portfolio_returns.totals.pct_change(1)\n",
    "me = me_pct.add(1).cumprod().dropna().sub(1).mul(100)\n",
    "portfolio_returns[\"volatility\"] = portfolio_returns.totals.pct_change(1).rolling(20).std()\n",
    "my_volatility = portfolio_returns[\"volatility\"].cumsum().dropna()"
   ]
  },
  {
   "cell_type": "code",
   "execution_count": null,
   "metadata": {},
   "outputs": [],
   "source": [
    "portfolio_returns.totals.pct_change(1).dropna().add(1).cumprod().dropna().sub(1).mul(100)"
   ]
  },
  {
   "cell_type": "code",
   "execution_count": null,
   "metadata": {},
   "outputs": [],
   "source": [
    "market = pd.DataFrame(spy_returns.pct_change(1).dropna().add(1).cumprod().dropna().sub(1).mul(100))\n",
    "market[\"volatility\"] = spy_returns.pct_change(1).rolling(20).std()\n",
    "market_volatility = market[\"volatility\"].cumsum().dropna()"
   ]
  },
  {
   "cell_type": "code",
   "execution_count": null,
   "metadata": {},
   "outputs": [],
   "source": [
    "drawdown_periods = get_top_drawdowns(me_pct, top=5)"
   ]
  },
  {
   "cell_type": "code",
   "execution_count": null,
   "metadata": {},
   "outputs": [],
   "source": [
    "portfolio_returns['rs'] = portfolio_returns.totals.pct_change(1).rolling(60).apply(my_rolling_sharpe).dropna()"
   ]
  },
  {
   "cell_type": "markdown",
   "metadata": {},
   "source": [
    "## Visuals"
   ]
  },
  {
   "cell_type": "markdown",
   "metadata": {},
   "source": [
    "### Portfolio Summary"
   ]
  },
  {
   "cell_type": "code",
   "execution_count": null,
   "metadata": {},
   "outputs": [],
   "source": [
    "fig= plt.figure(figsize=(20,15))\n",
    "ax1 = plt.subplot2grid(shape=(4, 1), loc=(0, 0), rowspan=2)\n",
    "ax2 = plt.subplot2grid(shape=(4, 1), loc=(2, 0), rowspan=1)\n",
    "#ax3 = plt.subplot2grid(shape=(4, 1), loc=(3, 0), rowspan=1)\n",
    "fig.subplots_adjust(hspace=0.5)\n",
    "ax1.plot(portfolio_returns.totals, color=\"green\", linewidth=3.0, label='total')\n",
    "ax1.plot(portfolio_returns['equity'], color=\"green\", linewidth=1.0, label='equity')\n",
    "ax1.set_title(\"Portfolio $ Value over time\", fontsize=16)\n",
    "ax2.plot(me_pct, color=\"black\", linewidth=3.0)\n",
    "for box in drawdown_periods:\n",
    "    x2 = str(box[1])\n",
    "    ax2.fill_between(x=[str(box[0]), x2 if x2 != 'nan' else str(me_pct.index[-1])], y1=me_pct.max(), y2=me_pct.min(), alpha=0.5)\n",
    "#ax2.set_title(\"Drawdown periods\", fontsize=16)\n",
    "#ax3.set_title(\"Rolling (60 Days) Sharpe Ratio\", fontsize=14)\n",
    "#ax3.plot(portfolio_returns['rs'], color=\"black\", linewidth=3.0)\n",
    "plt.show()"
   ]
  },
  {
   "cell_type": "markdown",
   "metadata": {},
   "source": [
    "### Benchmark"
   ]
  },
  {
   "cell_type": "code",
   "execution_count": null,
   "metadata": {},
   "outputs": [],
   "source": [
    "fig= plt.figure(figsize=(20,12))\n",
    "ax1 = plt.subplot2grid(shape=(3, 1), loc=(0, 0), rowspan=2)\n",
    "ax2 = plt.subplot2grid(shape=(3, 1), loc=(2, 0), rowspan=1)\n",
    "fig.subplots_adjust(hspace=0.5)\n",
    "ax1.plot(me, label =\"me\", color=\"green\", linewidth=3.0)\n",
    "ax1.plot(market.SPY, label =\"SP500\", color=\"black\")\n",
    "ax1.set_title(\"My Algo vs. SP500 index\", fontsize=16)\n",
    "plt.xticks(rotation=45)\n",
    "ax1.yaxis.set_major_formatter(mtick.PercentFormatter())\n",
    "ax1.grid(color='gray', linestyle='-', linewidth=0.5)\n",
    "ax1.legend()\n",
    "ax2.plot(portfolio_returns[\"volatility\"].dropna(), label=\"me\", color=\"green\", linewidth=3.0) \n",
    "ax2.plot(market[\"volatility\"].dropna(), label=\"market\", color=\"black\") \n",
    "ax2.set_title(\"Volatility\", fontsize=16)\n",
    "ax2.legend\n",
    "plt.show()"
   ]
  }
 ],
 "metadata": {
  "kernelspec": {
   "display_name": "Python 3",
   "language": "python",
   "name": "python3"
  },
  "language_info": {
   "codemirror_mode": {
    "name": "ipython",
    "version": 3
   },
   "file_extension": ".py",
   "mimetype": "text/x-python",
   "name": "python",
   "nbconvert_exporter": "python",
   "pygments_lexer": "ipython3",
   "version": "3.9.0"
  }
 },
 "nbformat": 4,
 "nbformat_minor": 2
}
