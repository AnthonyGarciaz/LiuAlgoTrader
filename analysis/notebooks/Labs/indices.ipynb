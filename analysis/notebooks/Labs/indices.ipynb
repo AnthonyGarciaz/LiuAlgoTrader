{
 "cells": [
  {
   "cell_type": "markdown",
   "metadata": {},
   "source": [
    "# Indices Lab"
   ]
  },
  {
   "cell_type": "markdown",
   "metadata": {},
   "source": [
    "## SP500 symbol list"
   ]
  },
  {
   "cell_type": "code",
   "execution_count": null,
   "metadata": {},
   "outputs": [],
   "source": [
    "from liualgotrader.common.market_data import index_data\n",
    "sp500 = await index_data(\"SP500\")\n",
    "sp500"
   ]
  },
  {
   "cell_type": "markdown",
   "metadata": {},
   "source": [
    "## SP500 historical data feed"
   ]
  },
  {
   "cell_type": "code",
   "execution_count": null,
   "metadata": {},
   "outputs": [],
   "source": [
    "from liualgotrader.common.market_data import index_history\n",
    "\n",
    "sp500_data = await index_history(\"SP500\", 200)\n",
    "sp500_data"
   ]
  },
  {
   "cell_type": "code",
   "execution_count": null,
   "metadata": {},
   "outputs": [],
   "source": [
    "sp500_data.Close.pct_change()"
   ]
  },
  {
   "cell_type": "markdown",
   "metadata": {},
   "source": [
    "## Is SP500 trending up?"
   ]
  },
  {
   "cell_type": "code",
   "execution_count": null,
   "metadata": {},
   "outputs": [],
   "source": [
    "last_200 = sp500_data.Close[-200:]\n",
    "sma_200 = 1.0 * last_200.sum() / len(last_200)\n",
    "sp500 = sp500_data.Close.values[-1]"
   ]
  },
  {
   "cell_type": "code",
   "execution_count": null,
   "metadata": {},
   "outputs": [],
   "source": [
    "print(f\"SP500 SMA 200: ${round(sma_200, 2)}\\n\\nSP500: ${round(sp500,2)}\")"
   ]
  },
  {
   "cell_type": "code",
   "execution_count": null,
   "metadata": {},
   "outputs": [],
   "source": [
    "sp500 > sma_200"
   ]
  },
  {
   "cell_type": "code",
   "execution_count": null,
   "metadata": {},
   "outputs": [],
   "source": [
    "import pandas as pd\n",
    "table = pd.read_html(\n",
    "            \"https://en.wikipedia.org/wiki/List_of_S%26P_500_companies\"\n",
    "        )"
   ]
  },
  {
   "cell_type": "code",
   "execution_count": null,
   "metadata": {},
   "outputs": [],
   "source": [
    "table[0]"
   ]
  },
  {
   "cell_type": "code",
   "execution_count": null,
   "metadata": {},
   "outputs": [],
   "source": [
    "changes = table[1]"
   ]
  },
  {
   "cell_type": "code",
   "execution_count": null,
   "metadata": {},
   "outputs": [],
   "source": [
    "from datetime import datetime\n",
    "\n",
    "changes[\"date\"] = changes.Date.apply(lambda x: datetime.strptime(x[0], '%B %d, %Y'), axis=1) \n",
    "changes.loc[changes.date > '2021-01-01']"
   ]
  },
  {
   "cell_type": "code",
   "execution_count": null,
   "metadata": {},
   "outputs": [],
   "source": [
    "def sp500_constituents(date):\n",
    "    table = pd.read_html(\n",
    "            \"https://en.wikipedia.org/wiki/List_of_S%26P_500_companies\"\n",
    "        )\n",
    "    symbols = table[0].Symbol.to_list()\n",
    "    changes = table[1]\n",
    "    changes[\"date\"] = changes.Date.apply(lambda x: datetime.strptime(x[0], '%B %d, %Y'), axis=1) \n",
    "    changes = changes.loc[changes.date > date]\n",
    "    added = changes.Added.dropna().Ticker.to_list()\n",
    "    removed = changes.Removed.dropna().Ticker.to_list()\n",
    "    return list(set(symbols) - set(added)) + removed\n",
    "    \n",
    "    "
   ]
  },
  {
   "cell_type": "code",
   "execution_count": null,
   "metadata": {},
   "outputs": [],
   "source": [
    "d=sp500_constituents(datetime.now())\n",
    "d"
   ]
  },
  {
   "cell_type": "code",
   "execution_count": null,
   "metadata": {},
   "outputs": [],
   "source": [
    "from datetime import timedelta\n",
    "table = pd.read_html(\n",
    "            \"https://en.wikipedia.org/wiki/List_of_S%26P_500_companies\"\n",
    "        )\n",
    "symbols = table[0].Symbol.to_list()\n",
    "changes = table[1]\n",
    "changes[\"date\"] = changes.Date.apply(lambda x: datetime.strptime(x[0], '%B %d, %Y'), axis=1) \n",
    "changes = changes.loc[changes.date > datetime.now() - timedelta(days=120)]\n",
    "changes\n"
   ]
  },
  {
   "cell_type": "code",
   "execution_count": null,
   "metadata": {},
   "outputs": [],
   "source": [
    "from liualgotrader.common.market_data import sp500_historical_constituents"
   ]
  },
  {
   "cell_type": "code",
   "execution_count": null,
   "metadata": {},
   "outputs": [],
   "source": [
    "sp = await sp500_historical_constituents('2021-01-04')"
   ]
  },
  {
   "cell_type": "code",
   "execution_count": null,
   "metadata": {},
   "outputs": [],
   "source": [
    "sp.sort()\n",
    "sp"
   ]
  }
 ],
 "metadata": {
  "kernelspec": {
   "display_name": "Python 3 (ipykernel)",
   "language": "python",
   "name": "python3"
  },
  "language_info": {
   "codemirror_mode": {
    "name": "ipython",
    "version": 3
   },
   "file_extension": ".py",
   "mimetype": "text/x-python",
   "name": "python",
   "nbconvert_exporter": "python",
   "pygments_lexer": "ipython3",
   "version": "3.9.0"
  }
 },
 "nbformat": 4,
 "nbformat_minor": 4
}
