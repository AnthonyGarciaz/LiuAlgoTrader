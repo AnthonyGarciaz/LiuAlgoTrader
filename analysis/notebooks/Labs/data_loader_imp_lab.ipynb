{
 "cells": [
  {
   "cell_type": "markdown",
   "id": "c584bb8d",
   "metadata": {},
   "source": [
    "# Breaking daily ranges"
   ]
  },
  {
   "cell_type": "code",
   "execution_count": null,
   "id": "1042bafa",
   "metadata": {},
   "outputs": [],
   "source": [
    "import pandas as pd\n",
    "from datetime import timedelta, date"
   ]
  },
  {
   "cell_type": "code",
   "execution_count": null,
   "id": "0961c11b",
   "metadata": {},
   "outputs": [],
   "source": [
    "start_date = date(year=2021, month=9, day=1)\n",
    "end_date = date(year=2021, month=11, day=1)"
   ]
  },
  {
   "cell_type": "code",
   "execution_count": null,
   "id": "2ac8608f",
   "metadata": {},
   "outputs": [],
   "source": [
    "d1=pd.date_range(start_date, end_date, freq=\"W-FRI\")\n",
    "d1"
   ]
  },
  {
   "cell_type": "code",
   "execution_count": null,
   "id": "b628da7b",
   "metadata": {},
   "outputs": [],
   "source": [
    "d2=pd.date_range(start_date, end_date, freq=\"W-MON\")\n",
    "d2"
   ]
  },
  {
   "cell_type": "code",
   "execution_count": null,
   "id": "9cea72d7",
   "metadata": {},
   "outputs": [],
   "source": [
    "ranges=[]\n",
    "ranges.append((pd.Timestamp(start_date), d1[0]))\n",
    "for s,e in zip(d2[:-1], d1[1:]):\n",
    "    ranges.append((s,e))\n",
    "ranges.append((d2[-1], pd.Timestamp(end_date)))\n",
    "ranges"
   ]
  },
  {
   "cell_type": "markdown",
   "id": "ca6baf0a",
   "metadata": {},
   "source": [
    "# Breaking hourly ranges"
   ]
  }
 ],
 "metadata": {
  "kernelspec": {
   "display_name": "Python 3 (ipykernel)",
   "language": "python",
   "name": "python3"
  },
  "language_info": {
   "codemirror_mode": {
    "name": "ipython",
    "version": 3
   },
   "file_extension": ".py",
   "mimetype": "text/x-python",
   "name": "python",
   "nbconvert_exporter": "python",
   "pygments_lexer": "ipython3",
   "version": "3.9.0"
  }
 },
 "nbformat": 4,
 "nbformat_minor": 5
}
