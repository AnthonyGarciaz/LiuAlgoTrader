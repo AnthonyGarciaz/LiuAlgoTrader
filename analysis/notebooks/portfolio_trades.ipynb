{
 "cells": [
  {
   "cell_type": "markdown",
   "metadata": {},
   "source": [
    "# Select protfolio-id for trades analysis"
   ]
  },
  {
   "cell_type": "code",
   "execution_count": null,
   "metadata": {},
   "outputs": [],
   "source": [
    "portfolio_id = \"2fa3036c-fd73-43e3-9a8a-971189147857\" ## enter portfolio id\n",
    "end_date = '2022-08-29' ## enter date e.g. '2022-01-22'"
   ]
  },
  {
   "cell_type": "markdown",
   "metadata": {},
   "source": [
    "#### imports"
   ]
  },
  {
   "cell_type": "code",
   "execution_count": null,
   "metadata": {},
   "outputs": [],
   "source": [
    "import asyncio\n",
    "import json\n",
    "import math\n",
    "import sys\n",
    "import datetime\n",
    "from datetime import date, datetime, timedelta\n",
    "\n",
    "import iso8601\n",
    "import matplotlib.pyplot as plt\n",
    "import nest_asyncio\n",
    "import numpy as np\n",
    "import pandas as pd\n",
    "import pytz\n",
    "import requests\n",
    "from dateutil import parser\n",
    "from IPython.display import HTML, display, Markdown\n",
    "from liualgotrader.analytics.analysis import (\n",
    "    calc_batch_revenue,\n",
    "    count_trades,\n",
    "    load_trades_by_portfolio,\n",
    "    trades_analysis,\n",
    "    symbol_trade_analytics,\n",
    ")\n",
    "\n",
    "from liualgotrader.common import config\n",
    "from liualgotrader.common.types import DataConnectorType\n",
    "from pandas import DataFrame as df\n",
    "from pytz import timezone\n",
    "from talib import BBANDS, MACD, RSI\n",
    "from liualgotrader.common.data_loader import DataLoader \n",
    "\n",
    "%matplotlib inline\n",
    "\n",
    "nest_asyncio.apply()"
   ]
  },
  {
   "cell_type": "code",
   "execution_count": null,
   "metadata": {},
   "outputs": [],
   "source": [
    "config.data_connector = DataConnectorType.alpaca\n",
    "end_date = datetime.strptime(end_date, \"%Y-%m-%d\")\n",
    "local = pytz.timezone(\"UTC\")\n",
    "end_date = local.localize(end_date, is_dst=None)"
   ]
  },
  {
   "cell_type": "markdown",
   "metadata": {},
   "source": [
    "#### Load batch data"
   ]
  },
  {
   "cell_type": "code",
   "execution_count": null,
   "metadata": {},
   "outputs": [],
   "source": [
    "trades = await load_trades_by_portfolio(portfolio_id)"
   ]
  },
  {
   "cell_type": "code",
   "execution_count": null,
   "metadata": {},
   "outputs": [],
   "source": [
    "trades"
   ]
  },
  {
   "cell_type": "code",
   "execution_count": null,
   "metadata": {},
   "outputs": [],
   "source": [
    "if trades.empty:\n",
    "    assert False, \"Empty batch. halting execution.\""
   ]
  },
  {
   "cell_type": "markdown",
   "metadata": {},
   "source": [
    "## Display trades in details"
   ]
  },
  {
   "cell_type": "code",
   "execution_count": null,
   "metadata": {},
   "outputs": [],
   "source": [
    "minute_history = DataLoader(connector=DataConnectorType.alpaca)\n",
    "nyc = timezone(\"America/New_York\")\n",
    "for symbol in trades.symbol.unique():\n",
    "    symbol_df = trades.loc[trades[\"symbol\"] == symbol]\n",
    "    start_date = symbol_df[\"client_time\"].min()\n",
    "    start_date = start_date.replace(hour=9, minute=30, second=0, tzinfo=nyc)\n",
    "    end_date =  end_date.replace(hour=16, minute=0, second=0, tzinfo=nyc)\n",
    "    cool_down_date = start_date + timedelta(minutes=5)\n",
    "    print(start_date, end_date)\n",
    "    try:\n",
    "        symbol_data = minute_history[symbol][start_date:end_date]\n",
    "    except Exception:\n",
    "        print(f\"failed loading {symbol} from {start_date} to {end_date}  -> skipping!\")\n",
    "        continue\n",
    "        \n",
    "    ind = symbol_data.index.get_indexer([start_date, end_date, cool_down_date], method=\"nearest\")\n",
    "    minute_history_index = ind[0]\n",
    "    end_index = ind[1]\n",
    "    cool_minute_history_index = ind[2]\n",
    "    open_price = symbol_data.close[cool_minute_history_index]\n",
    "    plt.plot(\n",
    "        symbol_data.close[minute_history_index:end_index].between_time(\n",
    "            \"9:30\", \"16:00\"\n",
    "        ),\n",
    "        label=symbol,\n",
    "    )\n",
    "    plt.xticks(rotation=45)\n",
    "\n",
    "    d, profit = symbol_trade_analytics(symbol_df, plt)\n",
    "    \n",
    "    print(f\"{symbol} analysis with profit {round(profit, 2)}\")\n",
    "    display(HTML(pd.DataFrame(data=d).to_html()))\n",
    "    plt.legend()\n",
    "    plt.show()"
   ]
  }
 ],
 "metadata": {
  "kernelspec": {
   "display_name": "Python 3 (ipykernel)",
   "language": "python",
   "name": "python3"
  },
  "language_info": {
   "codemirror_mode": {
    "name": "ipython",
    "version": 3
   },
   "file_extension": ".py",
   "mimetype": "text/x-python",
   "name": "python",
   "nbconvert_exporter": "python",
   "pygments_lexer": "ipython3",
   "version": "3.10.4"
  }
 },
 "nbformat": 4,
 "nbformat_minor": 2
}
