{
 "cells": [
  {
   "cell_type": "code",
   "execution_count": null,
   "metadata": {},
   "outputs": [],
   "source": [
    "import asyncio\n",
    "import os\n",
    "import sys\n",
    "\n",
    "import asyncpg\n",
    "\n",
    "from liualgotrader.common import trading_data\n",
    "from liualgotrader.common.database import create_db_connection\n",
    "from liualgotrader.common.market_data import (\n",
    "    get_market_industries,\n",
    "    get_market_sectors,\n",
    "    get_sector_tickers,\n",
    ")\n",
    "sys.path.insert(0, os.path.abspath(\"..\"))"
   ]
  },
  {
   "cell_type": "code",
   "execution_count": null,
   "metadata": {},
   "outputs": [],
   "source": [
    "loop = asyncio.get_event_loop()\n",
    "loop.create_task(create_db_connection(\"postgresql://momentum@localhost/tradedb\"))"
   ]
  },
  {
   "cell_type": "code",
   "execution_count": null,
   "metadata": {},
   "outputs": [],
   "source": [
    "task = loop.create_task(get_market_sectors(trading_data.db_conn_pool))\n",
    "sectors = await task\n",
    "sectors"
   ]
  },
  {
   "cell_type": "code",
   "execution_count": null,
   "metadata": {},
   "outputs": [],
   "source": [
    "task = loop.create_task(get_market_industries(trading_data.db_conn_pool))\n",
    "industries = await task\n",
    "industries"
   ]
  },
  {
   "cell_type": "code",
   "execution_count": null,
   "metadata": {},
   "outputs": [],
   "source": [
    "task = loop.create_task(get_sector_tickers(trading_data.db_conn_pool, \"Technology\"))\n",
    "sector_tickers = await task\n",
    "sector_tickers"
   ]
  },
  {
   "cell_type": "code",
   "execution_count": null,
   "metadata": {},
   "outputs": [],
   "source": [
    "task = loop.create_task(calculate_trends(trading_data.db_conn_pool))\n",
    "calculated = await task\n",
    "calculated"
   ]
  },
  {
   "cell_type": "code",
   "execution_count": null,
   "metadata": {},
   "outputs": [],
   "source": []
  }
 ],
 "metadata": {
  "kernelspec": {
   "display_name": "Python 3",
   "language": "python",
   "name": "python3"
  },
  "language_info": {
   "codemirror_mode": {
    "name": "ipython",
    "version": 3
   },
   "file_extension": ".py",
   "mimetype": "text/x-python",
   "name": "python",
   "nbconvert_exporter": "python",
   "pygments_lexer": "ipython3",
   "version": "3.8.0"
  }
 },
 "nbformat": 4,
 "nbformat_minor": 2
}
