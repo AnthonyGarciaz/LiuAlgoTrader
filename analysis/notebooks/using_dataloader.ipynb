{
 "cells": [
  {
   "cell_type": "code",
   "execution_count": null,
   "id": "b772ba97",
   "metadata": {},
   "outputs": [],
   "source": [
    "from liualgotrader.common.data_loader import DataLoader\n",
    "from liualgotrader.common.types import DataConnectorType, TimeScale"
   ]
  },
  {
   "cell_type": "code",
   "execution_count": null,
   "id": "e85d5004",
   "metadata": {},
   "outputs": [],
   "source": [
    "dl = DataLoader(scale = TimeScale.minute, connector = DataConnectorType.alpaca)"
   ]
  },
  {
   "cell_type": "code",
   "execution_count": null,
   "id": "242fcfda",
   "metadata": {},
   "outputs": [],
   "source": [
    "dl[\"BTCUSD\"][-1]"
   ]
  },
  {
   "cell_type": "code",
   "execution_count": null,
   "id": "e0eb2f23",
   "metadata": {},
   "outputs": [],
   "source": [
    "dl[\"BTCUSD\"][-10:]"
   ]
  },
  {
   "cell_type": "code",
   "execution_count": null,
   "id": "3a3aae39",
   "metadata": {},
   "outputs": [],
   "source": [
    "from datetime import timedelta, datetime\n",
    "\n",
    "now = datetime.utcnow()\n",
    "dl[\"ETHUSD\"].close[now-timedelta(days=60) : now].resample(\"15min\").last().rolling(50).mean().dropna().iloc[-1]"
   ]
  }
 ],
 "metadata": {
  "kernelspec": {
   "display_name": "venv",
   "language": "python",
   "name": "venv"
  },
  "language_info": {
   "codemirror_mode": {
    "name": "ipython",
    "version": 3
   },
   "file_extension": ".py",
   "mimetype": "text/x-python",
   "name": "python",
   "nbconvert_exporter": "python",
   "pygments_lexer": "ipython3",
   "version": "3.10.4"
  }
 },
 "nbformat": 4,
 "nbformat_minor": 5
}
