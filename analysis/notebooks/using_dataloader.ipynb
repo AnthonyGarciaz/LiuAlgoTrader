{
 "cells": [
  {
   "cell_type": "code",
   "execution_count": null,
   "id": "9b12a48f",
   "metadata": {},
   "outputs": [],
   "source": [
    "from liualgotrader.common.data_loader import DataLoader\n",
    "from liualgotrader.common.types import DataConnectorType, TimeScale"
   ]
  },
  {
   "cell_type": "code",
   "execution_count": null,
   "id": "54253e86",
   "metadata": {},
   "outputs": [],
   "source": [
    "dl = DataLoader(scale = TimeScale.minute, connector = DataConnectorType.alpaca)"
   ]
  },
  {
   "cell_type": "code",
   "execution_count": null,
   "id": "e57e2c1e",
   "metadata": {},
   "outputs": [],
   "source": [
    "dl[\"BTCUSD\"][-1]"
   ]
  },
  {
   "cell_type": "code",
   "execution_count": null,
   "id": "452b995c",
   "metadata": {},
   "outputs": [],
   "source": [
    "dl[\"BTCUSD\"][-10:]"
   ]
  }
 ],
 "metadata": {
  "kernelspec": {
   "display_name": "venv",
   "language": "python",
   "name": "venv"
  },
  "language_info": {
   "codemirror_mode": {
    "name": "ipython",
    "version": 3
   },
   "file_extension": ".py",
   "mimetype": "text/x-python",
   "name": "python",
   "nbconvert_exporter": "python",
   "pygments_lexer": "ipython3",
   "version": "3.10.4"
  }
 },
 "nbformat": 4,
 "nbformat_minor": 5
}
