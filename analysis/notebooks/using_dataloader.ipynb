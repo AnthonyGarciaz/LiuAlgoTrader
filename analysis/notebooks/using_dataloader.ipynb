{
 "cells": [
  {
   "cell_type": "code",
   "execution_count": null,
   "id": "b772ba97",
   "metadata": {},
   "outputs": [],
   "source": [
    "from liualgotrader.common.data_loader import DataLoader\n",
    "from liualgotrader.common.types import DataConnectorType, TimeScale"
   ]
  },
  {
   "cell_type": "markdown",
   "id": "f4832ee3",
   "metadata": {},
   "source": [
    "## Sample BTC / ETH data loading"
   ]
  },
  {
   "cell_type": "code",
   "execution_count": null,
   "id": "e85d5004",
   "metadata": {},
   "outputs": [],
   "source": [
    "dl = DataLoader(scale = TimeScale.minute, connector = DataConnectorType.alpaca)"
   ]
  },
  {
   "cell_type": "code",
   "execution_count": null,
   "id": "242fcfda",
   "metadata": {},
   "outputs": [],
   "source": [
    "dl[\"BTC/USD\"][-1]"
   ]
  },
  {
   "cell_type": "code",
   "execution_count": null,
   "id": "c75536d7",
   "metadata": {},
   "outputs": [],
   "source": [
    "dl[\"ETH/USD\"][-1]"
   ]
  },
  {
   "cell_type": "code",
   "execution_count": null,
   "id": "e0eb2f23",
   "metadata": {},
   "outputs": [],
   "source": [
    "dl[\"BTCUSD\"][-10:]"
   ]
  },
  {
   "cell_type": "code",
   "execution_count": null,
   "id": "9b7efcec",
   "metadata": {},
   "outputs": [],
   "source": [
    "dl[\"ETH/USD\"][-580:]"
   ]
  },
  {
   "cell_type": "markdown",
   "id": "2f27169c",
   "metadata": {},
   "source": [
    "## SMA Sample"
   ]
  },
  {
   "cell_type": "code",
   "execution_count": null,
   "id": "3a3aae39",
   "metadata": {},
   "outputs": [],
   "source": [
    "from datetime import timedelta, datetime\n",
    "\n",
    "now = datetime.utcnow()\n",
    "d = dl[\"ETH/USD\"].close[-1500 : now]\n",
    "d"
   ]
  },
  {
   "cell_type": "code",
   "execution_count": null,
   "id": "57a7e2b8",
   "metadata": {},
   "outputs": [],
   "source": [
    "d[-580:]"
   ]
  },
  {
   "cell_type": "code",
   "execution_count": null,
   "id": "d1a99982",
   "metadata": {},
   "outputs": [],
   "source": [
    "d = d.resample(\"15min\").last()\n",
    "d[-50:]"
   ]
  },
  {
   "cell_type": "code",
   "execution_count": null,
   "id": "13fe2e0f",
   "metadata": {},
   "outputs": [],
   "source": [
    "d = d.rolling(50)\n",
    "d"
   ]
  },
  {
   "cell_type": "code",
   "execution_count": null,
   "id": "ea415aee",
   "metadata": {},
   "outputs": [],
   "source": [
    "d = d.mean().dropna()\n",
    "d"
   ]
  },
  {
   "cell_type": "code",
   "execution_count": null,
   "id": "013803e8",
   "metadata": {},
   "outputs": [],
   "source": [
    "d.iloc[-1]"
   ]
  }
 ],
 "metadata": {
  "kernelspec": {
   "display_name": "venv",
   "language": "python",
   "name": "venv"
  },
  "language_info": {
   "codemirror_mode": {
    "name": "ipython",
    "version": 3
   },
   "file_extension": ".py",
   "mimetype": "text/x-python",
   "name": "python",
   "nbconvert_exporter": "python",
   "pygments_lexer": "ipython3",
   "version": "3.10.4"
  }
 },
 "nbformat": 4,
 "nbformat_minor": 5
}
